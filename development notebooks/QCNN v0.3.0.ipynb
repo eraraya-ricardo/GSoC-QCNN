{
  "nbformat": 4,
  "nbformat_minor": 0,
  "metadata": {
    "colab": {
      "name": "QCNN v3",
      "provenance": [],
      "collapsed_sections": [
        "ARIa23aPlZWi",
        "6aiIu_yVQ5Mw",
        "dFenkr6PQ9mM"
      ],
      "machine_shape": "hm"
    },
    "kernelspec": {
      "display_name": "Python 3",
      "name": "python3"
    },
    "language_info": {
      "name": "python"
    },
    "accelerator": "GPU"
  },
  "cells": [
    {
      "cell_type": "code",
      "metadata": {
        "id": "RaIumi5ol3UX",
        "colab": {
          "base_uri": "https://localhost:8080/"
        },
        "outputId": "1e1bd2ec-c905-4622-c301-1c4b11c3f157"
      },
      "source": [
        "gpu_info = !nvidia-smi\n",
        "gpu_info = '\\n'.join(gpu_info)\n",
        "if gpu_info.find('failed') >= 0:\n",
        "  print('Select the Runtime > \"Change runtime type\" menu to enable a GPU accelerator, ')\n",
        "  print('and then re-execute this cell.')\n",
        "else:\n",
        "  print(gpu_info)"
      ],
      "execution_count": 7,
      "outputs": [
        {
          "output_type": "stream",
          "text": [
            "Tue Jul 13 13:13:26 2021       \n",
            "+-----------------------------------------------------------------------------+\n",
            "| NVIDIA-SMI 470.42.01    Driver Version: 460.32.03    CUDA Version: 11.2     |\n",
            "|-------------------------------+----------------------+----------------------+\n",
            "| GPU  Name        Persistence-M| Bus-Id        Disp.A | Volatile Uncorr. ECC |\n",
            "| Fan  Temp  Perf  Pwr:Usage/Cap|         Memory-Usage | GPU-Util  Compute M. |\n",
            "|                               |                      |               MIG M. |\n",
            "|===============================+======================+======================|\n",
            "|   0  Tesla P100-PCIE...  Off  | 00000000:00:04.0 Off |                    0 |\n",
            "| N/A   44C    P0    27W / 250W |      0MiB / 16280MiB |      0%      Default |\n",
            "|                               |                      |                  N/A |\n",
            "+-------------------------------+----------------------+----------------------+\n",
            "                                                                               \n",
            "+-----------------------------------------------------------------------------+\n",
            "| Processes:                                                                  |\n",
            "|  GPU   GI   CI        PID   Type   Process name                  GPU Memory |\n",
            "|        ID   ID                                                   Usage      |\n",
            "|=============================================================================|\n",
            "|  No running processes found                                                 |\n",
            "+-----------------------------------------------------------------------------+\n"
          ],
          "name": "stdout"
        }
      ]
    },
    {
      "cell_type": "code",
      "metadata": {
        "id": "JI5TfxXFl4l2",
        "colab": {
          "base_uri": "https://localhost:8080/"
        },
        "outputId": "7c21c4bd-7685-4893-c75b-7bfc278a7a25"
      },
      "source": [
        "from psutil import virtual_memory\n",
        "ram_gb = virtual_memory().total / 1e9\n",
        "print('Your runtime has {:.1f} gigabytes of available RAM\\n'.format(ram_gb))\n",
        "\n",
        "if ram_gb < 20:\n",
        "  print('To enable a high-RAM runtime, select the Runtime > \"Change runtime type\"')\n",
        "  print('menu, and then select High-RAM in the Runtime shape dropdown. Then, ')\n",
        "  print('re-execute this cell.')\n",
        "else:\n",
        "  print('You are using a high-RAM runtime!')"
      ],
      "execution_count": 8,
      "outputs": [
        {
          "output_type": "stream",
          "text": [
            "Your runtime has 27.3 gigabytes of available RAM\n",
            "\n",
            "You are using a high-RAM runtime!\n"
          ],
          "name": "stdout"
        }
      ]
    },
    {
      "cell_type": "code",
      "metadata": {
        "id": "AJFcPfydasST"
      },
      "source": [
        "!pip install tensorflow==2.4.1\n",
        "!pip install tensorflow-quantum==0.5.1\n",
        "\n",
        "from IPython.display import clear_output\n",
        "clear_output()"
      ],
      "execution_count": 3,
      "outputs": []
    },
    {
      "cell_type": "code",
      "metadata": {
        "id": "AAXf9dTRv4Ls",
        "colab": {
          "base_uri": "https://localhost:8080/",
          "height": 36
        },
        "outputId": "bb9699ca-2b1a-474f-9f1d-4aa7efca9658"
      },
      "source": [
        "import sys\n",
        "sys.version"
      ],
      "execution_count": 9,
      "outputs": [
        {
          "output_type": "execute_result",
          "data": {
            "application/vnd.google.colaboratory.intrinsic+json": {
              "type": "string"
            },
            "text/plain": [
              "'3.7.10 (default, May  3 2021, 02:48:31) \\n[GCC 7.5.0]'"
            ]
          },
          "metadata": {
            "tags": []
          },
          "execution_count": 9
        }
      ]
    },
    {
      "cell_type": "code",
      "metadata": {
        "id": "4_d2oWk8aNmL"
      },
      "source": [
        "# main dependencies\n",
        "import tensorflow as tf  # 2.4.1\n",
        "import tensorflow_quantum as tfq  # 0.5.1\n",
        "import cirq  # 0.11.0\n",
        "import sympy  # 1.5\n",
        "import numpy as np  # 1.19.5\n",
        "from functools import reduce\n",
        "\n",
        "# visualization tools\n",
        "%matplotlib inline\n",
        "import matplotlib.pyplot as plt\n",
        "from cirq.contrib.svg import SVGCircuit\n",
        "\n",
        "# data preprocessing\n",
        "from sklearn.model_selection import train_test_split\n",
        "from sklearn.preprocessing import StandardScaler\n",
        "\n",
        "# load saved weights\n",
        "import h5py\n",
        "\n",
        "import os"
      ],
      "execution_count": 10,
      "outputs": []
    },
    {
      "cell_type": "markdown",
      "metadata": {
        "id": "KQFGzh2ojf4-"
      },
      "source": [
        "## Loading the Dataset"
      ]
    },
    {
      "cell_type": "code",
      "metadata": {
        "id": "DG7V_yEhbQze",
        "colab": {
          "base_uri": "https://localhost:8080/"
        },
        "outputId": "b3dead4b-8bd2-4bbf-edbe-d9a53304555e"
      },
      "source": [
        "with h5py.File(\"/content/drive/My Drive/Projects/GSoC 2021/electron-photon-dataset/photon.hdf5\", \"r\") as f:\n",
        "  px = np.asarray(f['X'][()], dtype=np.float32)\n",
        "  py = np.asarray(f['y'][()], dtype=np.float32)\n",
        "  print(\"Loaded photon dataset!\")\n",
        "\n",
        "with h5py.File(\"/content/drive/My Drive/Projects/GSoC 2021/electron-photon-dataset/electron.hdf5\", \"r\") as f:\n",
        "  ex = np.asarray(f['X'][()], dtype=np.float32)\n",
        "  ey = np.asarray(f['y'][()], dtype=np.float32)\n",
        "  print(\"Loaded electron dataset!\")\n",
        "\n",
        "print(\"Photon dataset shape:\", px.shape, py.shape)\n",
        "print(\"Electron dataset shape:\", ex.shape, ey.shape)"
      ],
      "execution_count": 11,
      "outputs": [
        {
          "output_type": "stream",
          "text": [
            "Loaded photon dataset!\n",
            "Loaded electron dataset!\n",
            "Photon dataset shape: (249000, 32, 32, 2) (249000,)\n",
            "Electron dataset shape: (249000, 32, 32, 2) (249000,)\n"
          ],
          "name": "stdout"
        }
      ]
    },
    {
      "cell_type": "code",
      "metadata": {
        "id": "RyLN331LZzbZ",
        "colab": {
          "base_uri": "https://localhost:8080/",
          "height": 284
        },
        "outputId": "160eb996-661a-4375-d77f-f4e6d3e2c0ae"
      },
      "source": [
        "# photon average image\n",
        "\n",
        "plt.imshow(np.mean(px[:, :, :, 0], axis=0))"
      ],
      "execution_count": 12,
      "outputs": [
        {
          "output_type": "execute_result",
          "data": {
            "text/plain": [
              "<matplotlib.image.AxesImage at 0x7f3436c31e50>"
            ]
          },
          "metadata": {
            "tags": []
          },
          "execution_count": 12
        },
        {
          "output_type": "display_data",
          "data": {
            "image/png": "[encoded data removed]",
            "text/plain": [
              "<Figure size 432x288 with 1 Axes>"
            ]
          },
          "metadata": {
            "tags": [],
            "needs_background": "light"
          }
        }
      ]
    },
    {
      "cell_type": "code",
      "metadata": {
        "id": "Z9oj6eQIaCZB",
        "colab": {
          "base_uri": "https://localhost:8080/",
          "height": 284
        },
        "outputId": "ebeb224a-337c-4a15-d439-c7fbc429c825"
      },
      "source": [
        "# electron average image\n",
        "\n",
        "plt.imshow(np.mean(ex[:, :, :, 0], axis=0))"
      ],
      "execution_count": 13,
      "outputs": [
        {
          "output_type": "execute_result",
          "data": {
            "text/plain": [
              "<matplotlib.image.AxesImage at 0x7f3436729050>"
            ]
          },
          "metadata": {
            "tags": []
          },
          "execution_count": 13
        },
        {
          "output_type": "display_data",
          "data": {
            "image/png": "[encoded data removed]",
            "text/plain": [
              "<Figure size 432x288 with 1 Axes>"
            ]
          },
          "metadata": {
            "tags": [],
            "needs_background": "light"
          }
        }
      ]
    },
    {
      "cell_type": "code",
      "metadata": {
        "id": "pTJGAa6FbVjG",
        "colab": {
          "base_uri": "https://localhost:8080/"
        },
        "outputId": "7e5142e0-f015-4453-8ba6-7067955b3be1"
      },
      "source": [
        "max_photon, min_photon = np.max(px[:, :, :, 0]), np.min(px[:, :, :, 0])\n",
        "max_electron, min_electron = np.max(ex[:, :, :, 0]), np.min(ex[:, :, :, 0])\n",
        "\n",
        "print(max_photon, min_photon)\n",
        "print(max_electron, min_electron)\n",
        "max(max_photon, abs(min_photon), max_electron, abs(min_electron))"
      ],
      "execution_count": 14,
      "outputs": [
        {
          "output_type": "stream",
          "text": [
            "1.4849443 0.0\n",
            "1.431813 0.0\n"
          ],
          "name": "stdout"
        },
        {
          "output_type": "execute_result",
          "data": {
            "text/plain": [
              "1.4849443"
            ]
          },
          "metadata": {
            "tags": []
          },
          "execution_count": 14
        }
      ]
    },
    {
      "cell_type": "code",
      "metadata": {
        "id": "d0D3TciEbae5",
        "colab": {
          "base_uri": "https://localhost:8080/"
        },
        "outputId": "cf99eaea-2d56-4ff8-d702-892619e81b91"
      },
      "source": [
        "sample_size = 10000\n",
        "\n",
        "X = np.concatenate((px[:, :, :, 0], ex[:, :, :, 0]), axis=0)\n",
        "y = np.concatenate((py[:], ey[:]), axis=0)\n",
        "\n",
        "_, X, _, y = train_test_split(X, y, test_size=sample_size, random_state=88)\n",
        "\n",
        "print(X.shape, y.shape)"
      ],
      "execution_count": 15,
      "outputs": [
        {
          "output_type": "stream",
          "text": [
            "(10000, 32, 32) (10000,)\n"
          ],
          "name": "stdout"
        }
      ]
    },
    {
      "cell_type": "markdown",
      "metadata": {
        "id": "WaaZSy7ZZY8o"
      },
      "source": [
        "## Dataset Preprocessing"
      ]
    },
    {
      "cell_type": "markdown",
      "metadata": {
        "id": "6Fq4L7rXaToG"
      },
      "source": [
        "Position of maximum value pixel."
      ]
    },
    {
      "cell_type": "code",
      "metadata": {
        "id": "nFDjq1NOaOdb",
        "colab": {
          "base_uri": "https://localhost:8080/"
        },
        "outputId": "024e0638-0415-49f5-f2bb-775dfc7fcee5"
      },
      "source": [
        "print(\"Proton:\", np.argmax(np.mean(px[:, :, :, 0], axis=0)))\n",
        "print(\"Electron:\", np.argmax(np.mean(ex[:, :, :, 0], axis=0)))"
      ],
      "execution_count": 16,
      "outputs": [
        {
          "output_type": "stream",
          "text": [
            "Proton: 528\n",
            "Electron: 528\n"
          ],
          "name": "stdout"
        }
      ]
    },
    {
      "cell_type": "markdown",
      "metadata": {
        "id": "JUhYVUCsaoe_"
      },
      "source": [
        "Crop from 32x32 to 8x8, maintaining the maximum value pixel at the center."
      ]
    },
    {
      "cell_type": "code",
      "metadata": {
        "id": "7WVdHJu4an0z",
        "colab": {
          "base_uri": "https://localhost:8080/"
        },
        "outputId": "15dd309f-92cb-4fec-a208-c031b98a4282"
      },
      "source": [
        "center = [int(528/32), 528%32]\n",
        "\n",
        "img_size = 8\n",
        "\n",
        "X = X[:, (center[0]-int(img_size/2)):(center[0]+int(img_size/2)), (center[1]-int(img_size/2)):(center[1]+int(img_size/2))]\n",
        "X.shape"
      ],
      "execution_count": 17,
      "outputs": [
        {
          "output_type": "execute_result",
          "data": {
            "text/plain": [
              "(10000, 8, 8)"
            ]
          },
          "metadata": {
            "tags": []
          },
          "execution_count": 17
        }
      ]
    },
    {
      "cell_type": "markdown",
      "metadata": {
        "id": "3OCRwHkAcJZM"
      },
      "source": [
        "Train-Test Split."
      ]
    },
    {
      "cell_type": "code",
      "metadata": {
        "id": "HvkXXpCRby14",
        "colab": {
          "base_uri": "https://localhost:8080/"
        },
        "outputId": "e8311c00-b7fb-4edd-9d46-f1684ea7e38e"
      },
      "source": [
        "x_train, x_test, y_train, y_test = train_test_split(X, y, test_size=0.15, random_state=2021)\n",
        "\n",
        "y_train = tf.keras.utils.to_categorical(y_train)\n",
        "\n",
        "y_test = tf.keras.utils.to_categorical(y_test)\n",
        "\n",
        "print(\"Train set shape:\", x_train.shape, y_train.shape)\n",
        "print(\"Test set shape:\", x_test.shape, y_test.shape)"
      ],
      "execution_count": 18,
      "outputs": [
        {
          "output_type": "stream",
          "text": [
            "Train set shape: (8500, 8, 8) (8500, 2)\n",
            "Test set shape: (1500, 8, 8) (1500, 2)\n"
          ],
          "name": "stdout"
        }
      ]
    },
    {
      "cell_type": "code",
      "metadata": {
        "id": "452xWnzRcsg1",
        "colab": {
          "base_uri": "https://localhost:8080/",
          "height": 283
        },
        "outputId": "1184c252-b429-4a06-aabd-1f54eb3e57c0"
      },
      "source": [
        "# photon average image\n",
        "\n",
        "plt.imshow(np.mean(X[:int(len(X)/2), :, :], axis=0))"
      ],
      "execution_count": 19,
      "outputs": [
        {
          "output_type": "execute_result",
          "data": {
            "text/plain": [
              "<matplotlib.image.AxesImage at 0x7f34366b5f50>"
            ]
          },
          "metadata": {
            "tags": []
          },
          "execution_count": 19
        },
        {
          "output_type": "display_data",
          "data": {
            "image/png": "[encoded data removed]",
            "text/plain": [
              "<Figure size 432x288 with 1 Axes>"
            ]
          },
          "metadata": {
            "tags": [],
            "needs_background": "light"
          }
        }
      ]
    },
    {
      "cell_type": "code",
      "metadata": {
        "id": "AOXCJq9ldXcd",
        "colab": {
          "base_uri": "https://localhost:8080/",
          "height": 283
        },
        "outputId": "030ced04-1a37-45e2-bde6-1c0ee6f424c0"
      },
      "source": [
        "# electron average image\n",
        "\n",
        "plt.imshow(np.mean(X[int(len(X)/2):, :, :], axis=0))"
      ],
      "execution_count": 20,
      "outputs": [
        {
          "output_type": "execute_result",
          "data": {
            "text/plain": [
              "<matplotlib.image.AxesImage at 0x7f343661a250>"
            ]
          },
          "metadata": {
            "tags": []
          },
          "execution_count": 20
        },
        {
          "output_type": "display_data",
          "data": {
            "image/png": "[encoded data removed]",
            "text/plain": [
              "<Figure size 432x288 with 1 Axes>"
            ]
          },
          "metadata": {
            "tags": [],
            "needs_background": "light"
          }
        }
      ]
    },
    {
      "cell_type": "code",
      "metadata": {
        "id": "7oQvmv4IPryh"
      },
      "source": [
        "del px, py, ex, ey"
      ],
      "execution_count": null,
      "outputs": []
    },
    {
      "cell_type": "markdown",
      "metadata": {
        "id": "ARIa23aPlZWi"
      },
      "source": [
        "## Graph-Convolution Preprocessing"
      ]
    },
    {
      "cell_type": "markdown",
      "metadata": {
        "id": "6aiIu_yVQ5Mw"
      },
      "source": [
        "### Adjacency Matrix"
      ]
    },
    {
      "cell_type": "code",
      "metadata": {
        "id": "_Tj7PrY4bmzW"
      },
      "source": [
        "img_size = 32\n",
        "adjacency = np.zeros((img_size**2, img_size**2), dtype=np.float64)\n",
        "gaussian_scale = np.pi\n",
        "\n",
        "# k = y-axis of the A matrix\n",
        "# i = y-axis of the image\n",
        "# j = x-axis of the image\n",
        "for k in range(img_size**2):\n",
        "    for i in range(img_size):\n",
        "        for j in range(img_size):\n",
        "            x_1 = k%img_size  # x coordinate of the pixel-k in the A matrix\n",
        "            x_2 = j  # x coordinate of the image\n",
        "\n",
        "            y_1 = int(k/img_size)  # y coordinate of the pixel-k in the A matrix\n",
        "            y_2 = i  # y coordinate of the image\n",
        "\n",
        "            adjacency[k, i*img_size + j] = np.exp(-np.sqrt((x_1-x_2)**2 + (y_1-y_2)**2)/(gaussian_scale**2))"
      ],
      "execution_count": null,
      "outputs": []
    },
    {
      "cell_type": "code",
      "metadata": {
        "colab": {
          "base_uri": "https://localhost:8080/",
          "height": 287
        },
        "id": "icv6eBI9fVsu",
        "outputId": "92537aad-8c36-490f-f943-6b26742a9afb"
      },
      "source": [
        "plt.imshow(np.log10(adjacency))"
      ],
      "execution_count": null,
      "outputs": [
        {
          "output_type": "execute_result",
          "data": {
            "text/plain": [
              "<matplotlib.image.AxesImage at 0x7f6031539350>"
            ]
          },
          "metadata": {
            "tags": []
          },
          "execution_count": 13
        },
        {
          "output_type": "display_data",
          "data": {
            "image/png": "[encoded data removed]",
            "text/plain": [
              "<Figure size 432x288 with 1 Axes>"
            ]
          },
          "metadata": {
            "tags": []
          }
        }
      ]
    },
    {
      "cell_type": "markdown",
      "metadata": {
        "id": "dFenkr6PQ9mM"
      },
      "source": [
        "### Average Plot of A^2 X"
      ]
    },
    {
      "cell_type": "code",
      "metadata": {
        "colab": {
          "base_uri": "https://localhost:8080/",
          "height": 284
        },
        "id": "RhfoyPAXQn0-",
        "outputId": "e8f0e6ad-ecba-413d-c013-98e03e82d575"
      },
      "source": [
        "# photon\n",
        "\n",
        "plt.imshow((adjacency@adjacency@(np.mean(px[:, :, :, 0], axis=0).reshape(-1,))).reshape(32,32))"
      ],
      "execution_count": null,
      "outputs": [
        {
          "output_type": "execute_result",
          "data": {
            "text/plain": [
              "<matplotlib.image.AxesImage at 0x7f6022942f90>"
            ]
          },
          "metadata": {
            "tags": []
          },
          "execution_count": 26
        },
        {
          "output_type": "display_data",
          "data": {
            "image/png": "[encoded data removed]",
            "text/plain": [
              "<Figure size 432x288 with 1 Axes>"
            ]
          },
          "metadata": {
            "tags": []
          }
        }
      ]
    },
    {
      "cell_type": "code",
      "metadata": {
        "colab": {
          "base_uri": "https://localhost:8080/",
          "height": 284
        },
        "id": "jW-MGgQLQ131",
        "outputId": "1db94987-3ecd-4d30-cf43-d2391dc90529"
      },
      "source": [
        "# electron\n",
        "\n",
        "plt.imshow((adjacency@adjacency@(np.mean(ex[:, :, :, 0], axis=0).reshape(-1,))).reshape(32,32))"
      ],
      "execution_count": null,
      "outputs": [
        {
          "output_type": "execute_result",
          "data": {
            "text/plain": [
              "<matplotlib.image.AxesImage at 0x7f60228bb310>"
            ]
          },
          "metadata": {
            "tags": []
          },
          "execution_count": 27
        },
        {
          "output_type": "display_data",
          "data": {
            "image/png": "[encoded data removed]",
            "text/plain": [
              "<Figure size 432x288 with 1 Axes>"
            ]
          },
          "metadata": {
            "tags": []
          }
        }
      ]
    },
    {
      "cell_type": "code",
      "metadata": {
        "colab": {
          "base_uri": "https://localhost:8080/",
          "height": 530
        },
        "id": "Bue7empQle3j",
        "outputId": "fa0a6ab4-729a-4349-da3f-f62752d64f89"
      },
      "source": [
        "# photon\n",
        "\n",
        "fig=plt.figure(figsize=(10, 10))\n",
        "columns = 5\n",
        "rows = 3\n",
        "random_integer = np.random.randint(0, high=len(px), size=columns*rows)\n",
        "for i in range(1, columns*rows +1):\n",
        "    img = (adjacency@adjacency@px[random_integer[i-1], :, :, 0].reshape(-1,)).reshape(32,32)\n",
        "    fig.add_subplot(rows, columns, i)\n",
        "    plt.imshow(img, cmap='viridis')\n",
        "plt.show()"
      ],
      "execution_count": null,
      "outputs": [
        {
          "output_type": "display_data",
          "data": {
            "image/png": "[encoded data removed]",
            "text/plain": [
              "<Figure size 720x720 with 15 Axes>"
            ]
          },
          "metadata": {
            "tags": []
          }
        }
      ]
    },
    {
      "cell_type": "code",
      "metadata": {
        "colab": {
          "base_uri": "https://localhost:8080/",
          "height": 530
        },
        "id": "7R5rbooWmUZH",
        "outputId": "1021550d-d4e1-421c-dd50-5408c7f9d016"
      },
      "source": [
        "fig=plt.figure(figsize=(10, 10))\n",
        "columns = 5\n",
        "rows = 3\n",
        "random_integer = np.random.randint(0, high=len(ex), size=columns*rows)\n",
        "for i in range(1, columns*rows +1):\n",
        "    img = (adjacency@adjacency@(ex[random_integer[i-1], :, :, 0].reshape(-1,))).reshape(32,32)\n",
        "    fig.add_subplot(rows, columns, i)\n",
        "    plt.imshow(img, cmap='viridis')\n",
        "plt.show()"
      ],
      "execution_count": null,
      "outputs": [
        {
          "output_type": "display_data",
          "data": {
            "image/png": "[encoded data removed]",
            "text/plain": [
              "<Figure size 720x720 with 15 Axes>"
            ]
          },
          "metadata": {
            "tags": []
          }
        }
      ]
    },
    {
      "cell_type": "markdown",
      "metadata": {
        "id": "n2rwxdBdjaVq"
      },
      "source": [
        "## Building the Networks"
      ]
    },
    {
      "cell_type": "code",
      "metadata": {
        "id": "zSE3YyWht-vw"
      },
      "source": [
        "def one_qubit_rotation(qubit, symbols):\n",
        "    \"\"\"\n",
        "    Returns Cirq gates that apply a rotation of the bloch sphere about the X,\n",
        "    Y and Z axis, specified by the values in `symbols`.\n",
        "    \"\"\"\n",
        "    return [cirq.rx(symbols[0])(qubit),\n",
        "            cirq.ry(symbols[1])(qubit),\n",
        "            cirq.rz(symbols[2])(qubit)]\n"
      ],
      "execution_count": 21,
      "outputs": []
    },
    {
      "cell_type": "code",
      "metadata": {
        "id": "W2MA565wwNUJ"
      },
      "source": [
        "def entangling_layer(qubits):\n",
        "    \"\"\"\n",
        "    Returns a layer of CZ entangling gates on `qubits` (arranged in a circular topology).\n",
        "    \"\"\"\n",
        "    cx_ops = [cirq.CX(q0, q1) for q0, q1 in zip(qubits, qubits[1:])]\n",
        "    cx_ops += ([cirq.CX(qubits[-1], qubits[0])] if len(qubits) != 2 else [])\n",
        "    return cx_ops"
      ],
      "execution_count": 22,
      "outputs": []
    },
    {
      "cell_type": "code",
      "metadata": {
        "id": "ZF7Aox8Uu0kY"
      },
      "source": [
        "def generate_circuit(qubits, n_layers):\n",
        "    \"\"\"Prepares a data re-uploading circuit on `qubits` with `n_layers` layers.\"\"\"\n",
        "    # Number of qubits\n",
        "    n_qubits = len(qubits)\n",
        "\n",
        "    # Sympy symbols for weights and bias parameters\n",
        "    params = sympy.symbols(f'theta(0:{n_qubits*n_layers*3})')\n",
        "    params = np.asarray(params).reshape((n_layers, 3, n_qubits))\n",
        "\n",
        "    # Sympy symbols for input features\n",
        "    inputs = sympy.symbols(f'x(0:{2*n_qubits})')\n",
        "    inputs = np.asarray(inputs).reshape((2, n_qubits))\n",
        "\n",
        "    # Define circuit\n",
        "    circuit = cirq.Circuit()\n",
        "\n",
        "    # Encoding layer\n",
        "    for q in range(n_qubits):\n",
        "        circuit += cirq.Circuit([cirq.ry(inputs[0, q])(qubits[q]), cirq.rz(inputs[1, q])(qubits[q])])\n",
        "\n",
        "    # Variational layer\n",
        "    for l in range(n_layers):\n",
        "        circuit += entangling_layer(qubits)\n",
        "        for q in range(n_qubits):\n",
        "            circuit += cirq.Circuit(one_qubit_rotation(qubits[q], params[l, :, q]))\n",
        "\n",
        "    return circuit, list(params.flat), list(inputs.flat)\n"
      ],
      "execution_count": 23,
      "outputs": []
    },
    {
      "cell_type": "code",
      "metadata": {
        "id": "amJPfWeW0VWl",
        "colab": {
          "base_uri": "https://localhost:8080/",
          "height": 259
        },
        "outputId": "aa0a56ba-2884-4cd6-beeb-87528e4f7d25"
      },
      "source": [
        "filter_size = 2\n",
        "\n",
        "n_qubits, n_layers = filter_size*filter_size, 2\n",
        "\n",
        "qubits = cirq.GridQubit.rect(1, n_qubits)\n",
        "observables = [cirq.Z(qubits[0])] # Measure only the first qubit\n",
        "\n",
        "# generate the circuit\n",
        "circuit, theta_sym, inputs_sym = generate_circuit(qubits, n_layers)\n",
        "SVGCircuit(circuit)"
      ],
      "execution_count": 24,
      "outputs": [
        {
          "output_type": "stream",
          "text": [
            "findfont: Font family ['Arial'] not found. Falling back to DejaVu Sans.\n"
          ],
          "name": "stderr"
        },
        {
          "output_type": "execute_result",
          "data": {
            "text/plain": [
              "<cirq.contrib.svg.svg.SVGCircuit at 0x7f34365db450>"
            ],
            "image/svg+xml": "<svg xmlns=\"http://www.w3.org/2000/svg\" width=\"3497.625312500001\" height=\"200.0\"><line x1=\"34.7588671875\" x2=\"3467.625312500001\" y1=\"25.0\" y2=\"25.0\" stroke=\"#1967d2\" stroke-width=\"1\" /><line x1=\"34.7588671875\" x2=\"3467.625312500001\" y1=\"75.0\" y2=\"75.0\" stroke=\"#1967d2\" stroke-width=\"1\" /><line x1=\"34.7588671875\" x2=\"3467.625312500001\" y1=\"125.0\" y2=\"125.0\" stroke=\"#1967d2\" stroke-width=\"1\" /><line x1=\"34.7588671875\" x2=\"3467.625312500001\" y1=\"175.0\" y2=\"175.0\" stroke=\"#1967d2\" stroke-width=\"1\" /><line x1=\"396.70505859375\" x2=\"396.70505859375\" y1=\"25.0\" y2=\"75.0\" stroke=\"black\" stroke-width=\"3\" /><line x1=\"542.10314453125\" x2=\"542.10314453125\" y1=\"75.0\" y2=\"125.0\" stroke=\"black\" stroke-width=\"3\" /><line x1=\"681.110078125\" x2=\"681.110078125\" y1=\"125.0\" y2=\"175.0\" stroke=\"black\" stroke-width=\"3\" /><line x1=\"741.110078125\" x2=\"741.110078125\" y1=\"25.0\" y2=\"175.0\" stroke=\"black\" stroke-width=\"3\" /><line x1=\"1432.7191406250001\" x2=\"1432.7191406250001\" y1=\"25.0\" y2=\"75.0\" stroke=\"black\" stroke-width=\"3\" /><line x1=\"1746.8531250000003\" x2=\"1746.8531250000003\" y1=\"75.0\" y2=\"125.0\" stroke=\"black\" stroke-width=\"3\" /><line x1=\"2039.8315625000005\" x2=\"2039.8315625000005\" y1=\"125.0\" y2=\"175.0\" stroke=\"black\" stroke-width=\"3\" /><line x1=\"2099.8315625000005\" x2=\"2099.8315625000005\" y1=\"25.0\" y2=\"175.0\" stroke=\"black\" stroke-width=\"3\" /><rect x=\"10.0\" y=\"5.0\" width=\"49.517734375\" height=\"40\" stroke=\"black\" fill=\"white\" stroke-width=\"0\" /><text x=\"34.7588671875\" y=\"25.0\" dominant-baseline=\"middle\" text-anchor=\"middle\" font-size=\"14px\" font-family=\"Arial\">(0, 0): </text><rect x=\"10.0\" y=\"55.0\" width=\"49.517734375\" height=\"40\" stroke=\"black\" fill=\"white\" stroke-width=\"0\" /><text x=\"34.7588671875\" y=\"75.0\" dominant-baseline=\"middle\" text-anchor=\"middle\" font-size=\"14px\" font-family=\"Arial\">(0, 1): </text><rect x=\"10.0\" y=\"105.0\" width=\"49.517734375\" height=\"40\" stroke=\"black\" fill=\"white\" stroke-width=\"0\" /><text x=\"34.7588671875\" y=\"125.0\" dominant-baseline=\"middle\" text-anchor=\"middle\" font-size=\"14px\" font-family=\"Arial\">(0, 2): </text><rect x=\"10.0\" y=\"155.0\" width=\"49.517734375\" height=\"40\" stroke=\"black\" fill=\"white\" stroke-width=\"0\" /><text x=\"34.7588671875\" y=\"175.0\" dominant-baseline=\"middle\" text-anchor=\"middle\" font-size=\"14px\" font-family=\"Arial\">(0, 3): </text><rect x=\"79.517734375\" y=\"5.0\" width=\"52.7823046875\" height=\"40\" stroke=\"black\" fill=\"white\" stroke-width=\"1\" /><text x=\"105.90888671875001\" y=\"25.0\" dominant-baseline=\"middle\" text-anchor=\"middle\" font-size=\"14px\" font-family=\"Arial\">Ry(x0)</text><rect x=\"152.3000390625\" y=\"5.0\" width=\"52.61578125\" height=\"40\" stroke=\"black\" fill=\"white\" stroke-width=\"1\" /><text x=\"178.6079296875\" y=\"25.0\" dominant-baseline=\"middle\" text-anchor=\"middle\" font-size=\"14px\" font-family=\"Arial\">Rz(x4)</text><rect x=\"224.9158203125\" y=\"55.0\" width=\"52.7823046875\" height=\"40\" stroke=\"black\" fill=\"white\" stroke-width=\"1\" /><text x=\"251.30697265625\" y=\"75.0\" dominant-baseline=\"middle\" text-anchor=\"middle\" font-size=\"14px\" font-family=\"Arial\">Ry(x1)</text><rect x=\"297.698125\" y=\"55.0\" width=\"52.61578125\" height=\"40\" stroke=\"black\" fill=\"white\" stroke-width=\"1\" /><text x=\"324.00601562500003\" y=\"75.0\" dominant-baseline=\"middle\" text-anchor=\"middle\" font-size=\"14px\" font-family=\"Arial\">Rz(x5)</text><rect x=\"370.31390625\" y=\"105.0\" width=\"52.7823046875\" height=\"40\" stroke=\"black\" fill=\"white\" stroke-width=\"1\" /><text x=\"396.70505859375\" y=\"125.0\" dominant-baseline=\"middle\" text-anchor=\"middle\" font-size=\"14px\" font-family=\"Arial\">Ry(x2)</text><circle cx=\"396.70505859375\" cy=\"25.0\" r=\"10.0\" /><rect x=\"370.31390625\" y=\"55.0\" width=\"52.7823046875\" height=\"40\" stroke=\"black\" fill=\"white\" stroke-width=\"1\" /><text x=\"396.70505859375\" y=\"75.0\" dominant-baseline=\"middle\" text-anchor=\"middle\" font-size=\"18px\" font-family=\"Arial\">X</text><rect x=\"443.0962109375\" y=\"105.0\" width=\"52.61578125\" height=\"40\" stroke=\"black\" fill=\"white\" stroke-width=\"1\" /><text x=\"469.40410156250005\" y=\"125.0\" dominant-baseline=\"middle\" text-anchor=\"middle\" font-size=\"14px\" font-family=\"Arial\">Rz(x6)</text><rect x=\"515.7119921875\" y=\"155.0\" width=\"52.7823046875\" height=\"40\" stroke=\"black\" fill=\"white\" stroke-width=\"1\" /><text x=\"542.10314453125\" y=\"175.0\" dominant-baseline=\"middle\" text-anchor=\"middle\" font-size=\"14px\" font-family=\"Arial\">Ry(x3)</text><circle cx=\"542.10314453125\" cy=\"75.0\" r=\"10.0\" /><rect x=\"515.7119921875\" y=\"105.0\" width=\"52.7823046875\" height=\"40\" stroke=\"black\" fill=\"white\" stroke-width=\"1\" /><text x=\"542.10314453125\" y=\"125.0\" dominant-baseline=\"middle\" text-anchor=\"middle\" font-size=\"18px\" font-family=\"Arial\">X</text><rect x=\"588.494296875\" y=\"155.0\" width=\"52.61578125\" height=\"40\" stroke=\"black\" fill=\"white\" stroke-width=\"1\" /><text x=\"614.8021875000001\" y=\"175.0\" dominant-baseline=\"middle\" text-anchor=\"middle\" font-size=\"14px\" font-family=\"Arial\">Rz(x7)</text><circle cx=\"681.110078125\" cy=\"125.0\" r=\"10.0\" /><rect x=\"661.110078125\" y=\"155.0\" width=\"40\" height=\"40\" stroke=\"black\" fill=\"white\" stroke-width=\"1\" /><text x=\"681.110078125\" y=\"175.0\" dominant-baseline=\"middle\" text-anchor=\"middle\" font-size=\"18px\" font-family=\"Arial\">X</text><circle cx=\"741.110078125\" cy=\"175.0\" r=\"10.0\" /><rect x=\"721.110078125\" y=\"5.0\" width=\"40\" height=\"40\" stroke=\"black\" fill=\"white\" stroke-width=\"1\" /><text x=\"741.110078125\" y=\"25.0\" dominant-baseline=\"middle\" text-anchor=\"middle\" font-size=\"18px\" font-family=\"Arial\">X</text><rect x=\"781.110078125\" y=\"5.0\" width=\"82.31109375000001\" height=\"40\" stroke=\"black\" fill=\"white\" stroke-width=\"1\" /><text x=\"822.265625\" y=\"25.0\" dominant-baseline=\"middle\" text-anchor=\"middle\" font-size=\"14px\" font-family=\"Arial\">Rx(theta0)</text><rect x=\"883.421171875\" y=\"5.0\" width=\"81.54109375\" height=\"40\" stroke=\"black\" fill=\"white\" stroke-width=\"1\" /><text x=\"924.1917187500001\" y=\"25.0\" dominant-baseline=\"middle\" text-anchor=\"middle\" font-size=\"14px\" font-family=\"Arial\">Ry(theta4)</text><rect x=\"984.9622656249999\" y=\"5.0\" width=\"81.37457031250001\" height=\"40\" stroke=\"black\" fill=\"white\" stroke-width=\"1\" /><text x=\"1025.64955078125\" y=\"25.0\" dominant-baseline=\"middle\" text-anchor=\"middle\" font-size=\"14px\" font-family=\"Arial\">Rz(theta8)</text><rect x=\"1086.3368359375\" y=\"55.0\" width=\"82.31109375000001\" height=\"40\" stroke=\"black\" fill=\"white\" stroke-width=\"1\" /><text x=\"1127.4923828125\" y=\"75.0\" dominant-baseline=\"middle\" text-anchor=\"middle\" font-size=\"14px\" font-family=\"Arial\">Rx(theta1)</text><rect x=\"1188.6479296875\" y=\"55.0\" width=\"81.54109375\" height=\"40\" stroke=\"black\" fill=\"white\" stroke-width=\"1\" /><text x=\"1229.4184765625\" y=\"75.0\" dominant-baseline=\"middle\" text-anchor=\"middle\" font-size=\"14px\" font-family=\"Arial\">Ry(theta5)</text><rect x=\"1290.1890234375\" y=\"55.0\" width=\"81.37457031250001\" height=\"40\" stroke=\"black\" fill=\"white\" stroke-width=\"1\" /><text x=\"1330.87630859375\" y=\"75.0\" dominant-baseline=\"middle\" text-anchor=\"middle\" font-size=\"14px\" font-family=\"Arial\">Rz(theta9)</text><rect x=\"1391.56359375\" y=\"105.0\" width=\"82.31109375000001\" height=\"40\" stroke=\"black\" fill=\"white\" stroke-width=\"1\" /><text x=\"1432.7191406250001\" y=\"125.0\" dominant-baseline=\"middle\" text-anchor=\"middle\" font-size=\"14px\" font-family=\"Arial\">Rx(theta2)</text><circle cx=\"1432.7191406250001\" cy=\"25.0\" r=\"10.0\" /><rect x=\"1391.56359375\" y=\"55.0\" width=\"82.31109375000001\" height=\"40\" stroke=\"black\" fill=\"white\" stroke-width=\"1\" /><text x=\"1432.7191406250001\" y=\"75.0\" dominant-baseline=\"middle\" text-anchor=\"middle\" font-size=\"18px\" font-family=\"Arial\">X</text><rect x=\"1493.8746875000002\" y=\"105.0\" width=\"81.54109375\" height=\"40\" stroke=\"black\" fill=\"white\" stroke-width=\"1\" /><text x=\"1534.6452343750002\" y=\"125.0\" dominant-baseline=\"middle\" text-anchor=\"middle\" font-size=\"14px\" font-family=\"Arial\">Ry(theta6)</text><rect x=\"1595.4157812500002\" y=\"105.0\" width=\"90.28179687500001\" height=\"40\" stroke=\"black\" fill=\"white\" stroke-width=\"1\" /><text x=\"1640.5566796875003\" y=\"125.0\" dominant-baseline=\"middle\" text-anchor=\"middle\" font-size=\"14px\" font-family=\"Arial\">Rz(theta10)</text><rect x=\"1705.6975781250003\" y=\"155.0\" width=\"82.31109375000001\" height=\"40\" stroke=\"black\" fill=\"white\" stroke-width=\"1\" /><text x=\"1746.8531250000003\" y=\"175.0\" dominant-baseline=\"middle\" text-anchor=\"middle\" font-size=\"14px\" font-family=\"Arial\">Rx(theta3)</text><circle cx=\"1746.8531250000003\" cy=\"75.0\" r=\"10.0\" /><rect x=\"1705.6975781250003\" y=\"105.0\" width=\"82.31109375000001\" height=\"40\" stroke=\"black\" fill=\"white\" stroke-width=\"1\" /><text x=\"1746.8531250000003\" y=\"125.0\" dominant-baseline=\"middle\" text-anchor=\"middle\" font-size=\"18px\" font-family=\"Arial\">X</text><rect x=\"1808.0086718750003\" y=\"155.0\" width=\"81.54109375\" height=\"40\" stroke=\"black\" fill=\"white\" stroke-width=\"1\" /><text x=\"1848.7792187500004\" y=\"175.0\" dominant-baseline=\"middle\" text-anchor=\"middle\" font-size=\"14px\" font-family=\"Arial\">Ry(theta7)</text><rect x=\"1909.5497656250004\" y=\"155.0\" width=\"90.28179687500001\" height=\"40\" stroke=\"black\" fill=\"white\" stroke-width=\"1\" /><text x=\"1954.6906640625004\" y=\"175.0\" dominant-baseline=\"middle\" text-anchor=\"middle\" font-size=\"14px\" font-family=\"Arial\">Rz(theta11)</text><circle cx=\"2039.8315625000005\" cy=\"125.0\" r=\"10.0\" /><rect x=\"2019.8315625000005\" y=\"155.0\" width=\"40\" height=\"40\" stroke=\"black\" fill=\"white\" stroke-width=\"1\" /><text x=\"2039.8315625000005\" y=\"175.0\" dominant-baseline=\"middle\" text-anchor=\"middle\" font-size=\"18px\" font-family=\"Arial\">X</text><circle cx=\"2099.8315625000005\" cy=\"175.0\" r=\"10.0\" /><rect x=\"2079.8315625000005\" y=\"5.0\" width=\"40\" height=\"40\" stroke=\"black\" fill=\"white\" stroke-width=\"1\" /><text x=\"2099.8315625000005\" y=\"25.0\" dominant-baseline=\"middle\" text-anchor=\"middle\" font-size=\"18px\" font-family=\"Arial\">X</text><rect x=\"2139.8315625000005\" y=\"5.0\" width=\"91.21832031250001\" height=\"40\" stroke=\"black\" fill=\"white\" stroke-width=\"1\" /><text x=\"2185.4407226562503\" y=\"25.0\" dominant-baseline=\"middle\" text-anchor=\"middle\" font-size=\"14px\" font-family=\"Arial\">Rx(theta12)</text><rect x=\"2251.0498828125005\" y=\"5.0\" width=\"90.4483203125\" height=\"40\" stroke=\"black\" fill=\"white\" stroke-width=\"1\" /><text x=\"2296.2740429687506\" y=\"25.0\" dominant-baseline=\"middle\" text-anchor=\"middle\" font-size=\"14px\" font-family=\"Arial\">Ry(theta16)</text><rect x=\"2361.4982031250006\" y=\"5.0\" width=\"90.28179687500001\" height=\"40\" stroke=\"black\" fill=\"white\" stroke-width=\"1\" /><text x=\"2406.6391015625004\" y=\"25.0\" dominant-baseline=\"middle\" text-anchor=\"middle\" font-size=\"14px\" font-family=\"Arial\">Rz(theta20)</text><rect x=\"2471.7800000000007\" y=\"55.0\" width=\"91.21832031250001\" height=\"40\" stroke=\"black\" fill=\"white\" stroke-width=\"1\" /><text x=\"2517.3891601562505\" y=\"75.0\" dominant-baseline=\"middle\" text-anchor=\"middle\" font-size=\"14px\" font-family=\"Arial\">Rx(theta13)</text><rect x=\"2582.9983203125007\" y=\"55.0\" width=\"90.4483203125\" height=\"40\" stroke=\"black\" fill=\"white\" stroke-width=\"1\" /><text x=\"2628.2224804687507\" y=\"75.0\" dominant-baseline=\"middle\" text-anchor=\"middle\" font-size=\"14px\" font-family=\"Arial\">Ry(theta17)</text><rect x=\"2693.446640625001\" y=\"55.0\" width=\"90.28179687500001\" height=\"40\" stroke=\"black\" fill=\"white\" stroke-width=\"1\" /><text x=\"2738.5875390625006\" y=\"75.0\" dominant-baseline=\"middle\" text-anchor=\"middle\" font-size=\"14px\" font-family=\"Arial\">Rz(theta21)</text><rect x=\"2803.728437500001\" y=\"105.0\" width=\"91.21832031250001\" height=\"40\" stroke=\"black\" fill=\"white\" stroke-width=\"1\" /><text x=\"2849.3375976562506\" y=\"125.0\" dominant-baseline=\"middle\" text-anchor=\"middle\" font-size=\"14px\" font-family=\"Arial\">Rx(theta14)</text><rect x=\"2914.946757812501\" y=\"105.0\" width=\"90.4483203125\" height=\"40\" stroke=\"black\" fill=\"white\" stroke-width=\"1\" /><text x=\"2960.170917968751\" y=\"125.0\" dominant-baseline=\"middle\" text-anchor=\"middle\" font-size=\"14px\" font-family=\"Arial\">Ry(theta18)</text><rect x=\"3025.395078125001\" y=\"105.0\" width=\"90.28179687500001\" height=\"40\" stroke=\"black\" fill=\"white\" stroke-width=\"1\" /><text x=\"3070.5359765625008\" y=\"125.0\" dominant-baseline=\"middle\" text-anchor=\"middle\" font-size=\"14px\" font-family=\"Arial\">Rz(theta22)</text><rect x=\"3135.676875000001\" y=\"155.0\" width=\"91.21832031250001\" height=\"40\" stroke=\"black\" fill=\"white\" stroke-width=\"1\" /><text x=\"3181.286035156251\" y=\"175.0\" dominant-baseline=\"middle\" text-anchor=\"middle\" font-size=\"14px\" font-family=\"Arial\">Rx(theta15)</text><rect x=\"3246.895195312501\" y=\"155.0\" width=\"90.4483203125\" height=\"40\" stroke=\"black\" fill=\"white\" stroke-width=\"1\" /><text x=\"3292.119355468751\" y=\"175.0\" dominant-baseline=\"middle\" text-anchor=\"middle\" font-size=\"14px\" font-family=\"Arial\">Ry(theta19)</text><rect x=\"3357.343515625001\" y=\"155.0\" width=\"90.28179687500001\" height=\"40\" stroke=\"black\" fill=\"white\" stroke-width=\"1\" /><text x=\"3402.484414062501\" y=\"175.0\" dominant-baseline=\"middle\" text-anchor=\"middle\" font-size=\"14px\" font-family=\"Arial\">Rz(theta23)</text></svg>"
          },
          "metadata": {
            "tags": []
          },
          "execution_count": 24
        }
      ]
    },
    {
      "cell_type": "code",
      "metadata": {
        "id": "Z-GqQLdxd5n3"
      },
      "source": [
        "class ConvKernelPQC(tf.keras.layers.Layer):\n",
        "    def __init__(self, n_layers, filter_size, name=\"ConvKernel_PQC\"):\n",
        "        super(ConvKernelPQC, self).__init__(name=name)\n",
        "\n",
        "        self.n_layers = n_layers\n",
        "        self.filter_size = filter_size\n",
        "        self.main_name = name\n",
        "\n",
        "        self.n_qubits = filter_size*filter_size\n",
        "        self.qubits = cirq.GridQubit.rect(1, self.n_qubits)\n",
        "        self.observables = [cirq.Z(self.qubits[0])]  # Measure only the first qubit\n",
        "\n",
        "        # generate the circuit\n",
        "        circuit, theta_symbols, input_symbols = generate_circuit(self.qubits, self.n_layers)\n",
        "\n",
        "        # define explicit symbol order\n",
        "        symbols = [str(symb) for symb in theta_symbols + input_symbols]\n",
        "        self.indices = tf.constant([sorted(symbols).index(a) for a in symbols])\n",
        "\n",
        "        # thetas (trainable parameters) initialization\n",
        "        thetas_init = tf.random_uniform_initializer(minval=-np.pi/2, maxval=np.pi/2)\n",
        "        self.thetas = tf.Variable(\n",
        "            initial_value=thetas_init(shape=(1, len(theta_symbols)), dtype=\"float32\"),\n",
        "            trainable=True, name=self.main_name + \"-thetas\"\n",
        "        )\n",
        "\n",
        "        # dummy inputs initialization\n",
        "        # using the empty circuits as hacks for ControlledPQC\n",
        "        self.empty_circuit = tfq.convert_to_tensor([cirq.Circuit()])\n",
        "\n",
        "        self.computation_layer = tfq.layers.ControlledPQC(circuit, self.observables)\n",
        "\n",
        "    def get_config(self):\n",
        "\n",
        "        config = super().get_config().copy()\n",
        "        config.update({\n",
        "            'n_layers': self.n_layers,\n",
        "            'filter_size': self.filter_size,\n",
        "            'name': self.main_name\n",
        "        })\n",
        "        return config\n",
        "    \n",
        "    def call(self, inputs):\n",
        "        batch_size = tf.shape(inputs)[0]\n",
        "\n",
        "        # flatten inputs (from 2D images to 1D array)\n",
        "        inputs_flattened = tf.keras.layers.Flatten()(inputs)\n",
        "\n",
        "        # convert input x to arctan of x and arctan of x^2\n",
        "        inputs_x = tf.math.atan(inputs_flattened)\n",
        "        inputs_x2 = tf.math.atan(tf.math.square(inputs_flattened))\n",
        "        \n",
        "        # duplicate parameters and dummy inputs\n",
        "        # one for every batch\n",
        "        thetas_batch = tf.tile(self.thetas, multiples=[batch_size, 1], name=self.main_name + '-tiled_up_thetas')\n",
        "        empty_circuit_batch = tf.repeat(self.empty_circuit, repeats=batch_size, name=self.main_name + '-tiled_up_empty_circuits')\n",
        "\n",
        "        joined_params = tf.concat([thetas_batch, inputs_x, inputs_x2], axis=-1)\n",
        "        joined_params = tf.gather(joined_params, self.indices, axis=-1, name=self.main_name + '-joined_params')\n",
        "\n",
        "        return self.computation_layer([empty_circuit_batch, joined_params])"
      ],
      "execution_count": 25,
      "outputs": []
    },
    {
      "cell_type": "code",
      "metadata": {
        "id": "nVXWeiWXKqu8"
      },
      "source": [
        "def QConv_layer(n_layers, filter_size, stride, inputs, conv_id='', name=\"QConv_layer\"):\n",
        "    iter = int(1+(inputs.shape[1]-filter_size)/stride)\n",
        "\n",
        "    pqc = ConvKernelPQC(n_layers, filter_size, name=name+conv_id)\n",
        "    conv = []\n",
        "    for i in range(iter):\n",
        "        for j in range(iter):\n",
        "            temp = pqc(inputs[:, stride*i:stride*i+filter_size, stride*j:stride*j+filter_size])\n",
        "            conv += [temp]\n",
        "    output_concat = tf.keras.layers.Concatenate(axis=1)(conv)\n",
        "    output_reshape = tf.keras.layers.Reshape((iter, iter))(output_concat)\n",
        "\n",
        "    return output_reshape"
      ],
      "execution_count": 26,
      "outputs": []
    },
    {
      "cell_type": "code",
      "metadata": {
        "colab": {
          "base_uri": "https://localhost:8080/"
        },
        "id": "AUKsVkYffgHB",
        "outputId": "ba734f9f-f51c-498a-eedc-daa2e2700ca7"
      },
      "source": [
        "filter_size = 3\n",
        "stride = 1\n",
        "\n",
        "int(1+(8-filter_size)/stride)"
      ],
      "execution_count": 30,
      "outputs": [
        {
          "output_type": "execute_result",
          "data": {
            "text/plain": [
              "6"
            ]
          },
          "metadata": {
            "tags": []
          },
          "execution_count": 30
        }
      ]
    },
    {
      "cell_type": "code",
      "metadata": {
        "id": "bg5yxqNeL_h7"
      },
      "source": [
        "n_layers = 2\n",
        "\n",
        "input_tensor = tf.keras.Input(shape=(x_train.shape[1], x_train.shape[2], ), dtype=tf.dtypes.float32, name='input')\n",
        "\n",
        "filter_size = [3, 2]\n",
        "stride = [1, 1]\n",
        "\n",
        "conv_1 = QConv_layer(n_layers, filter_size[0], stride[0], input_tensor, conv_id='1')\n",
        "#reshape_1_1 = tf.keras.layers.Reshape((conv_1.shape[1], conv_1.shape[2], 1))(conv_1)\n",
        "#max_pool_1 = tf.keras.layers.MaxPooling2D(pool_size=(2, 2), strides=None, name='Max_Pool_Layer_1')(reshape_1_1)\n",
        "#reshape_1_2 = tf.keras.layers.Reshape((max_pool_1.shape[1], max_pool_1.shape[2]))(max_pool_1)\n",
        "\n",
        "\n",
        "conv_2 = QConv_layer(n_layers, filter_size[1], stride[1], conv_1, conv_id='2')\n",
        "#reshape_2_1 = tf.keras.layers.Reshape((conv_2.shape[1], conv_2.shape[2], 1))(conv_2)\n",
        "#max_pool_2 = tf.keras.layers.MaxPooling2D(pool_size=(2, 2), strides=None, name='Max_Pool_Layer_2')(reshape_2_1)\n",
        "#reshape_2_2 = tf.keras.layers.Reshape((max_pool_2.shape[1], max_pool_2.shape[2]))(max_pool_2)\n",
        "\n",
        "conv_output = tf.keras.layers.Flatten()(conv_2)\n",
        "\n",
        "dense_1 = tf.keras.layers.Dense(8, activation='relu')(conv_output)\n",
        "dense_2 = tf.keras.layers.Dense(2, activation='softmax')(dense_1)\n",
        "\n",
        "model = tf.keras.Model(inputs=[input_tensor], outputs=dense_2)"
      ],
      "execution_count": 31,
      "outputs": []
    },
    {
      "cell_type": "code",
      "metadata": {
        "colab": {
          "base_uri": "https://localhost:8080/"
        },
        "id": "KbMHZFu-OK1V",
        "outputId": "4311749b-6380-4fa1-b16b-c31a564c0c87"
      },
      "source": [
        "model.summary()"
      ],
      "execution_count": 32,
      "outputs": [
        {
          "output_type": "stream",
          "text": [
            "Model: \"model\"\n",
            "__________________________________________________________________________________________________\n",
            "Layer (type)                    Output Shape         Param #     Connected to                     \n",
            "==================================================================================================\n",
            "input (InputLayer)              [(None, 8, 8)]       0                                            \n",
            "__________________________________________________________________________________________________\n",
            "tf.__operators__.getitem (Slici (None, 3, 3)         0           input[0][0]                      \n",
            "__________________________________________________________________________________________________\n",
            "tf.__operators__.getitem_1 (Sli (None, 3, 3)         0           input[0][0]                      \n",
            "__________________________________________________________________________________________________\n",
            "tf.__operators__.getitem_2 (Sli (None, 3, 3)         0           input[0][0]                      \n",
            "__________________________________________________________________________________________________\n",
            "tf.__operators__.getitem_3 (Sli (None, 3, 3)         0           input[0][0]                      \n",
            "__________________________________________________________________________________________________\n",
            "tf.__operators__.getitem_4 (Sli (None, 3, 3)         0           input[0][0]                      \n",
            "__________________________________________________________________________________________________\n",
            "tf.__operators__.getitem_5 (Sli (None, 3, 3)         0           input[0][0]                      \n",
            "__________________________________________________________________________________________________\n",
            "tf.__operators__.getitem_6 (Sli (None, 3, 3)         0           input[0][0]                      \n",
            "__________________________________________________________________________________________________\n",
            "tf.__operators__.getitem_7 (Sli (None, 3, 3)         0           input[0][0]                      \n",
            "__________________________________________________________________________________________________\n",
            "tf.__operators__.getitem_8 (Sli (None, 3, 3)         0           input[0][0]                      \n",
            "__________________________________________________________________________________________________\n",
            "tf.__operators__.getitem_9 (Sli (None, 3, 3)         0           input[0][0]                      \n",
            "__________________________________________________________________________________________________\n",
            "tf.__operators__.getitem_10 (Sl (None, 3, 3)         0           input[0][0]                      \n",
            "__________________________________________________________________________________________________\n",
            "tf.__operators__.getitem_11 (Sl (None, 3, 3)         0           input[0][0]                      \n",
            "__________________________________________________________________________________________________\n",
            "tf.__operators__.getitem_12 (Sl (None, 3, 3)         0           input[0][0]                      \n",
            "__________________________________________________________________________________________________\n",
            "tf.__operators__.getitem_13 (Sl (None, 3, 3)         0           input[0][0]                      \n",
            "__________________________________________________________________________________________________\n",
            "tf.__operators__.getitem_14 (Sl (None, 3, 3)         0           input[0][0]                      \n",
            "__________________________________________________________________________________________________\n",
            "tf.__operators__.getitem_15 (Sl (None, 3, 3)         0           input[0][0]                      \n",
            "__________________________________________________________________________________________________\n",
            "tf.__operators__.getitem_16 (Sl (None, 3, 3)         0           input[0][0]                      \n",
            "__________________________________________________________________________________________________\n",
            "tf.__operators__.getitem_17 (Sl (None, 3, 3)         0           input[0][0]                      \n",
            "__________________________________________________________________________________________________\n",
            "tf.__operators__.getitem_18 (Sl (None, 3, 3)         0           input[0][0]                      \n",
            "__________________________________________________________________________________________________\n",
            "tf.__operators__.getitem_19 (Sl (None, 3, 3)         0           input[0][0]                      \n",
            "__________________________________________________________________________________________________\n",
            "tf.__operators__.getitem_20 (Sl (None, 3, 3)         0           input[0][0]                      \n",
            "__________________________________________________________________________________________________\n",
            "tf.__operators__.getitem_21 (Sl (None, 3, 3)         0           input[0][0]                      \n",
            "__________________________________________________________________________________________________\n",
            "tf.__operators__.getitem_22 (Sl (None, 3, 3)         0           input[0][0]                      \n",
            "__________________________________________________________________________________________________\n",
            "tf.__operators__.getitem_23 (Sl (None, 3, 3)         0           input[0][0]                      \n",
            "__________________________________________________________________________________________________\n",
            "tf.__operators__.getitem_24 (Sl (None, 3, 3)         0           input[0][0]                      \n",
            "__________________________________________________________________________________________________\n",
            "tf.__operators__.getitem_25 (Sl (None, 3, 3)         0           input[0][0]                      \n",
            "__________________________________________________________________________________________________\n",
            "tf.__operators__.getitem_26 (Sl (None, 3, 3)         0           input[0][0]                      \n",
            "__________________________________________________________________________________________________\n",
            "tf.__operators__.getitem_27 (Sl (None, 3, 3)         0           input[0][0]                      \n",
            "__________________________________________________________________________________________________\n",
            "tf.__operators__.getitem_28 (Sl (None, 3, 3)         0           input[0][0]                      \n",
            "__________________________________________________________________________________________________\n",
            "tf.__operators__.getitem_29 (Sl (None, 3, 3)         0           input[0][0]                      \n",
            "__________________________________________________________________________________________________\n",
            "tf.__operators__.getitem_30 (Sl (None, 3, 3)         0           input[0][0]                      \n",
            "__________________________________________________________________________________________________\n",
            "tf.__operators__.getitem_31 (Sl (None, 3, 3)         0           input[0][0]                      \n",
            "__________________________________________________________________________________________________\n",
            "tf.__operators__.getitem_32 (Sl (None, 3, 3)         0           input[0][0]                      \n",
            "__________________________________________________________________________________________________\n",
            "tf.__operators__.getitem_33 (Sl (None, 3, 3)         0           input[0][0]                      \n",
            "__________________________________________________________________________________________________\n",
            "tf.__operators__.getitem_34 (Sl (None, 3, 3)         0           input[0][0]                      \n",
            "__________________________________________________________________________________________________\n",
            "tf.__operators__.getitem_35 (Sl (None, 3, 3)         0           input[0][0]                      \n",
            "__________________________________________________________________________________________________\n",
            "QConv_layer1 (ConvKernelPQC)    (None, 1)            54          tf.__operators__.getitem[0][0]   \n",
            "                                                                 tf.__operators__.getitem_1[0][0] \n",
            "                                                                 tf.__operators__.getitem_2[0][0] \n",
            "                                                                 tf.__operators__.getitem_3[0][0] \n",
            "                                                                 tf.__operators__.getitem_4[0][0] \n",
            "                                                                 tf.__operators__.getitem_5[0][0] \n",
            "                                                                 tf.__operators__.getitem_6[0][0] \n",
            "                                                                 tf.__operators__.getitem_7[0][0] \n",
            "                                                                 tf.__operators__.getitem_8[0][0] \n",
            "                                                                 tf.__operators__.getitem_9[0][0] \n",
            "                                                                 tf.__operators__.getitem_10[0][0]\n",
            "                                                                 tf.__operators__.getitem_11[0][0]\n",
            "                                                                 tf.__operators__.getitem_12[0][0]\n",
            "                                                                 tf.__operators__.getitem_13[0][0]\n",
            "                                                                 tf.__operators__.getitem_14[0][0]\n",
            "                                                                 tf.__operators__.getitem_15[0][0]\n",
            "                                                                 tf.__operators__.getitem_16[0][0]\n",
            "                                                                 tf.__operators__.getitem_17[0][0]\n",
            "                                                                 tf.__operators__.getitem_18[0][0]\n",
            "                                                                 tf.__operators__.getitem_19[0][0]\n",
            "                                                                 tf.__operators__.getitem_20[0][0]\n",
            "                                                                 tf.__operators__.getitem_21[0][0]\n",
            "                                                                 tf.__operators__.getitem_22[0][0]\n",
            "                                                                 tf.__operators__.getitem_23[0][0]\n",
            "                                                                 tf.__operators__.getitem_24[0][0]\n",
            "                                                                 tf.__operators__.getitem_25[0][0]\n",
            "                                                                 tf.__operators__.getitem_26[0][0]\n",
            "                                                                 tf.__operators__.getitem_27[0][0]\n",
            "                                                                 tf.__operators__.getitem_28[0][0]\n",
            "                                                                 tf.__operators__.getitem_29[0][0]\n",
            "                                                                 tf.__operators__.getitem_30[0][0]\n",
            "                                                                 tf.__operators__.getitem_31[0][0]\n",
            "                                                                 tf.__operators__.getitem_32[0][0]\n",
            "                                                                 tf.__operators__.getitem_33[0][0]\n",
            "                                                                 tf.__operators__.getitem_34[0][0]\n",
            "                                                                 tf.__operators__.getitem_35[0][0]\n",
            "__________________________________________________________________________________________________\n",
            "concatenate (Concatenate)       (None, 36)           0           QConv_layer1[0][0]               \n",
            "                                                                 QConv_layer1[1][0]               \n",
            "                                                                 QConv_layer1[2][0]               \n",
            "                                                                 QConv_layer1[3][0]               \n",
            "                                                                 QConv_layer1[4][0]               \n",
            "                                                                 QConv_layer1[5][0]               \n",
            "                                                                 QConv_layer1[6][0]               \n",
            "                                                                 QConv_layer1[7][0]               \n",
            "                                                                 QConv_layer1[8][0]               \n",
            "                                                                 QConv_layer1[9][0]               \n",
            "                                                                 QConv_layer1[10][0]              \n",
            "                                                                 QConv_layer1[11][0]              \n",
            "                                                                 QConv_layer1[12][0]              \n",
            "                                                                 QConv_layer1[13][0]              \n",
            "                                                                 QConv_layer1[14][0]              \n",
            "                                                                 QConv_layer1[15][0]              \n",
            "                                                                 QConv_layer1[16][0]              \n",
            "                                                                 QConv_layer1[17][0]              \n",
            "                                                                 QConv_layer1[18][0]              \n",
            "                                                                 QConv_layer1[19][0]              \n",
            "                                                                 QConv_layer1[20][0]              \n",
            "                                                                 QConv_layer1[21][0]              \n",
            "                                                                 QConv_layer1[22][0]              \n",
            "                                                                 QConv_layer1[23][0]              \n",
            "                                                                 QConv_layer1[24][0]              \n",
            "                                                                 QConv_layer1[25][0]              \n",
            "                                                                 QConv_layer1[26][0]              \n",
            "                                                                 QConv_layer1[27][0]              \n",
            "                                                                 QConv_layer1[28][0]              \n",
            "                                                                 QConv_layer1[29][0]              \n",
            "                                                                 QConv_layer1[30][0]              \n",
            "                                                                 QConv_layer1[31][0]              \n",
            "                                                                 QConv_layer1[32][0]              \n",
            "                                                                 QConv_layer1[33][0]              \n",
            "                                                                 QConv_layer1[34][0]              \n",
            "                                                                 QConv_layer1[35][0]              \n",
            "__________________________________________________________________________________________________\n",
            "reshape (Reshape)               (None, 6, 6)         0           concatenate[0][0]                \n",
            "__________________________________________________________________________________________________\n",
            "tf.__operators__.getitem_36 (Sl (None, 2, 2)         0           reshape[0][0]                    \n",
            "__________________________________________________________________________________________________\n",
            "tf.__operators__.getitem_37 (Sl (None, 2, 2)         0           reshape[0][0]                    \n",
            "__________________________________________________________________________________________________\n",
            "tf.__operators__.getitem_38 (Sl (None, 2, 2)         0           reshape[0][0]                    \n",
            "__________________________________________________________________________________________________\n",
            "tf.__operators__.getitem_39 (Sl (None, 2, 2)         0           reshape[0][0]                    \n",
            "__________________________________________________________________________________________________\n",
            "tf.__operators__.getitem_40 (Sl (None, 2, 2)         0           reshape[0][0]                    \n",
            "__________________________________________________________________________________________________\n",
            "tf.__operators__.getitem_41 (Sl (None, 2, 2)         0           reshape[0][0]                    \n",
            "__________________________________________________________________________________________________\n",
            "tf.__operators__.getitem_42 (Sl (None, 2, 2)         0           reshape[0][0]                    \n",
            "__________________________________________________________________________________________________\n",
            "tf.__operators__.getitem_43 (Sl (None, 2, 2)         0           reshape[0][0]                    \n",
            "__________________________________________________________________________________________________\n",
            "tf.__operators__.getitem_44 (Sl (None, 2, 2)         0           reshape[0][0]                    \n",
            "__________________________________________________________________________________________________\n",
            "tf.__operators__.getitem_45 (Sl (None, 2, 2)         0           reshape[0][0]                    \n",
            "__________________________________________________________________________________________________\n",
            "tf.__operators__.getitem_46 (Sl (None, 2, 2)         0           reshape[0][0]                    \n",
            "__________________________________________________________________________________________________\n",
            "tf.__operators__.getitem_47 (Sl (None, 2, 2)         0           reshape[0][0]                    \n",
            "__________________________________________________________________________________________________\n",
            "tf.__operators__.getitem_48 (Sl (None, 2, 2)         0           reshape[0][0]                    \n",
            "__________________________________________________________________________________________________\n",
            "tf.__operators__.getitem_49 (Sl (None, 2, 2)         0           reshape[0][0]                    \n",
            "__________________________________________________________________________________________________\n",
            "tf.__operators__.getitem_50 (Sl (None, 2, 2)         0           reshape[0][0]                    \n",
            "__________________________________________________________________________________________________\n",
            "tf.__operators__.getitem_51 (Sl (None, 2, 2)         0           reshape[0][0]                    \n",
            "__________________________________________________________________________________________________\n",
            "tf.__operators__.getitem_52 (Sl (None, 2, 2)         0           reshape[0][0]                    \n",
            "__________________________________________________________________________________________________\n",
            "tf.__operators__.getitem_53 (Sl (None, 2, 2)         0           reshape[0][0]                    \n",
            "__________________________________________________________________________________________________\n",
            "tf.__operators__.getitem_54 (Sl (None, 2, 2)         0           reshape[0][0]                    \n",
            "__________________________________________________________________________________________________\n",
            "tf.__operators__.getitem_55 (Sl (None, 2, 2)         0           reshape[0][0]                    \n",
            "__________________________________________________________________________________________________\n",
            "tf.__operators__.getitem_56 (Sl (None, 2, 2)         0           reshape[0][0]                    \n",
            "__________________________________________________________________________________________________\n",
            "tf.__operators__.getitem_57 (Sl (None, 2, 2)         0           reshape[0][0]                    \n",
            "__________________________________________________________________________________________________\n",
            "tf.__operators__.getitem_58 (Sl (None, 2, 2)         0           reshape[0][0]                    \n",
            "__________________________________________________________________________________________________\n",
            "tf.__operators__.getitem_59 (Sl (None, 2, 2)         0           reshape[0][0]                    \n",
            "__________________________________________________________________________________________________\n",
            "tf.__operators__.getitem_60 (Sl (None, 2, 2)         0           reshape[0][0]                    \n",
            "__________________________________________________________________________________________________\n",
            "QConv_layer2 (ConvKernelPQC)    (None, 1)            24          tf.__operators__.getitem_36[0][0]\n",
            "                                                                 tf.__operators__.getitem_37[0][0]\n",
            "                                                                 tf.__operators__.getitem_38[0][0]\n",
            "                                                                 tf.__operators__.getitem_39[0][0]\n",
            "                                                                 tf.__operators__.getitem_40[0][0]\n",
            "                                                                 tf.__operators__.getitem_41[0][0]\n",
            "                                                                 tf.__operators__.getitem_42[0][0]\n",
            "                                                                 tf.__operators__.getitem_43[0][0]\n",
            "                                                                 tf.__operators__.getitem_44[0][0]\n",
            "                                                                 tf.__operators__.getitem_45[0][0]\n",
            "                                                                 tf.__operators__.getitem_46[0][0]\n",
            "                                                                 tf.__operators__.getitem_47[0][0]\n",
            "                                                                 tf.__operators__.getitem_48[0][0]\n",
            "                                                                 tf.__operators__.getitem_49[0][0]\n",
            "                                                                 tf.__operators__.getitem_50[0][0]\n",
            "                                                                 tf.__operators__.getitem_51[0][0]\n",
            "                                                                 tf.__operators__.getitem_52[0][0]\n",
            "                                                                 tf.__operators__.getitem_53[0][0]\n",
            "                                                                 tf.__operators__.getitem_54[0][0]\n",
            "                                                                 tf.__operators__.getitem_55[0][0]\n",
            "                                                                 tf.__operators__.getitem_56[0][0]\n",
            "                                                                 tf.__operators__.getitem_57[0][0]\n",
            "                                                                 tf.__operators__.getitem_58[0][0]\n",
            "                                                                 tf.__operators__.getitem_59[0][0]\n",
            "                                                                 tf.__operators__.getitem_60[0][0]\n",
            "__________________________________________________________________________________________________\n",
            "concatenate_1 (Concatenate)     (None, 25)           0           QConv_layer2[0][0]               \n",
            "                                                                 QConv_layer2[1][0]               \n",
            "                                                                 QConv_layer2[2][0]               \n",
            "                                                                 QConv_layer2[3][0]               \n",
            "                                                                 QConv_layer2[4][0]               \n",
            "                                                                 QConv_layer2[5][0]               \n",
            "                                                                 QConv_layer2[6][0]               \n",
            "                                                                 QConv_layer2[7][0]               \n",
            "                                                                 QConv_layer2[8][0]               \n",
            "                                                                 QConv_layer2[9][0]               \n",
            "                                                                 QConv_layer2[10][0]              \n",
            "                                                                 QConv_layer2[11][0]              \n",
            "                                                                 QConv_layer2[12][0]              \n",
            "                                                                 QConv_layer2[13][0]              \n",
            "                                                                 QConv_layer2[14][0]              \n",
            "                                                                 QConv_layer2[15][0]              \n",
            "                                                                 QConv_layer2[16][0]              \n",
            "                                                                 QConv_layer2[17][0]              \n",
            "                                                                 QConv_layer2[18][0]              \n",
            "                                                                 QConv_layer2[19][0]              \n",
            "                                                                 QConv_layer2[20][0]              \n",
            "                                                                 QConv_layer2[21][0]              \n",
            "                                                                 QConv_layer2[22][0]              \n",
            "                                                                 QConv_layer2[23][0]              \n",
            "                                                                 QConv_layer2[24][0]              \n",
            "__________________________________________________________________________________________________\n",
            "reshape_1 (Reshape)             (None, 5, 5)         0           concatenate_1[0][0]              \n",
            "__________________________________________________________________________________________________\n",
            "flatten (Flatten)               (None, 25)           0           reshape_1[0][0]                  \n",
            "__________________________________________________________________________________________________\n",
            "dense (Dense)                   (None, 8)            208         flatten[0][0]                    \n",
            "__________________________________________________________________________________________________\n",
            "dense_1 (Dense)                 (None, 2)            18          dense[0][0]                      \n",
            "==================================================================================================\n",
            "Total params: 304\n",
            "Trainable params: 304\n",
            "Non-trainable params: 0\n",
            "__________________________________________________________________________________________________\n"
          ],
          "name": "stdout"
        }
      ]
    },
    {
      "cell_type": "code",
      "metadata": {
        "colab": {
          "base_uri": "https://localhost:8080/"
        },
        "id": "5u6rqJRfnIEN",
        "outputId": "e31e7b0f-61f2-422f-81a5-a16cb7b5d577"
      },
      "source": [
        "model(x_train[0:3])"
      ],
      "execution_count": 33,
      "outputs": [
        {
          "output_type": "execute_result",
          "data": {
            "text/plain": [
              "<tf.Tensor: shape=(3, 2), dtype=float32, numpy=\n",
              "array([[0.51697046, 0.48302954],\n",
              "       [0.515318  , 0.48468205],\n",
              "       [0.516762  , 0.48323795]], dtype=float32)>"
            ]
          },
          "metadata": {
            "tags": []
          },
          "execution_count": 33
        }
      ]
    },
    {
      "cell_type": "code",
      "metadata": {
        "colab": {
          "base_uri": "https://localhost:8080/"
        },
        "id": "hXTBcDg8nIGn",
        "outputId": "d46431c0-3798-43f0-f61e-99684b25baa0"
      },
      "source": [
        "# Training parameters\n",
        "BATCH_SIZE = 128  # orig paper trained all networks with batch_size=128\n",
        "EPOCHS = 200 # 200\n",
        "\n",
        "# Print parameters for sanity check\n",
        "print(\"Batch size, epochs:\", BATCH_SIZE, EPOCHS)"
      ],
      "execution_count": 34,
      "outputs": [
        {
          "output_type": "stream",
          "text": [
            "Batch size, epochs: 128 200\n"
          ],
          "name": "stdout"
        }
      ]
    },
    {
      "cell_type": "code",
      "metadata": {
        "id": "lyQMBez4nIJE"
      },
      "source": [
        "def lr_schedule(epoch):\n",
        "    \"\"\"Learning Rate Schedule\n",
        "\n",
        "    Learning rate is scheduled to be reduced after 80, 120, 160, 180 epochs.\n",
        "    Called automatically every epoch as part of callbacks during training.\n",
        "\n",
        "    # Arguments\n",
        "        epoch (int): The number of epochs\n",
        "\n",
        "    # Returns\n",
        "        lr (float32): learning rate\n",
        "    \"\"\"\n",
        "    lr = 1e-3\n",
        "    if epoch > 180:\n",
        "        lr *= 0.5e-3\n",
        "    elif epoch > 160:\n",
        "        lr *= 1e-3\n",
        "    elif epoch > 120:\n",
        "        lr *= 1e-2\n",
        "    elif epoch > 80:\n",
        "        lr *= 1e-1\n",
        "    print('Learning rate: ', lr)\n",
        "    return lr"
      ],
      "execution_count": 35,
      "outputs": []
    },
    {
      "cell_type": "code",
      "metadata": {
        "colab": {
          "base_uri": "https://localhost:8080/"
        },
        "id": "OghvPMq7SOjD",
        "outputId": "6d5f0bc5-9609-479c-9cc5-a27cd82e1848"
      },
      "source": [
        "opt_adam = tf.keras.optimizers.Adam(lr=lr_schedule(0))"
      ],
      "execution_count": 36,
      "outputs": [
        {
          "output_type": "stream",
          "text": [
            "Learning rate:  0.001\n"
          ],
          "name": "stdout"
        }
      ]
    },
    {
      "cell_type": "code",
      "metadata": {
        "id": "Dh3TWJe7nzU4"
      },
      "source": [
        "model.compile(loss='categorical_crossentropy',\n",
        "              optimizer=opt_adam,\n",
        "              metrics=['accuracy', tf.keras.metrics.AUC()])"
      ],
      "execution_count": 37,
      "outputs": []
    },
    {
      "cell_type": "code",
      "metadata": {
        "id": "gKph67IsTUyV"
      },
      "source": [
        "checkpoint_dir = '/content/drive/MyDrive/Projects/GSoC 2021/Model_Hybrid/v3'\n",
        "checkpoint_prefix = os.path.join(checkpoint_dir, \"ckpt\")\n",
        "checkpoint = tf.train.Checkpoint(optimizer=opt_adam,\n",
        "                                 model=model)\n",
        "\n",
        "class CustomCallback(tf.keras.callbacks.Callback):\n",
        "\n",
        "    def on_epoch_end(self, epoch, logs=None):\n",
        "        checkpoint.save(file_prefix = checkpoint_prefix)\n",
        "        print(\"Saved custom checkpoint for epoch {}.\".format(epoch + 1))"
      ],
      "execution_count": 38,
      "outputs": []
    },
    {
      "cell_type": "code",
      "metadata": {
        "id": "QYXFnUhhoNsf"
      },
      "source": [
        "# Prepare callbacks for model saving and for learning rate adjustment.\n",
        "lr_scheduler = tf.keras.callbacks.LearningRateScheduler(lr_schedule)\n",
        "\n",
        "lr_reducer = tf.keras.callbacks.ReduceLROnPlateau(factor=np.sqrt(0.1),\n",
        "                               cooldown=0,\n",
        "                               patience=5,\n",
        "                               min_lr=0.5e-6)\n",
        "\n",
        "cp_filepath = \"/content/drive/MyDrive/Projects/GSoC 2021/Model_Hybrid/QCNN_Type1_L1Q3_10000samples-{epoch:02d}epoch.h5\"\n",
        "checkpoint_callback_epoch = tf.keras.callbacks.ModelCheckpoint(\n",
        "    cp_filepath, monitor='val_loss', verbose=1, save_best_only=False,\n",
        "    save_weights_only=True, mode='auto', save_freq='epoch'\n",
        ")\n",
        "\n",
        "callbacks = [lr_reducer, lr_scheduler, checkpoint_callback_epoch, CustomCallback()]"
      ],
      "execution_count": 39,
      "outputs": []
    },
    {
      "cell_type": "code",
      "metadata": {
        "colab": {
          "base_uri": "https://localhost:8080/"
        },
        "id": "ItN2xtK3o39n",
        "outputId": "2f4afdcf-d240-448c-a236-2ebc96a1273e"
      },
      "source": [
        "import time\n",
        "#start_time = time.time()\n",
        "\n",
        "last_epoch = 0\n",
        "\n",
        "H = model.fit(x_train, y_train, initial_epoch=last_epoch,\n",
        "              batch_size=BATCH_SIZE,\n",
        "              epochs=EPOCHS,\n",
        "              validation_data=(x_test, y_test),\n",
        "              shuffle=True,\n",
        "              callbacks=callbacks)\n",
        "\n",
        "print(H.history)"
      ],
      "execution_count": null,
      "outputs": [
        {
          "output_type": "stream",
          "text": [
            "Epoch 1/200\n",
            "Learning rate:  0.001\n",
            "67/67 [==============================] - 588s 8s/step - loss: 0.6932 - accuracy: 0.5036 - auc: 0.5064 - val_loss: 0.6928 - val_accuracy: 0.5593 - val_auc: 0.5246\n",
            "\n",
            "Epoch 00001: saving model to /content/drive/MyDrive/Projects/GSoC 2021/Model_Hybrid/QCNN_Type1_L1Q3_10000samples-01epoch.h5\n",
            "Saved custom checkpoint for epoch 1.\n",
            "Epoch 2/200\n",
            "Learning rate:  0.001\n",
            "67/67 [==============================] - 563s 8s/step - loss: 0.6928 - accuracy: 0.5059 - auc: 0.5165 - val_loss: 0.6927 - val_accuracy: 0.5213 - val_auc: 0.5278\n",
            "\n",
            "Epoch 00002: saving model to /content/drive/MyDrive/Projects/GSoC 2021/Model_Hybrid/QCNN_Type1_L1Q3_10000samples-02epoch.h5\n",
            "Saved custom checkpoint for epoch 2.\n",
            "Epoch 3/200\n",
            "Learning rate:  0.001\n",
            "67/67 [==============================] - 565s 8s/step - loss: 0.6925 - accuracy: 0.5346 - auc: 0.5413 - val_loss: 0.6924 - val_accuracy: 0.5627 - val_auc: 0.5625\n",
            "\n",
            "Epoch 00003: saving model to /content/drive/MyDrive/Projects/GSoC 2021/Model_Hybrid/QCNN_Type1_L1Q3_10000samples-03epoch.h5\n",
            "Saved custom checkpoint for epoch 3.\n",
            "Epoch 4/200\n",
            "Learning rate:  0.001\n",
            "67/67 [==============================] - 574s 9s/step - loss: 0.6923 - accuracy: 0.5532 - auc: 0.5810 - val_loss: 0.6924 - val_accuracy: 0.5293 - val_auc: 0.5483\n",
            "\n",
            "Epoch 00004: saving model to /content/drive/MyDrive/Projects/GSoC 2021/Model_Hybrid/QCNN_Type1_L1Q3_10000samples-04epoch.h5\n",
            "Saved custom checkpoint for epoch 4.\n",
            "Epoch 5/200\n",
            "Learning rate:  0.001\n",
            "67/67 [==============================] - 573s 9s/step - loss: 0.6919 - accuracy: 0.5269 - auc: 0.5588 - val_loss: 0.6921 - val_accuracy: 0.5333 - val_auc: 0.5523\n",
            "\n",
            "Epoch 00005: saving model to /content/drive/MyDrive/Projects/GSoC 2021/Model_Hybrid/QCNN_Type1_L1Q3_10000samples-05epoch.h5\n",
            "Saved custom checkpoint for epoch 5.\n",
            "Epoch 6/200\n",
            "Learning rate:  0.001\n",
            "67/67 [==============================] - 567s 8s/step - loss: 0.6916 - accuracy: 0.5271 - auc: 0.5551 - val_loss: 0.6918 - val_accuracy: 0.5293 - val_auc: 0.5421\n",
            "\n",
            "Epoch 00006: saving model to /content/drive/MyDrive/Projects/GSoC 2021/Model_Hybrid/QCNN_Type1_L1Q3_10000samples-06epoch.h5\n",
            "Saved custom checkpoint for epoch 6.\n",
            "Epoch 7/200\n",
            "Learning rate:  0.001\n",
            "67/67 [==============================] - 574s 9s/step - loss: 0.6909 - accuracy: 0.5616 - auc: 0.5855 - val_loss: 0.6910 - val_accuracy: 0.5353 - val_auc: 0.5570\n",
            "\n",
            "Epoch 00007: saving model to /content/drive/MyDrive/Projects/GSoC 2021/Model_Hybrid/QCNN_Type1_L1Q3_10000samples-07epoch.h5\n",
            "Saved custom checkpoint for epoch 7.\n",
            "Epoch 8/200\n",
            "Learning rate:  0.001\n",
            "67/67 [==============================] - 571s 9s/step - loss: 0.6899 - accuracy: 0.5603 - auc: 0.5838 - val_loss: 0.6900 - val_accuracy: 0.5387 - val_auc: 0.5575\n",
            "\n",
            "Epoch 00008: saving model to /content/drive/MyDrive/Projects/GSoC 2021/Model_Hybrid/QCNN_Type1_L1Q3_10000samples-08epoch.h5\n",
            "Saved custom checkpoint for epoch 8.\n",
            "Epoch 9/200\n",
            "Learning rate:  0.001\n",
            "67/67 [==============================] - 567s 8s/step - loss: 0.6882 - accuracy: 0.5639 - auc: 0.5826 - val_loss: 0.6884 - val_accuracy: 0.5440 - val_auc: 0.5658\n",
            "\n",
            "Epoch 00009: saving model to /content/drive/MyDrive/Projects/GSoC 2021/Model_Hybrid/QCNN_Type1_L1Q3_10000samples-09epoch.h5\n",
            "Saved custom checkpoint for epoch 9.\n",
            "Epoch 10/200\n",
            "Learning rate:  0.001\n",
            "67/67 [==============================] - 574s 9s/step - loss: 0.6859 - accuracy: 0.5639 - auc: 0.5920 - val_loss: 0.6870 - val_accuracy: 0.5447 - val_auc: 0.5628\n",
            "\n",
            "Epoch 00010: saving model to /content/drive/MyDrive/Projects/GSoC 2021/Model_Hybrid/QCNN_Type1_L1Q3_10000samples-10epoch.h5\n",
            "Saved custom checkpoint for epoch 10.\n",
            "Epoch 11/200\n",
            "Learning rate:  0.001\n",
            "67/67 [==============================] - 578s 9s/step - loss: 0.6845 - accuracy: 0.5666 - auc: 0.5893 - val_loss: 0.6853 - val_accuracy: 0.5473 - val_auc: 0.5685\n",
            "\n",
            "Epoch 00011: saving model to /content/drive/MyDrive/Projects/GSoC 2021/Model_Hybrid/QCNN_Type1_L1Q3_10000samples-11epoch.h5\n",
            "Saved custom checkpoint for epoch 11.\n",
            "Epoch 12/200\n",
            "Learning rate:  0.001\n",
            "67/67 [==============================] - 568s 8s/step - loss: 0.6822 - accuracy: 0.5700 - auc: 0.5933 - val_loss: 0.6845 - val_accuracy: 0.5467 - val_auc: 0.5671\n",
            "\n",
            "Epoch 00012: saving model to /content/drive/MyDrive/Projects/GSoC 2021/Model_Hybrid/QCNN_Type1_L1Q3_10000samples-12epoch.h5\n",
            "Saved custom checkpoint for epoch 12.\n",
            "Epoch 13/200\n",
            "Learning rate:  0.001\n",
            "67/67 [==============================] - 586s 9s/step - loss: 0.6799 - accuracy: 0.5702 - auc: 0.5922 - val_loss: 0.6817 - val_accuracy: 0.5660 - val_auc: 0.5899\n",
            "\n",
            "Epoch 00013: saving model to /content/drive/MyDrive/Projects/GSoC 2021/Model_Hybrid/QCNN_Type1_L1Q3_10000samples-13epoch.h5\n",
            "Saved custom checkpoint for epoch 13.\n",
            "Epoch 14/200\n",
            "Learning rate:  0.001\n",
            "67/67 [==============================] - 589s 9s/step - loss: 0.6803 - accuracy: 0.5646 - auc: 0.5880 - val_loss: 0.6805 - val_accuracy: 0.5653 - val_auc: 0.5921\n",
            "\n",
            "Epoch 00014: saving model to /content/drive/MyDrive/Projects/GSoC 2021/Model_Hybrid/QCNN_Type1_L1Q3_10000samples-14epoch.h5\n",
            "Saved custom checkpoint for epoch 14.\n",
            "Epoch 15/200\n",
            "Learning rate:  0.001\n",
            "67/67 [==============================] - 577s 9s/step - loss: 0.6777 - accuracy: 0.5805 - auc: 0.5998 - val_loss: 0.6820 - val_accuracy: 0.5533 - val_auc: 0.5746\n",
            "\n",
            "Epoch 00015: saving model to /content/drive/MyDrive/Projects/GSoC 2021/Model_Hybrid/QCNN_Type1_L1Q3_10000samples-15epoch.h5\n",
            "Saved custom checkpoint for epoch 15.\n",
            "Epoch 16/200\n",
            "Learning rate:  0.001\n",
            "67/67 [==============================] - 586s 9s/step - loss: 0.6769 - accuracy: 0.5678 - auc: 0.5964 - val_loss: 0.6790 - val_accuracy: 0.5680 - val_auc: 0.5889\n",
            "\n",
            "Epoch 00016: saving model to /content/drive/MyDrive/Projects/GSoC 2021/Model_Hybrid/QCNN_Type1_L1Q3_10000samples-16epoch.h5\n",
            "Saved custom checkpoint for epoch 16.\n",
            "Epoch 17/200\n",
            "Learning rate:  0.001\n",
            "67/67 [==============================] - 593s 9s/step - loss: 0.6757 - accuracy: 0.5818 - auc: 0.6032 - val_loss: 0.6798 - val_accuracy: 0.5553 - val_auc: 0.5835\n",
            "\n",
            "Epoch 00017: saving model to /content/drive/MyDrive/Projects/GSoC 2021/Model_Hybrid/QCNN_Type1_L1Q3_10000samples-17epoch.h5\n",
            "Saved custom checkpoint for epoch 17.\n",
            "Epoch 18/200\n",
            "Learning rate:  0.001\n",
            "67/67 [==============================] - 566s 8s/step - loss: 0.6746 - accuracy: 0.5801 - auc: 0.6052 - val_loss: 0.6784 - val_accuracy: 0.5613 - val_auc: 0.5894\n",
            "\n",
            "Epoch 00018: saving model to /content/drive/MyDrive/Projects/GSoC 2021/Model_Hybrid/QCNN_Type1_L1Q3_10000samples-18epoch.h5\n",
            "Saved custom checkpoint for epoch 18.\n",
            "Epoch 19/200\n",
            "Learning rate:  0.001\n",
            "67/67 [==============================] - 562s 8s/step - loss: 0.6708 - accuracy: 0.5893 - auc: 0.6152 - val_loss: 0.6786 - val_accuracy: 0.5633 - val_auc: 0.5899\n",
            "\n",
            "Epoch 00019: saving model to /content/drive/MyDrive/Projects/GSoC 2021/Model_Hybrid/QCNN_Type1_L1Q3_10000samples-19epoch.h5\n",
            "Saved custom checkpoint for epoch 19.\n",
            "Epoch 20/200\n",
            "Learning rate:  0.001\n",
            "67/67 [==============================] - 562s 8s/step - loss: 0.6737 - accuracy: 0.5822 - auc: 0.6070 - val_loss: 0.6769 - val_accuracy: 0.5727 - val_auc: 0.5966\n",
            "\n",
            "Epoch 00020: saving model to /content/drive/MyDrive/Projects/GSoC 2021/Model_Hybrid/QCNN_Type1_L1Q3_10000samples-20epoch.h5\n",
            "Saved custom checkpoint for epoch 20.\n",
            "Epoch 21/200\n",
            "Learning rate:  0.001\n",
            "67/67 [==============================] - 560s 8s/step - loss: 0.6716 - accuracy: 0.5879 - auc: 0.6131 - val_loss: 0.6773 - val_accuracy: 0.5667 - val_auc: 0.5956\n",
            "\n",
            "Epoch 00021: saving model to /content/drive/MyDrive/Projects/GSoC 2021/Model_Hybrid/QCNN_Type1_L1Q3_10000samples-21epoch.h5\n",
            "Saved custom checkpoint for epoch 21.\n",
            "Epoch 22/200\n",
            "Learning rate:  0.001\n",
            "67/67 [==============================] - 574s 9s/step - loss: 0.6670 - accuracy: 0.5902 - auc: 0.6249 - val_loss: 0.6765 - val_accuracy: 0.5680 - val_auc: 0.5987\n",
            "\n",
            "Epoch 00022: saving model to /content/drive/MyDrive/Projects/GSoC 2021/Model_Hybrid/QCNN_Type1_L1Q3_10000samples-22epoch.h5\n",
            "Saved custom checkpoint for epoch 22.\n",
            "Epoch 23/200\n",
            "Learning rate:  0.001\n",
            "67/67 [==============================] - 559s 8s/step - loss: 0.6669 - accuracy: 0.5938 - auc: 0.6281 - val_loss: 0.6745 - val_accuracy: 0.5780 - val_auc: 0.6062\n",
            "\n",
            "Epoch 00023: saving model to /content/drive/MyDrive/Projects/GSoC 2021/Model_Hybrid/QCNN_Type1_L1Q3_10000samples-23epoch.h5\n",
            "Saved custom checkpoint for epoch 23.\n",
            "Epoch 24/200\n",
            "Learning rate:  0.001\n",
            "67/67 [==============================] - 557s 8s/step - loss: 0.6680 - accuracy: 0.5944 - auc: 0.6259 - val_loss: 0.6749 - val_accuracy: 0.5740 - val_auc: 0.6042\n",
            "\n",
            "Epoch 00024: saving model to /content/drive/MyDrive/Projects/GSoC 2021/Model_Hybrid/QCNN_Type1_L1Q3_10000samples-24epoch.h5\n",
            "Saved custom checkpoint for epoch 24.\n",
            "Epoch 25/200\n",
            "Learning rate:  0.001\n",
            "67/67 [==============================] - 557s 8s/step - loss: 0.6664 - accuracy: 0.5896 - auc: 0.6259 - val_loss: 0.6721 - val_accuracy: 0.5833 - val_auc: 0.6154\n",
            "\n",
            "Epoch 00025: saving model to /content/drive/MyDrive/Projects/GSoC 2021/Model_Hybrid/QCNN_Type1_L1Q3_10000samples-25epoch.h5\n",
            "Saved custom checkpoint for epoch 25.\n",
            "Epoch 26/200\n",
            "Learning rate:  0.001\n",
            "67/67 [==============================] - 555s 8s/step - loss: 0.6636 - accuracy: 0.6030 - auc: 0.6385 - val_loss: 0.6713 - val_accuracy: 0.5893 - val_auc: 0.6166\n",
            "\n",
            "Epoch 00026: saving model to /content/drive/MyDrive/Projects/GSoC 2021/Model_Hybrid/QCNN_Type1_L1Q3_10000samples-26epoch.h5\n",
            "Saved custom checkpoint for epoch 26.\n",
            "Epoch 27/200\n",
            "Learning rate:  0.001\n",
            "67/67 [==============================] - 555s 8s/step - loss: 0.6661 - accuracy: 0.5986 - auc: 0.6300 - val_loss: 0.6707 - val_accuracy: 0.5900 - val_auc: 0.6190\n",
            "\n",
            "Epoch 00027: saving model to /content/drive/MyDrive/Projects/GSoC 2021/Model_Hybrid/QCNN_Type1_L1Q3_10000samples-27epoch.h5\n",
            "Saved custom checkpoint for epoch 27.\n",
            "Epoch 28/200\n",
            "Learning rate:  0.001\n",
            "67/67 [==============================] - 553s 8s/step - loss: 0.6644 - accuracy: 0.5928 - auc: 0.6324 - val_loss: 0.6696 - val_accuracy: 0.5947 - val_auc: 0.6218\n",
            "\n",
            "Epoch 00028: saving model to /content/drive/MyDrive/Projects/GSoC 2021/Model_Hybrid/QCNN_Type1_L1Q3_10000samples-28epoch.h5\n",
            "Saved custom checkpoint for epoch 28.\n",
            "Epoch 29/200\n",
            "Learning rate:  0.001\n",
            "67/67 [==============================] - 557s 8s/step - loss: 0.6621 - accuracy: 0.6000 - auc: 0.6407 - val_loss: 0.6687 - val_accuracy: 0.5967 - val_auc: 0.6241\n",
            "\n",
            "Epoch 00029: saving model to /content/drive/MyDrive/Projects/GSoC 2021/Model_Hybrid/QCNN_Type1_L1Q3_10000samples-29epoch.h5\n",
            "Saved custom checkpoint for epoch 29.\n",
            "Epoch 30/200\n",
            "Learning rate:  0.001\n",
            "67/67 [==============================] - 572s 9s/step - loss: 0.6665 - accuracy: 0.5939 - auc: 0.6268 - val_loss: 0.6684 - val_accuracy: 0.5940 - val_auc: 0.6250\n",
            "\n",
            "Epoch 00030: saving model to /content/drive/MyDrive/Projects/GSoC 2021/Model_Hybrid/QCNN_Type1_L1Q3_10000samples-30epoch.h5\n",
            "Saved custom checkpoint for epoch 30.\n",
            "Epoch 31/200\n",
            "Learning rate:  0.001\n",
            "67/67 [==============================] - 597s 9s/step - loss: 0.6641 - accuracy: 0.6002 - auc: 0.6359 - val_loss: 0.6683 - val_accuracy: 0.5940 - val_auc: 0.6252\n",
            "\n",
            "Epoch 00031: saving model to /content/drive/MyDrive/Projects/GSoC 2021/Model_Hybrid/QCNN_Type1_L1Q3_10000samples-31epoch.h5\n",
            "Saved custom checkpoint for epoch 31.\n",
            "Epoch 32/200\n",
            "Learning rate:  0.001\n",
            "67/67 [==============================] - 587s 9s/step - loss: 0.6689 - accuracy: 0.5913 - auc: 0.6222 - val_loss: 0.6696 - val_accuracy: 0.5933 - val_auc: 0.6215\n",
            "\n",
            "Epoch 00032: saving model to /content/drive/MyDrive/Projects/GSoC 2021/Model_Hybrid/QCNN_Type1_L1Q3_10000samples-32epoch.h5\n",
            "Saved custom checkpoint for epoch 32.\n",
            "Epoch 33/200\n",
            "Learning rate:  0.001\n",
            "67/67 [==============================] - 575s 9s/step - loss: 0.6620 - accuracy: 0.5991 - auc: 0.6392 - val_loss: 0.6674 - val_accuracy: 0.6020 - val_auc: 0.6281\n",
            "\n",
            "Epoch 00033: saving model to /content/drive/MyDrive/Projects/GSoC 2021/Model_Hybrid/QCNN_Type1_L1Q3_10000samples-33epoch.h5\n",
            "Saved custom checkpoint for epoch 33.\n",
            "Epoch 34/200\n",
            "Learning rate:  0.001\n",
            "67/67 [==============================] - 579s 9s/step - loss: 0.6651 - accuracy: 0.5978 - auc: 0.6307 - val_loss: 0.6673 - val_accuracy: 0.5980 - val_auc: 0.6277\n",
            "\n",
            "Epoch 00034: saving model to /content/drive/MyDrive/Projects/GSoC 2021/Model_Hybrid/QCNN_Type1_L1Q3_10000samples-34epoch.h5\n",
            "Saved custom checkpoint for epoch 34.\n",
            "Epoch 35/200\n",
            "Learning rate:  0.001\n",
            "67/67 [==============================] - 593s 9s/step - loss: 0.6648 - accuracy: 0.6042 - auc: 0.6326 - val_loss: 0.6682 - val_accuracy: 0.5927 - val_auc: 0.6257\n",
            "\n",
            "Epoch 00035: saving model to /content/drive/MyDrive/Projects/GSoC 2021/Model_Hybrid/QCNN_Type1_L1Q3_10000samples-35epoch.h5\n",
            "Saved custom checkpoint for epoch 35.\n",
            "Epoch 36/200\n",
            "Learning rate:  0.001\n",
            "67/67 [==============================] - 590s 9s/step - loss: 0.6622 - accuracy: 0.5986 - auc: 0.6373 - val_loss: 0.6669 - val_accuracy: 0.5993 - val_auc: 0.6284\n",
            "\n",
            "Epoch 00036: saving model to /content/drive/MyDrive/Projects/GSoC 2021/Model_Hybrid/QCNN_Type1_L1Q3_10000samples-36epoch.h5\n",
            "Saved custom checkpoint for epoch 36.\n",
            "Epoch 37/200\n",
            "Learning rate:  0.001\n",
            "67/67 [==============================] - 591s 9s/step - loss: 0.6615 - accuracy: 0.6010 - auc: 0.6388 - val_loss: 0.6683 - val_accuracy: 0.5920 - val_auc: 0.6258\n",
            "\n",
            "Epoch 00037: saving model to /content/drive/MyDrive/Projects/GSoC 2021/Model_Hybrid/QCNN_Type1_L1Q3_10000samples-37epoch.h5\n",
            "Saved custom checkpoint for epoch 37.\n",
            "Epoch 38/200\n",
            "Learning rate:  0.001\n",
            "67/67 [==============================] - 591s 9s/step - loss: 0.6637 - accuracy: 0.5952 - auc: 0.6341 - val_loss: 0.6667 - val_accuracy: 0.6013 - val_auc: 0.6294\n",
            "\n",
            "Epoch 00038: saving model to /content/drive/MyDrive/Projects/GSoC 2021/Model_Hybrid/QCNN_Type1_L1Q3_10000samples-38epoch.h5\n",
            "Saved custom checkpoint for epoch 38.\n",
            "Epoch 39/200\n",
            "Learning rate:  0.001\n",
            "67/67 [==============================] - 591s 9s/step - loss: 0.6640 - accuracy: 0.6002 - auc: 0.6333 - val_loss: 0.6669 - val_accuracy: 0.6020 - val_auc: 0.6285\n",
            "\n",
            "Epoch 00039: saving model to /content/drive/MyDrive/Projects/GSoC 2021/Model_Hybrid/QCNN_Type1_L1Q3_10000samples-39epoch.h5\n",
            "Saved custom checkpoint for epoch 39.\n",
            "Epoch 40/200\n",
            "Learning rate:  0.001\n",
            "67/67 [==============================] - 592s 9s/step - loss: 0.6636 - accuracy: 0.5991 - auc: 0.6344 - val_loss: 0.6666 - val_accuracy: 0.6027 - val_auc: 0.6296\n",
            "\n",
            "Epoch 00040: saving model to /content/drive/MyDrive/Projects/GSoC 2021/Model_Hybrid/QCNN_Type1_L1Q3_10000samples-40epoch.h5\n",
            "Saved custom checkpoint for epoch 40.\n",
            "Epoch 41/200\n",
            "Learning rate:  0.001\n",
            "67/67 [==============================] - 592s 9s/step - loss: 0.6654 - accuracy: 0.5972 - auc: 0.6309 - val_loss: 0.6664 - val_accuracy: 0.6053 - val_auc: 0.6304\n",
            "\n",
            "Epoch 00041: saving model to /content/drive/MyDrive/Projects/GSoC 2021/Model_Hybrid/QCNN_Type1_L1Q3_10000samples-41epoch.h5\n",
            "Saved custom checkpoint for epoch 41.\n",
            "Epoch 42/200\n",
            "Learning rate:  0.001\n",
            "67/67 [==============================] - 591s 9s/step - loss: 0.6622 - accuracy: 0.6020 - auc: 0.6379 - val_loss: 0.6704 - val_accuracy: 0.5807 - val_auc: 0.6209\n",
            "\n",
            "Epoch 00042: saving model to /content/drive/MyDrive/Projects/GSoC 2021/Model_Hybrid/QCNN_Type1_L1Q3_10000samples-42epoch.h5\n",
            "Saved custom checkpoint for epoch 42.\n",
            "Epoch 43/200\n",
            "Learning rate:  0.001\n",
            "67/67 [==============================] - 592s 9s/step - loss: 0.6703 - accuracy: 0.5825 - auc: 0.6198 - val_loss: 0.6661 - val_accuracy: 0.6060 - val_auc: 0.6308\n",
            "\n",
            "Epoch 00043: saving model to /content/drive/MyDrive/Projects/GSoC 2021/Model_Hybrid/QCNN_Type1_L1Q3_10000samples-43epoch.h5\n",
            "Saved custom checkpoint for epoch 43.\n",
            "Epoch 44/200\n",
            "Learning rate:  0.001\n",
            "67/67 [==============================] - 591s 9s/step - loss: 0.6598 - accuracy: 0.6037 - auc: 0.6430 - val_loss: 0.6699 - val_accuracy: 0.5827 - val_auc: 0.6224\n",
            "\n",
            "Epoch 00044: saving model to /content/drive/MyDrive/Projects/GSoC 2021/Model_Hybrid/QCNN_Type1_L1Q3_10000samples-44epoch.h5\n",
            "Saved custom checkpoint for epoch 44.\n",
            "Epoch 45/200\n",
            "Learning rate:  0.001\n",
            "67/67 [==============================] - 591s 9s/step - loss: 0.6624 - accuracy: 0.5979 - auc: 0.6374 - val_loss: 0.6674 - val_accuracy: 0.6013 - val_auc: 0.6280\n",
            "\n",
            "Epoch 00045: saving model to /content/drive/MyDrive/Projects/GSoC 2021/Model_Hybrid/QCNN_Type1_L1Q3_10000samples-45epoch.h5\n",
            "Saved custom checkpoint for epoch 45.\n",
            "Epoch 46/200\n",
            "Learning rate:  0.001\n",
            "67/67 [==============================] - 593s 9s/step - loss: 0.6631 - accuracy: 0.5935 - auc: 0.6353 - val_loss: 0.6661 - val_accuracy: 0.6060 - val_auc: 0.6314\n",
            "\n",
            "Epoch 00046: saving model to /content/drive/MyDrive/Projects/GSoC 2021/Model_Hybrid/QCNN_Type1_L1Q3_10000samples-46epoch.h5\n",
            "Saved custom checkpoint for epoch 46.\n",
            "Epoch 47/200\n",
            "Learning rate:  0.001\n",
            "67/67 [==============================] - 591s 9s/step - loss: 0.6642 - accuracy: 0.5931 - auc: 0.6320 - val_loss: 0.6662 - val_accuracy: 0.6067 - val_auc: 0.6308\n",
            "\n",
            "Epoch 00047: saving model to /content/drive/MyDrive/Projects/GSoC 2021/Model_Hybrid/QCNN_Type1_L1Q3_10000samples-47epoch.h5\n",
            "Saved custom checkpoint for epoch 47.\n",
            "Epoch 48/200\n",
            "Learning rate:  0.001\n",
            "67/67 [==============================] - 591s 9s/step - loss: 0.6635 - accuracy: 0.5962 - auc: 0.6358 - val_loss: 0.6730 - val_accuracy: 0.5767 - val_auc: 0.6153\n",
            "\n",
            "Epoch 00048: saving model to /content/drive/MyDrive/Projects/GSoC 2021/Model_Hybrid/QCNN_Type1_L1Q3_10000samples-48epoch.h5\n",
            "Saved custom checkpoint for epoch 48.\n",
            "Epoch 49/200\n",
            "Learning rate:  0.001\n",
            "67/67 [==============================] - 593s 9s/step - loss: 0.6646 - accuracy: 0.5967 - auc: 0.6314 - val_loss: 0.6703 - val_accuracy: 0.5847 - val_auc: 0.6219\n",
            "\n",
            "Epoch 00049: saving model to /content/drive/MyDrive/Projects/GSoC 2021/Model_Hybrid/QCNN_Type1_L1Q3_10000samples-49epoch.h5\n",
            "Saved custom checkpoint for epoch 49.\n",
            "Epoch 50/200\n",
            "Learning rate:  0.001\n",
            "67/67 [==============================] - 585s 9s/step - loss: 0.6618 - accuracy: 0.6018 - auc: 0.6366 - val_loss: 0.6658 - val_accuracy: 0.6067 - val_auc: 0.6324\n",
            "\n",
            "Epoch 00050: saving model to /content/drive/MyDrive/Projects/GSoC 2021/Model_Hybrid/QCNN_Type1_L1Q3_10000samples-50epoch.h5\n",
            "Saved custom checkpoint for epoch 50.\n",
            "Epoch 51/200\n",
            "Learning rate:  0.001\n",
            "67/67 [==============================] - 597s 9s/step - loss: 0.6625 - accuracy: 0.5979 - auc: 0.6358 - val_loss: 0.6655 - val_accuracy: 0.6087 - val_auc: 0.6332\n",
            "\n",
            "Epoch 00051: saving model to /content/drive/MyDrive/Projects/GSoC 2021/Model_Hybrid/QCNN_Type1_L1Q3_10000samples-51epoch.h5\n",
            "Saved custom checkpoint for epoch 51.\n",
            "Epoch 52/200\n",
            "Learning rate:  0.001\n",
            "67/67 [==============================] - 604s 9s/step - loss: 0.6601 - accuracy: 0.6044 - auc: 0.6435 - val_loss: 0.6658 - val_accuracy: 0.6007 - val_auc: 0.6324\n",
            "\n",
            "Epoch 00052: saving model to /content/drive/MyDrive/Projects/GSoC 2021/Model_Hybrid/QCNN_Type1_L1Q3_10000samples-52epoch.h5\n",
            "Saved custom checkpoint for epoch 52.\n",
            "Epoch 53/200\n",
            "Learning rate:  0.001\n",
            "67/67 [==============================] - 609s 9s/step - loss: 0.6595 - accuracy: 0.6046 - auc: 0.6438 - val_loss: 0.6667 - val_accuracy: 0.5947 - val_auc: 0.6304\n",
            "\n",
            "Epoch 00053: saving model to /content/drive/MyDrive/Projects/GSoC 2021/Model_Hybrid/QCNN_Type1_L1Q3_10000samples-53epoch.h5\n",
            "Saved custom checkpoint for epoch 53.\n",
            "Epoch 54/200\n",
            "Learning rate:  0.001\n",
            "67/67 [==============================] - 616s 9s/step - loss: 0.6593 - accuracy: 0.6086 - auc: 0.6445 - val_loss: 0.6651 - val_accuracy: 0.6080 - val_auc: 0.6340\n",
            "\n",
            "Epoch 00054: saving model to /content/drive/MyDrive/Projects/GSoC 2021/Model_Hybrid/QCNN_Type1_L1Q3_10000samples-54epoch.h5\n",
            "Saved custom checkpoint for epoch 54.\n",
            "Epoch 55/200\n",
            "Learning rate:  0.001\n",
            "67/67 [==============================] - 611s 9s/step - loss: 0.6641 - accuracy: 0.5999 - auc: 0.6333 - val_loss: 0.6665 - val_accuracy: 0.5920 - val_auc: 0.6309\n",
            "\n",
            "Epoch 00055: saving model to /content/drive/MyDrive/Projects/GSoC 2021/Model_Hybrid/QCNN_Type1_L1Q3_10000samples-55epoch.h5\n",
            "Saved custom checkpoint for epoch 55.\n",
            "Epoch 56/200\n",
            "Learning rate:  0.001\n",
            "67/67 [==============================] - 606s 9s/step - loss: 0.6589 - accuracy: 0.6162 - auc: 0.6475 - val_loss: 0.6680 - val_accuracy: 0.5893 - val_auc: 0.6275\n",
            "\n",
            "Epoch 00056: saving model to /content/drive/MyDrive/Projects/GSoC 2021/Model_Hybrid/QCNN_Type1_L1Q3_10000samples-56epoch.h5\n",
            "Saved custom checkpoint for epoch 56.\n",
            "Epoch 57/200\n",
            "Learning rate:  0.001\n",
            "67/67 [==============================] - 604s 9s/step - loss: 0.6618 - accuracy: 0.5923 - auc: 0.6366 - val_loss: 0.6653 - val_accuracy: 0.6053 - val_auc: 0.6339\n",
            "\n",
            "Epoch 00057: saving model to /content/drive/MyDrive/Projects/GSoC 2021/Model_Hybrid/QCNN_Type1_L1Q3_10000samples-57epoch.h5\n",
            "Saved custom checkpoint for epoch 57.\n",
            "Epoch 58/200\n",
            "Learning rate:  0.001\n",
            "67/67 [==============================] - 596s 9s/step - loss: 0.6618 - accuracy: 0.6000 - auc: 0.6395 - val_loss: 0.6649 - val_accuracy: 0.6093 - val_auc: 0.6349\n",
            "\n",
            "Epoch 00058: saving model to /content/drive/MyDrive/Projects/GSoC 2021/Model_Hybrid/QCNN_Type1_L1Q3_10000samples-58epoch.h5\n",
            "Saved custom checkpoint for epoch 58.\n",
            "Epoch 59/200\n",
            "Learning rate:  0.001\n",
            "67/67 [==============================] - 591s 9s/step - loss: 0.6674 - accuracy: 0.5925 - auc: 0.6244 - val_loss: 0.6676 - val_accuracy: 0.5913 - val_auc: 0.6283\n",
            "\n",
            "Epoch 00059: saving model to /content/drive/MyDrive/Projects/GSoC 2021/Model_Hybrid/QCNN_Type1_L1Q3_10000samples-59epoch.h5\n",
            "Saved custom checkpoint for epoch 59.\n",
            "Epoch 60/200\n",
            "Learning rate:  0.001\n",
            "67/67 [==============================] - 593s 9s/step - loss: 0.6621 - accuracy: 0.5987 - auc: 0.6374 - val_loss: 0.6671 - val_accuracy: 0.5920 - val_auc: 0.6297\n",
            "\n",
            "Epoch 00060: saving model to /content/drive/MyDrive/Projects/GSoC 2021/Model_Hybrid/QCNN_Type1_L1Q3_10000samples-60epoch.h5\n",
            "Saved custom checkpoint for epoch 60.\n",
            "Epoch 61/200\n",
            "Learning rate:  0.001\n",
            "67/67 [==============================] - 597s 9s/step - loss: 0.6645 - accuracy: 0.6006 - auc: 0.6334 - val_loss: 0.6652 - val_accuracy: 0.6007 - val_auc: 0.6338\n",
            "\n",
            "Epoch 00061: saving model to /content/drive/MyDrive/Projects/GSoC 2021/Model_Hybrid/QCNN_Type1_L1Q3_10000samples-61epoch.h5\n",
            "Saved custom checkpoint for epoch 61.\n",
            "Epoch 62/200\n",
            "Learning rate:  0.001\n",
            "67/67 [==============================] - 593s 9s/step - loss: 0.6594 - accuracy: 0.6061 - auc: 0.6436 - val_loss: 0.6647 - val_accuracy: 0.6080 - val_auc: 0.6353\n",
            "\n",
            "Epoch 00062: saving model to /content/drive/MyDrive/Projects/GSoC 2021/Model_Hybrid/QCNN_Type1_L1Q3_10000samples-62epoch.h5\n",
            "Saved custom checkpoint for epoch 62.\n",
            "Epoch 63/200\n",
            "Learning rate:  0.001\n",
            "67/67 [==============================] - 589s 9s/step - loss: 0.6613 - accuracy: 0.6038 - auc: 0.6400 - val_loss: 0.6651 - val_accuracy: 0.5960 - val_auc: 0.6341\n",
            "\n",
            "Epoch 00063: saving model to /content/drive/MyDrive/Projects/GSoC 2021/Model_Hybrid/QCNN_Type1_L1Q3_10000samples-63epoch.h5\n",
            "Saved custom checkpoint for epoch 63.\n",
            "Epoch 64/200\n",
            "Learning rate:  0.001\n",
            "67/67 [==============================] - 587s 9s/step - loss: 0.6637 - accuracy: 0.5966 - auc: 0.6340 - val_loss: 0.6650 - val_accuracy: 0.5967 - val_auc: 0.6343\n",
            "\n",
            "Epoch 00064: saving model to /content/drive/MyDrive/Projects/GSoC 2021/Model_Hybrid/QCNN_Type1_L1Q3_10000samples-64epoch.h5\n",
            "Saved custom checkpoint for epoch 64.\n",
            "Epoch 65/200\n",
            "Learning rate:  0.001\n",
            "67/67 [==============================] - 588s 9s/step - loss: 0.6617 - accuracy: 0.6021 - auc: 0.6384 - val_loss: 0.6648 - val_accuracy: 0.6013 - val_auc: 0.6346\n",
            "\n",
            "Epoch 00065: saving model to /content/drive/MyDrive/Projects/GSoC 2021/Model_Hybrid/QCNN_Type1_L1Q3_10000samples-65epoch.h5\n",
            "Saved custom checkpoint for epoch 65.\n",
            "Epoch 66/200\n",
            "Learning rate:  0.001\n",
            "67/67 [==============================] - 583s 9s/step - loss: 0.6615 - accuracy: 0.5985 - auc: 0.6384 - val_loss: 0.6703 - val_accuracy: 0.5847 - val_auc: 0.6222\n",
            "\n",
            "Epoch 00066: saving model to /content/drive/MyDrive/Projects/GSoC 2021/Model_Hybrid/QCNN_Type1_L1Q3_10000samples-66epoch.h5\n",
            "Saved custom checkpoint for epoch 66.\n",
            "Epoch 67/200\n",
            "Learning rate:  0.001\n",
            "67/67 [==============================] - 583s 9s/step - loss: 0.6611 - accuracy: 0.5997 - auc: 0.6399 - val_loss: 0.6686 - val_accuracy: 0.5887 - val_auc: 0.6265\n",
            "\n",
            "Epoch 00067: saving model to /content/drive/MyDrive/Projects/GSoC 2021/Model_Hybrid/QCNN_Type1_L1Q3_10000samples-67epoch.h5\n",
            "Saved custom checkpoint for epoch 67.\n",
            "Epoch 68/200\n",
            "Learning rate:  0.001\n",
            "67/67 [==============================] - 598s 9s/step - loss: 0.6517 - accuracy: 0.6154 - auc: 0.6608 - val_loss: 0.6632 - val_accuracy: 0.6140 - val_auc: 0.6389\n",
            "\n",
            "Epoch 00068: saving model to /content/drive/MyDrive/Projects/GSoC 2021/Model_Hybrid/QCNN_Type1_L1Q3_10000samples-68epoch.h5\n",
            "Saved custom checkpoint for epoch 68.\n",
            "Epoch 69/200\n",
            "Learning rate:  0.001\n",
            "67/67 [==============================] - 605s 9s/step - loss: 0.6610 - accuracy: 0.6035 - auc: 0.6405 - val_loss: 0.6641 - val_accuracy: 0.5973 - val_auc: 0.6363\n",
            "\n",
            "Epoch 00069: saving model to /content/drive/MyDrive/Projects/GSoC 2021/Model_Hybrid/QCNN_Type1_L1Q3_10000samples-69epoch.h5\n",
            "Saved custom checkpoint for epoch 69.\n",
            "Epoch 70/200\n",
            "Learning rate:  0.001\n",
            "67/67 [==============================] - 603s 9s/step - loss: 0.6513 - accuracy: 0.6203 - auc: 0.6628 - val_loss: 0.6671 - val_accuracy: 0.5893 - val_auc: 0.6297\n",
            "\n",
            "Epoch 00070: saving model to /content/drive/MyDrive/Projects/GSoC 2021/Model_Hybrid/QCNN_Type1_L1Q3_10000samples-70epoch.h5\n",
            "Saved custom checkpoint for epoch 70.\n",
            "Epoch 71/200\n",
            "Learning rate:  0.001\n",
            "67/67 [==============================] - 607s 9s/step - loss: 0.6583 - accuracy: 0.6078 - auc: 0.6470 - val_loss: 0.6628 - val_accuracy: 0.6160 - val_auc: 0.6395\n",
            "\n",
            "Epoch 00071: saving model to /content/drive/MyDrive/Projects/GSoC 2021/Model_Hybrid/QCNN_Type1_L1Q3_10000samples-71epoch.h5\n",
            "Saved custom checkpoint for epoch 71.\n",
            "Epoch 72/200\n",
            "Learning rate:  0.001\n",
            "67/67 [==============================] - 612s 9s/step - loss: 0.6604 - accuracy: 0.6095 - auc: 0.6433 - val_loss: 0.6627 - val_accuracy: 0.6127 - val_auc: 0.6400\n",
            "\n",
            "Epoch 00072: saving model to /content/drive/MyDrive/Projects/GSoC 2021/Model_Hybrid/QCNN_Type1_L1Q3_10000samples-72epoch.h5\n",
            "Saved custom checkpoint for epoch 72.\n",
            "Epoch 73/200\n",
            "Learning rate:  0.001\n",
            "67/67 [==============================] - 623s 9s/step - loss: 0.6588 - accuracy: 0.6061 - auc: 0.6448 - val_loss: 0.6625 - val_accuracy: 0.6147 - val_auc: 0.6403\n",
            "\n",
            "Epoch 00073: saving model to /content/drive/MyDrive/Projects/GSoC 2021/Model_Hybrid/QCNN_Type1_L1Q3_10000samples-73epoch.h5\n",
            "Saved custom checkpoint for epoch 73.\n",
            "Epoch 74/200\n",
            "Learning rate:  0.001\n",
            "67/67 [==============================] - 621s 9s/step - loss: 0.6596 - accuracy: 0.6106 - auc: 0.6453 - val_loss: 0.6625 - val_accuracy: 0.6113 - val_auc: 0.6405\n",
            "\n",
            "Epoch 00074: saving model to /content/drive/MyDrive/Projects/GSoC 2021/Model_Hybrid/QCNN_Type1_L1Q3_10000samples-74epoch.h5\n",
            "Saved custom checkpoint for epoch 74.\n",
            "Epoch 75/200\n",
            "Learning rate:  0.001\n",
            "67/67 [==============================] - 618s 9s/step - loss: 0.6581 - accuracy: 0.6136 - auc: 0.6477 - val_loss: 0.6639 - val_accuracy: 0.5993 - val_auc: 0.6368\n",
            "\n",
            "Epoch 00075: saving model to /content/drive/MyDrive/Projects/GSoC 2021/Model_Hybrid/QCNN_Type1_L1Q3_10000samples-75epoch.h5\n",
            "Saved custom checkpoint for epoch 75.\n",
            "Epoch 76/200\n",
            "Learning rate:  0.001\n",
            "67/67 [==============================] - 619s 9s/step - loss: 0.6600 - accuracy: 0.6013 - auc: 0.6429 - val_loss: 0.6623 - val_accuracy: 0.6120 - val_auc: 0.6412\n",
            "\n",
            "Epoch 00076: saving model to /content/drive/MyDrive/Projects/GSoC 2021/Model_Hybrid/QCNN_Type1_L1Q3_10000samples-76epoch.h5\n",
            "Saved custom checkpoint for epoch 76.\n",
            "Epoch 77/200\n",
            "Learning rate:  0.001\n",
            "67/67 [==============================] - 619s 9s/step - loss: 0.6627 - accuracy: 0.5957 - auc: 0.6356 - val_loss: 0.6619 - val_accuracy: 0.6167 - val_auc: 0.6421\n",
            "\n",
            "Epoch 00077: saving model to /content/drive/MyDrive/Projects/GSoC 2021/Model_Hybrid/QCNN_Type1_L1Q3_10000samples-77epoch.h5\n",
            "Saved custom checkpoint for epoch 77.\n",
            "Epoch 78/200\n",
            "Learning rate:  0.001\n",
            "67/67 [==============================] - 622s 9s/step - loss: 0.6557 - accuracy: 0.6100 - auc: 0.6527 - val_loss: 0.6623 - val_accuracy: 0.6087 - val_auc: 0.6410\n",
            "\n",
            "Epoch 00078: saving model to /content/drive/MyDrive/Projects/GSoC 2021/Model_Hybrid/QCNN_Type1_L1Q3_10000samples-78epoch.h5\n",
            "Saved custom checkpoint for epoch 78.\n",
            "Epoch 79/200\n",
            "Learning rate:  0.001\n",
            "67/67 [==============================] - 621s 9s/step - loss: 0.6592 - accuracy: 0.6042 - auc: 0.6443 - val_loss: 0.6622 - val_accuracy: 0.6093 - val_auc: 0.6411\n",
            "\n",
            "Epoch 00079: saving model to /content/drive/MyDrive/Projects/GSoC 2021/Model_Hybrid/QCNN_Type1_L1Q3_10000samples-79epoch.h5\n",
            "Saved custom checkpoint for epoch 79.\n",
            "Epoch 80/200\n",
            "Learning rate:  0.001\n",
            "67/67 [==============================] - 620s 9s/step - loss: 0.6605 - accuracy: 0.6000 - auc: 0.6414 - val_loss: 0.6619 - val_accuracy: 0.6120 - val_auc: 0.6421\n",
            "\n",
            "Epoch 00080: saving model to /content/drive/MyDrive/Projects/GSoC 2021/Model_Hybrid/QCNN_Type1_L1Q3_10000samples-80epoch.h5\n",
            "Saved custom checkpoint for epoch 80.\n",
            "Epoch 81/200\n",
            "Learning rate:  0.001\n",
            "67/67 [==============================] - 623s 9s/step - loss: 0.6542 - accuracy: 0.6181 - auc: 0.6572 - val_loss: 0.6611 - val_accuracy: 0.6180 - val_auc: 0.6441\n",
            "\n",
            "Epoch 00081: saving model to /content/drive/MyDrive/Projects/GSoC 2021/Model_Hybrid/QCNN_Type1_L1Q3_10000samples-81epoch.h5\n",
            "Saved custom checkpoint for epoch 81.\n",
            "Epoch 82/200\n",
            "Learning rate:  0.0001\n",
            "67/67 [==============================] - 609s 9s/step - loss: 0.6575 - accuracy: 0.6095 - auc: 0.6488 - val_loss: 0.6616 - val_accuracy: 0.6133 - val_auc: 0.6425\n",
            "\n",
            "Epoch 00082: saving model to /content/drive/MyDrive/Projects/GSoC 2021/Model_Hybrid/QCNN_Type1_L1Q3_10000samples-82epoch.h5\n",
            "Saved custom checkpoint for epoch 82.\n",
            "Epoch 83/200\n",
            "Learning rate:  0.0001\n",
            "67/67 [==============================] - 605s 9s/step - loss: 0.6605 - accuracy: 0.6048 - auc: 0.6430 - val_loss: 0.6616 - val_accuracy: 0.6127 - val_auc: 0.6427\n",
            "\n",
            "Epoch 00083: saving model to /content/drive/MyDrive/Projects/GSoC 2021/Model_Hybrid/QCNN_Type1_L1Q3_10000samples-83epoch.h5\n",
            "Saved custom checkpoint for epoch 83.\n",
            "Epoch 84/200\n",
            "Learning rate:  0.0001\n",
            "67/67 [==============================] - 602s 9s/step - loss: 0.6549 - accuracy: 0.6110 - auc: 0.6537 - val_loss: 0.6617 - val_accuracy: 0.6093 - val_auc: 0.6422\n",
            "\n",
            "Epoch 00084: saving model to /content/drive/MyDrive/Projects/GSoC 2021/Model_Hybrid/QCNN_Type1_L1Q3_10000samples-84epoch.h5\n",
            "Saved custom checkpoint for epoch 84.\n",
            "Epoch 85/200\n",
            "Learning rate:  0.0001\n",
            "67/67 [==============================] - 597s 9s/step - loss: 0.6593 - accuracy: 0.6002 - auc: 0.6436 - val_loss: 0.6617 - val_accuracy: 0.6093 - val_auc: 0.6423\n",
            "\n",
            "Epoch 00085: saving model to /content/drive/MyDrive/Projects/GSoC 2021/Model_Hybrid/QCNN_Type1_L1Q3_10000samples-85epoch.h5\n",
            "Saved custom checkpoint for epoch 85.\n",
            "Epoch 86/200\n",
            "Learning rate:  0.0001\n",
            "67/67 [==============================] - 596s 9s/step - loss: 0.6580 - accuracy: 0.6106 - auc: 0.6478 - val_loss: 0.6615 - val_accuracy: 0.6120 - val_auc: 0.6431\n",
            "\n",
            "Epoch 00086: saving model to /content/drive/MyDrive/Projects/GSoC 2021/Model_Hybrid/QCNN_Type1_L1Q3_10000samples-86epoch.h5\n",
            "Saved custom checkpoint for epoch 86.\n",
            "Epoch 87/200\n",
            "Learning rate:  0.0001\n",
            "67/67 [==============================] - 593s 9s/step - loss: 0.6591 - accuracy: 0.6033 - auc: 0.6454 - val_loss: 0.6618 - val_accuracy: 0.6073 - val_auc: 0.6424\n",
            "\n",
            "Epoch 00087: saving model to /content/drive/MyDrive/Projects/GSoC 2021/Model_Hybrid/QCNN_Type1_L1Q3_10000samples-87epoch.h5\n",
            "Saved custom checkpoint for epoch 87.\n",
            "Epoch 88/200\n",
            "Learning rate:  0.0001\n",
            "67/67 [==============================] - 595s 9s/step - loss: 0.6601 - accuracy: 0.6032 - auc: 0.6418 - val_loss: 0.6614 - val_accuracy: 0.6140 - val_auc: 0.6433\n",
            "\n",
            "Epoch 00088: saving model to /content/drive/MyDrive/Projects/GSoC 2021/Model_Hybrid/QCNN_Type1_L1Q3_10000samples-88epoch.h5\n",
            "Saved custom checkpoint for epoch 88.\n",
            "Epoch 89/200\n",
            "Learning rate:  0.0001\n",
            "67/67 [==============================] - 607s 9s/step - loss: 0.6575 - accuracy: 0.6116 - auc: 0.6485 - val_loss: 0.6616 - val_accuracy: 0.6127 - val_auc: 0.6431\n",
            "\n",
            "Epoch 00089: saving model to /content/drive/MyDrive/Projects/GSoC 2021/Model_Hybrid/QCNN_Type1_L1Q3_10000samples-89epoch.h5\n",
            "Saved custom checkpoint for epoch 89.\n",
            "Epoch 90/200\n",
            "Learning rate:  0.0001\n",
            "67/67 [==============================] - 616s 9s/step - loss: 0.6608 - accuracy: 0.6039 - auc: 0.6411 - val_loss: 0.6619 - val_accuracy: 0.6073 - val_auc: 0.6419\n",
            "\n",
            "Epoch 00090: saving model to /content/drive/MyDrive/Projects/GSoC 2021/Model_Hybrid/QCNN_Type1_L1Q3_10000samples-90epoch.h5\n",
            "Saved custom checkpoint for epoch 90.\n",
            "Epoch 91/200\n",
            "Learning rate:  0.0001\n",
            "67/67 [==============================] - 622s 9s/step - loss: 0.6592 - accuracy: 0.6065 - auc: 0.6438 - val_loss: 0.6616 - val_accuracy: 0.6100 - val_auc: 0.6429\n",
            "\n",
            "Epoch 00091: saving model to /content/drive/MyDrive/Projects/GSoC 2021/Model_Hybrid/QCNN_Type1_L1Q3_10000samples-91epoch.h5\n",
            "Saved custom checkpoint for epoch 91.\n",
            "Epoch 92/200\n",
            "Learning rate:  0.0001\n",
            "67/67 [==============================] - 623s 9s/step - loss: 0.6580 - accuracy: 0.6032 - auc: 0.6473 - val_loss: 0.6614 - val_accuracy: 0.6140 - val_auc: 0.6436\n",
            "\n",
            "Epoch 00092: saving model to /content/drive/MyDrive/Projects/GSoC 2021/Model_Hybrid/QCNN_Type1_L1Q3_10000samples-92epoch.h5\n",
            "Saved custom checkpoint for epoch 92.\n",
            "Epoch 93/200\n",
            "Learning rate:  0.0001\n",
            "67/67 [==============================] - 631s 9s/step - loss: 0.6582 - accuracy: 0.6089 - auc: 0.6467 - val_loss: 0.6616 - val_accuracy: 0.6080 - val_auc: 0.6427\n",
            "\n",
            "Epoch 00093: saving model to /content/drive/MyDrive/Projects/GSoC 2021/Model_Hybrid/QCNN_Type1_L1Q3_10000samples-93epoch.h5\n",
            "Saved custom checkpoint for epoch 93.\n",
            "Epoch 94/200\n",
            "Learning rate:  0.0001\n",
            "67/67 [==============================] - 628s 9s/step - loss: 0.6559 - accuracy: 0.6085 - auc: 0.6528 - val_loss: 0.6620 - val_accuracy: 0.6040 - val_auc: 0.6417\n",
            "\n",
            "Epoch 00094: saving model to /content/drive/MyDrive/Projects/GSoC 2021/Model_Hybrid/QCNN_Type1_L1Q3_10000samples-94epoch.h5\n",
            "Saved custom checkpoint for epoch 94.\n",
            "Epoch 95/200\n",
            "Learning rate:  0.0001\n",
            "67/67 [==============================] - 606s 9s/step - loss: 0.6589 - accuracy: 0.6010 - auc: 0.6449 - val_loss: 0.6616 - val_accuracy: 0.6093 - val_auc: 0.6427\n",
            "\n",
            "Epoch 00095: saving model to /content/drive/MyDrive/Projects/GSoC 2021/Model_Hybrid/QCNN_Type1_L1Q3_10000samples-95epoch.h5\n",
            "Saved custom checkpoint for epoch 95.\n",
            "Epoch 96/200\n",
            "Learning rate:  0.0001\n",
            "67/67 [==============================] - 583s 9s/step - loss: 0.6575 - accuracy: 0.6097 - auc: 0.6489 - val_loss: 0.6614 - val_accuracy: 0.6147 - val_auc: 0.6435\n",
            "\n",
            "Epoch 00096: saving model to /content/drive/MyDrive/Projects/GSoC 2021/Model_Hybrid/QCNN_Type1_L1Q3_10000samples-96epoch.h5\n",
            "Saved custom checkpoint for epoch 96.\n",
            "Epoch 97/200\n",
            "Learning rate:  0.0001\n",
            "67/67 [==============================] - 584s 9s/step - loss: 0.6580 - accuracy: 0.6094 - auc: 0.6483 - val_loss: 0.6621 - val_accuracy: 0.6040 - val_auc: 0.6416\n",
            "\n",
            "Epoch 00097: saving model to /content/drive/MyDrive/Projects/GSoC 2021/Model_Hybrid/QCNN_Type1_L1Q3_10000samples-97epoch.h5\n",
            "Saved custom checkpoint for epoch 97.\n",
            "Epoch 98/200\n",
            "Learning rate:  0.0001\n",
            "67/67 [==============================] - 587s 9s/step - loss: 0.6589 - accuracy: 0.5992 - auc: 0.6426 - val_loss: 0.6618 - val_accuracy: 0.6053 - val_auc: 0.6420\n",
            "\n",
            "Epoch 00098: saving model to /content/drive/MyDrive/Projects/GSoC 2021/Model_Hybrid/QCNN_Type1_L1Q3_10000samples-98epoch.h5\n",
            "Saved custom checkpoint for epoch 98.\n",
            "Epoch 99/200\n",
            "Learning rate:  0.0001\n",
            "67/67 [==============================] - 596s 9s/step - loss: 0.6575 - accuracy: 0.6046 - auc: 0.6482 - val_loss: 0.6618 - val_accuracy: 0.6060 - val_auc: 0.6424\n",
            "\n",
            "Epoch 00099: saving model to /content/drive/MyDrive/Projects/GSoC 2021/Model_Hybrid/QCNN_Type1_L1Q3_10000samples-99epoch.h5\n",
            "Saved custom checkpoint for epoch 99.\n",
            "Epoch 100/200\n",
            "Learning rate:  0.0001\n",
            "67/67 [==============================] - 600s 9s/step - loss: 0.6541 - accuracy: 0.6202 - auc: 0.6562 - val_loss: 0.6616 - val_accuracy: 0.6080 - val_auc: 0.6427\n",
            "\n",
            "Epoch 00100: saving model to /content/drive/MyDrive/Projects/GSoC 2021/Model_Hybrid/QCNN_Type1_L1Q3_10000samples-100epoch.h5\n",
            "Saved custom checkpoint for epoch 100.\n",
            "Epoch 101/200\n",
            "Learning rate:  0.0001\n",
            "67/67 [==============================] - 595s 9s/step - loss: 0.6608 - accuracy: 0.6060 - auc: 0.6414 - val_loss: 0.6618 - val_accuracy: 0.6033 - val_auc: 0.6423\n",
            "\n",
            "Epoch 00101: saving model to /content/drive/MyDrive/Projects/GSoC 2021/Model_Hybrid/QCNN_Type1_L1Q3_10000samples-101epoch.h5\n",
            "Saved custom checkpoint for epoch 101.\n",
            "Epoch 102/200\n",
            "Learning rate:  0.0001\n",
            "67/67 [==============================] - 601s 9s/step - loss: 0.6566 - accuracy: 0.6097 - auc: 0.6494 - val_loss: 0.6615 - val_accuracy: 0.6100 - val_auc: 0.6430\n",
            "\n",
            "Epoch 00102: saving model to /content/drive/MyDrive/Projects/GSoC 2021/Model_Hybrid/QCNN_Type1_L1Q3_10000samples-102epoch.h5\n",
            "Saved custom checkpoint for epoch 102.\n",
            "Epoch 103/200\n",
            "Learning rate:  0.0001\n",
            "67/67 [==============================] - 596s 9s/step - loss: 0.6605 - accuracy: 0.6026 - auc: 0.6407 - val_loss: 0.6619 - val_accuracy: 0.6033 - val_auc: 0.6419\n",
            "\n",
            "Epoch 00103: saving model to /content/drive/MyDrive/Projects/GSoC 2021/Model_Hybrid/QCNN_Type1_L1Q3_10000samples-103epoch.h5\n",
            "Saved custom checkpoint for epoch 103.\n",
            "Epoch 104/200\n",
            "Learning rate:  0.0001\n",
            "67/67 [==============================] - 602s 9s/step - loss: 0.6563 - accuracy: 0.6095 - auc: 0.6512 - val_loss: 0.6616 - val_accuracy: 0.6080 - val_auc: 0.6426\n",
            "\n",
            "Epoch 00104: saving model to /content/drive/MyDrive/Projects/GSoC 2021/Model_Hybrid/QCNN_Type1_L1Q3_10000samples-104epoch.h5\n",
            "Saved custom checkpoint for epoch 104.\n",
            "Epoch 105/200\n",
            "Learning rate:  0.0001\n",
            "67/67 [==============================] - 606s 9s/step - loss: 0.6582 - accuracy: 0.6028 - auc: 0.6469 - val_loss: 0.6617 - val_accuracy: 0.6067 - val_auc: 0.6426\n",
            "\n",
            "Epoch 00105: saving model to /content/drive/MyDrive/Projects/GSoC 2021/Model_Hybrid/QCNN_Type1_L1Q3_10000samples-105epoch.h5\n",
            "Saved custom checkpoint for epoch 105.\n",
            "Epoch 106/200\n",
            "Learning rate:  0.0001\n",
            "67/67 [==============================] - 602s 9s/step - loss: 0.6580 - accuracy: 0.6058 - auc: 0.6466 - val_loss: 0.6619 - val_accuracy: 0.6040 - val_auc: 0.6423\n",
            "\n",
            "Epoch 00106: saving model to /content/drive/MyDrive/Projects/GSoC 2021/Model_Hybrid/QCNN_Type1_L1Q3_10000samples-106epoch.h5\n",
            "Saved custom checkpoint for epoch 106.\n",
            "Epoch 107/200\n",
            "Learning rate:  0.0001\n",
            "67/67 [==============================] - 599s 9s/step - loss: 0.6587 - accuracy: 0.6056 - auc: 0.6457 - val_loss: 0.6615 - val_accuracy: 0.6080 - val_auc: 0.6431\n",
            "\n",
            "Epoch 00107: saving model to /content/drive/MyDrive/Projects/GSoC 2021/Model_Hybrid/QCNN_Type1_L1Q3_10000samples-107epoch.h5\n",
            "Saved custom checkpoint for epoch 107.\n",
            "Epoch 108/200\n",
            "Learning rate:  0.0001\n",
            "67/67 [==============================] - 602s 9s/step - loss: 0.6626 - accuracy: 0.5952 - auc: 0.6363 - val_loss: 0.6617 - val_accuracy: 0.6047 - val_auc: 0.6425\n",
            "\n",
            "Epoch 00108: saving model to /content/drive/MyDrive/Projects/GSoC 2021/Model_Hybrid/QCNN_Type1_L1Q3_10000samples-108epoch.h5\n",
            "Saved custom checkpoint for epoch 108.\n",
            "Epoch 109/200\n",
            "Learning rate:  0.0001\n",
            "67/67 [==============================] - 599s 9s/step - loss: 0.6580 - accuracy: 0.6058 - auc: 0.6469 - val_loss: 0.6616 - val_accuracy: 0.6080 - val_auc: 0.6426\n",
            "\n",
            "Epoch 00109: saving model to /content/drive/MyDrive/Projects/GSoC 2021/Model_Hybrid/QCNN_Type1_L1Q3_10000samples-109epoch.h5\n",
            "Saved custom checkpoint for epoch 109.\n",
            "Epoch 110/200\n",
            "Learning rate:  0.0001\n",
            "67/67 [==============================] - 597s 9s/step - loss: 0.6613 - accuracy: 0.5991 - auc: 0.6401 - val_loss: 0.6615 - val_accuracy: 0.6080 - val_auc: 0.6431\n",
            "\n",
            "Epoch 00110: saving model to /content/drive/MyDrive/Projects/GSoC 2021/Model_Hybrid/QCNN_Type1_L1Q3_10000samples-110epoch.h5\n",
            "Saved custom checkpoint for epoch 110.\n",
            "Epoch 111/200\n",
            "Learning rate:  0.0001\n",
            "67/67 [==============================] - 602s 9s/step - loss: 0.6595 - accuracy: 0.6022 - auc: 0.6436 - val_loss: 0.6614 - val_accuracy: 0.6100 - val_auc: 0.6431\n",
            "\n",
            "Epoch 00111: saving model to /content/drive/MyDrive/Projects/GSoC 2021/Model_Hybrid/QCNN_Type1_L1Q3_10000samples-111epoch.h5\n",
            "Saved custom checkpoint for epoch 111.\n",
            "Epoch 112/200\n",
            "Learning rate:  0.0001\n",
            "67/67 [==============================] - 594s 9s/step - loss: 0.6626 - accuracy: 0.6002 - auc: 0.6364 - val_loss: 0.6613 - val_accuracy: 0.6120 - val_auc: 0.6436\n",
            "\n",
            "Epoch 00112: saving model to /content/drive/MyDrive/Projects/GSoC 2021/Model_Hybrid/QCNN_Type1_L1Q3_10000samples-112epoch.h5\n",
            "Saved custom checkpoint for epoch 112.\n",
            "Epoch 113/200\n",
            "Learning rate:  0.0001\n",
            "67/67 [==============================] - 578s 9s/step - loss: 0.6553 - accuracy: 0.6093 - auc: 0.6532 - val_loss: 0.6614 - val_accuracy: 0.6080 - val_auc: 0.6431\n",
            "\n",
            "Epoch 00113: saving model to /content/drive/MyDrive/Projects/GSoC 2021/Model_Hybrid/QCNN_Type1_L1Q3_10000samples-113epoch.h5\n",
            "Saved custom checkpoint for epoch 113.\n",
            "Epoch 114/200\n",
            "Learning rate:  0.0001\n",
            "67/67 [==============================] - 571s 9s/step - loss: 0.6581 - accuracy: 0.6078 - auc: 0.6477 - val_loss: 0.6613 - val_accuracy: 0.6133 - val_auc: 0.6434\n",
            "\n",
            "Epoch 00114: saving model to /content/drive/MyDrive/Projects/GSoC 2021/Model_Hybrid/QCNN_Type1_L1Q3_10000samples-114epoch.h5\n",
            "Saved custom checkpoint for epoch 114.\n",
            "Epoch 115/200\n",
            "Learning rate:  0.0001\n",
            "67/67 [==============================] - 584s 9s/step - loss: 0.6572 - accuracy: 0.6060 - auc: 0.6490 - val_loss: 0.6612 - val_accuracy: 0.6133 - val_auc: 0.6437\n",
            "\n",
            "Epoch 00115: saving model to /content/drive/MyDrive/Projects/GSoC 2021/Model_Hybrid/QCNN_Type1_L1Q3_10000samples-115epoch.h5\n",
            "Saved custom checkpoint for epoch 115.\n",
            "Epoch 116/200\n",
            "Learning rate:  0.0001\n",
            "67/67 [==============================] - 584s 9s/step - loss: 0.6549 - accuracy: 0.6078 - auc: 0.6550 - val_loss: 0.6616 - val_accuracy: 0.6053 - val_auc: 0.6429\n",
            "\n",
            "Epoch 00116: saving model to /content/drive/MyDrive/Projects/GSoC 2021/Model_Hybrid/QCNN_Type1_L1Q3_10000samples-116epoch.h5\n",
            "Saved custom checkpoint for epoch 116.\n",
            "Epoch 117/200\n",
            "Learning rate:  0.0001\n",
            "42/67 [=================>............] - ETA: 3:17 - loss: 0.6573 - accuracy: 0.6067 - auc: 0.6491"
          ],
          "name": "stdout"
        }
      ]
    },
    {
      "cell_type": "code",
      "metadata": {
        "colab": {
          "base_uri": "https://localhost:8080/"
        },
        "id": "iSJGmmC8hTv7",
        "outputId": "75935263-6af8-4140-e3d4-fac4844d13a8"
      },
      "source": [
        "checkpoint.restore(tf.train.latest_checkpoint(checkpoint_dir))"
      ],
      "execution_count": null,
      "outputs": [
        {
          "output_type": "execute_result",
          "data": {
            "text/plain": [
              "<tensorflow.python.training.tracking.util.CheckpointLoadStatus at 0x7f380af41d10>"
            ]
          },
          "metadata": {
            "tags": []
          },
          "execution_count": 39
        }
      ]
    },
    {
      "cell_type": "code",
      "metadata": {
        "colab": {
          "base_uri": "https://localhost:8080/"
        },
        "id": "TXEQHTFihUNH",
        "outputId": "eee1a6b8-c310-46dc-9de2-37f9d0a73c87"
      },
      "source": [
        "import time\n",
        "#start_time = time.time()\n",
        "\n",
        "last_epoch = 188\n",
        "\n",
        "H = model.fit(x_train, y_train, initial_epoch=last_epoch,\n",
        "              batch_size=BATCH_SIZE,\n",
        "              epochs=EPOCHS,\n",
        "              validation_data=(x_test, y_test),\n",
        "              shuffle=True,\n",
        "              callbacks=callbacks)\n",
        "\n",
        "print(H.history)"
      ],
      "execution_count": null,
      "outputs": [
        {
          "output_type": "stream",
          "text": [
            "Epoch 189/200\n",
            "Learning rate:  5e-07\n",
            "67/67 [==============================] - 783s 11s/step - loss: 0.6439 - accuracy: 0.6281 - auc: 0.6742 - val_loss: 0.6595 - val_accuracy: 0.6273 - val_auc: 0.6542\n",
            "\n",
            "Epoch 00189: saving model to /content/drive/MyDrive/Projects/GSoC 2021/Model_Hybrid/QCNN_Type1_L1Q3_10000samples-189epoch.h5\n",
            "Saved custom checkpoint for epoch 188.\n",
            "Epoch 190/200\n",
            "Learning rate:  5e-07\n",
            "67/67 [==============================] - 729s 11s/step - loss: 0.6384 - accuracy: 0.6340 - auc: 0.6843 - val_loss: 0.6595 - val_accuracy: 0.6273 - val_auc: 0.6542\n",
            "\n",
            "Epoch 00190: saving model to /content/drive/MyDrive/Projects/GSoC 2021/Model_Hybrid/QCNN_Type1_L1Q3_10000samples-190epoch.h5\n",
            "Saved custom checkpoint for epoch 189.\n",
            "Epoch 191/200\n",
            "Learning rate:  5e-07\n",
            "67/67 [==============================] - 698s 10s/step - loss: 0.6438 - accuracy: 0.6263 - auc: 0.6749 - val_loss: 0.6595 - val_accuracy: 0.6273 - val_auc: 0.6542\n",
            "\n",
            "Epoch 00191: saving model to /content/drive/MyDrive/Projects/GSoC 2021/Model_Hybrid/QCNN_Type1_L1Q3_10000samples-191epoch.h5\n",
            "Saved custom checkpoint for epoch 190.\n",
            "Epoch 192/200\n",
            "Learning rate:  5e-07\n",
            "67/67 [==============================] - 697s 10s/step - loss: 0.6419 - accuracy: 0.6325 - auc: 0.6801 - val_loss: 0.6595 - val_accuracy: 0.6273 - val_auc: 0.6542\n",
            "\n",
            "Epoch 00192: saving model to /content/drive/MyDrive/Projects/GSoC 2021/Model_Hybrid/QCNN_Type1_L1Q3_10000samples-192epoch.h5\n",
            "Saved custom checkpoint for epoch 191.\n",
            "Epoch 193/200\n",
            "Learning rate:  5e-07\n",
            "67/67 [==============================] - 695s 10s/step - loss: 0.6407 - accuracy: 0.6348 - auc: 0.6808 - val_loss: 0.6595 - val_accuracy: 0.6273 - val_auc: 0.6542\n",
            "\n",
            "Epoch 00193: saving model to /content/drive/MyDrive/Projects/GSoC 2021/Model_Hybrid/QCNN_Type1_L1Q3_10000samples-193epoch.h5\n",
            "Saved custom checkpoint for epoch 192.\n",
            "Epoch 194/200\n",
            "Learning rate:  5e-07\n",
            "67/67 [==============================] - 687s 10s/step - loss: 0.6385 - accuracy: 0.6369 - auc: 0.6840 - val_loss: 0.6595 - val_accuracy: 0.6273 - val_auc: 0.6542\n",
            "\n",
            "Epoch 00194: saving model to /content/drive/MyDrive/Projects/GSoC 2021/Model_Hybrid/QCNN_Type1_L1Q3_10000samples-194epoch.h5\n",
            "Saved custom checkpoint for epoch 193.\n",
            "Epoch 195/200\n",
            "Learning rate:  5e-07\n",
            "67/67 [==============================] - 692s 10s/step - loss: 0.6456 - accuracy: 0.6278 - auc: 0.6722 - val_loss: 0.6595 - val_accuracy: 0.6273 - val_auc: 0.6542\n",
            "\n",
            "Epoch 00195: saving model to /content/drive/MyDrive/Projects/GSoC 2021/Model_Hybrid/QCNN_Type1_L1Q3_10000samples-195epoch.h5\n",
            "Saved custom checkpoint for epoch 194.\n",
            "Epoch 196/200\n",
            "Learning rate:  5e-07\n",
            "67/67 [==============================] - 686s 10s/step - loss: 0.6446 - accuracy: 0.6271 - auc: 0.6735 - val_loss: 0.6595 - val_accuracy: 0.6273 - val_auc: 0.6542\n",
            "\n",
            "Epoch 00196: saving model to /content/drive/MyDrive/Projects/GSoC 2021/Model_Hybrid/QCNN_Type1_L1Q3_10000samples-196epoch.h5\n",
            "Saved custom checkpoint for epoch 195.\n",
            "Epoch 197/200\n",
            "Learning rate:  5e-07\n",
            "67/67 [==============================] - 694s 10s/step - loss: 0.6412 - accuracy: 0.6321 - auc: 0.6799 - val_loss: 0.6595 - val_accuracy: 0.6273 - val_auc: 0.6542\n",
            "\n",
            "Epoch 00197: saving model to /content/drive/MyDrive/Projects/GSoC 2021/Model_Hybrid/QCNN_Type1_L1Q3_10000samples-197epoch.h5\n",
            "Saved custom checkpoint for epoch 196.\n",
            "Epoch 198/200\n",
            "Learning rate:  5e-07\n",
            "67/67 [==============================] - 689s 10s/step - loss: 0.6404 - accuracy: 0.6331 - auc: 0.6818 - val_loss: 0.6595 - val_accuracy: 0.6273 - val_auc: 0.6542\n",
            "\n",
            "Epoch 00198: saving model to /content/drive/MyDrive/Projects/GSoC 2021/Model_Hybrid/QCNN_Type1_L1Q3_10000samples-198epoch.h5\n",
            "Saved custom checkpoint for epoch 197.\n",
            "Epoch 199/200\n",
            "Learning rate:  5e-07\n",
            "67/67 [==============================] - 687s 10s/step - loss: 0.6415 - accuracy: 0.6327 - auc: 0.6794 - val_loss: 0.6595 - val_accuracy: 0.6273 - val_auc: 0.6542\n",
            "\n",
            "Epoch 00199: saving model to /content/drive/MyDrive/Projects/GSoC 2021/Model_Hybrid/QCNN_Type1_L1Q3_10000samples-199epoch.h5\n",
            "Saved custom checkpoint for epoch 198.\n",
            "Epoch 200/200\n",
            "Learning rate:  5e-07\n",
            "67/67 [==============================] - ETA: 0s - loss: 0.6472 - accuracy: 0.6216 - auc: 0.6684"
          ],
          "name": "stdout"
        }
      ]
    },
    {
      "cell_type": "code",
      "metadata": {
        "id": "XHI3FuxNrG7n",
        "colab": {
          "base_uri": "https://localhost:8080/"
        },
        "outputId": "cc2bb68e-ef10-48b8-e434-286177b112cc"
      },
      "source": [
        "checkpoint.restore(tf.train.latest_checkpoint(checkpoint_dir))"
      ],
      "execution_count": null,
      "outputs": [
        {
          "output_type": "execute_result",
          "data": {
            "text/plain": [
              "<tensorflow.python.training.tracking.util.CheckpointLoadStatus at 0x7fb57b636f90>"
            ]
          },
          "metadata": {
            "tags": []
          },
          "execution_count": 31
        }
      ]
    },
    {
      "cell_type": "code",
      "metadata": {
        "id": "F9CEbtxEEt_F"
      },
      "source": [
        ""
      ],
      "execution_count": null,
      "outputs": []
    },
    {
      "cell_type": "code",
      "metadata": {
        "id": "sX6V-sdlvpWl",
        "colab": {
          "base_uri": "https://localhost:8080/"
        },
        "outputId": "e679ec93-8256-4a9b-9220-28ffc185c5f1"
      },
      "source": [
        "import time\n",
        "#start_time = time.time()\n",
        "\n",
        "last_epoch = 199\n",
        "\n",
        "H = model.fit(x_train, y_train, initial_epoch=last_epoch,\n",
        "              batch_size=BATCH_SIZE,\n",
        "              epochs=EPOCHS,\n",
        "              validation_data=(x_test, y_test),\n",
        "              shuffle=True,\n",
        "              callbacks=callbacks)\n",
        "\n",
        "print(H.history)"
      ],
      "execution_count": null,
      "outputs": [
        {
          "output_type": "stream",
          "text": [
            "Epoch 200/200\n",
            "Learning rate:  5e-07\n",
            "67/67 [==============================] - 786s 11s/step - loss: 0.6425 - accuracy: 0.6307 - auc: 0.6772 - val_loss: 0.6595 - val_accuracy: 0.6273 - val_auc: 0.6542\n",
            "\n",
            "Epoch 00200: saving model to /content/drive/MyDrive/Projects/GSoC 2021/Model_Hybrid/QCNN_Type1_L1Q3_10000samples-200epoch.h5\n",
            "Saved custom checkpoint for epoch 199.\n",
            "{'loss': [0.6415966749191284], 'accuracy': [0.6310588121414185], 'auc': [0.6788457632064819], 'val_loss': [0.6594995260238647], 'val_accuracy': [0.6273333430290222], 'val_auc': [0.65424644947052], 'lr': [5e-07]}\n"
          ],
          "name": "stdout"
        }
      ]
    },
    {
      "cell_type": "code",
      "metadata": {
        "id": "RIUu11QF0OeZ"
      },
      "source": [
        ""
      ],
      "execution_count": null,
      "outputs": []
    },
    {
      "cell_type": "code",
      "metadata": {
        "id": "UOXaFB2_LKWl"
      },
      "source": [
        ""
      ],
      "execution_count": null,
      "outputs": []
    },
    {
      "cell_type": "code",
      "metadata": {
        "id": "SVHctgNS4a2Q"
      },
      "source": [
        "L1: "
      ],
      "execution_count": null,
      "outputs": []
    }
  ]
}