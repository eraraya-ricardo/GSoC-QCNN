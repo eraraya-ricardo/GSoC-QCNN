{
  "nbformat": 4,
  "nbformat_minor": 0,
  "metadata": {
    "colab": {
      "name": "Classical CNN",
      "provenance": [],
      "collapsed_sections": []
    },
    "kernelspec": {
      "name": "python3",
      "display_name": "Python 3"
    },
    "language_info": {
      "name": "python"
    },
    "accelerator": "GPU"
  },
  "cells": [
    {
      "cell_type": "code",
      "metadata": {
        "colab": {
          "base_uri": "https://localhost:8080/"
        },
        "id": "3pkWQGK3cpfs",
        "outputId": "4e2e9692-ae5a-4b3d-a0fb-20c398a68390"
      },
      "source": [
        "gpu_info = !nvidia-smi\n",
        "gpu_info = '\\n'.join(gpu_info)\n",
        "if gpu_info.find('failed') >= 0:\n",
        "  print('Select the Runtime > \"Change runtime type\" menu to enable a GPU accelerator, ')\n",
        "  print('and then re-execute this cell.')\n",
        "else:\n",
        "  print(gpu_info)"
      ],
      "execution_count": 1,
      "outputs": [
        {
          "output_type": "stream",
          "text": [
            "Fri Jul  9 04:36:31 2021       \n",
            "+-----------------------------------------------------------------------------+\n",
            "| NVIDIA-SMI 470.42.01    Driver Version: 460.32.03    CUDA Version: 11.2     |\n",
            "|-------------------------------+----------------------+----------------------+\n",
            "| GPU  Name        Persistence-M| Bus-Id        Disp.A | Volatile Uncorr. ECC |\n",
            "| Fan  Temp  Perf  Pwr:Usage/Cap|         Memory-Usage | GPU-Util  Compute M. |\n",
            "|                               |                      |               MIG M. |\n",
            "|===============================+======================+======================|\n",
            "|   0  Tesla V100-SXM2...  Off  | 00000000:00:04.0 Off |                    0 |\n",
            "| N/A   36C    P0    24W / 300W |      0MiB / 16160MiB |      0%      Default |\n",
            "|                               |                      |                  N/A |\n",
            "+-------------------------------+----------------------+----------------------+\n",
            "                                                                               \n",
            "+-----------------------------------------------------------------------------+\n",
            "| Processes:                                                                  |\n",
            "|  GPU   GI   CI        PID   Type   Process name                  GPU Memory |\n",
            "|        ID   ID                                                   Usage      |\n",
            "|=============================================================================|\n",
            "|  No running processes found                                                 |\n",
            "+-----------------------------------------------------------------------------+\n"
          ],
          "name": "stdout"
        }
      ]
    },
    {
      "cell_type": "code",
      "metadata": {
        "colab": {
          "base_uri": "https://localhost:8080/"
        },
        "id": "S-mpsuMxcsHD",
        "outputId": "864db6bc-16cb-4438-9e6b-b40abf55e8d0"
      },
      "source": [
        "from psutil import virtual_memory\n",
        "ram_gb = virtual_memory().total / 1e9\n",
        "print('Your runtime has {:.1f} gigabytes of available RAM\\n'.format(ram_gb))\n",
        "\n",
        "if ram_gb < 20:\n",
        "  print('To enable a high-RAM runtime, select the Runtime > \"Change runtime type\"')\n",
        "  print('menu, and then select High-RAM in the Runtime shape dropdown. Then, ')\n",
        "  print('re-execute this cell.')\n",
        "else:\n",
        "  print('You are using a high-RAM runtime!')"
      ],
      "execution_count": 2,
      "outputs": [
        {
          "output_type": "stream",
          "text": [
            "Your runtime has 13.6 gigabytes of available RAM\n",
            "\n",
            "To enable a high-RAM runtime, select the Runtime > \"Change runtime type\"\n",
            "menu, and then select High-RAM in the Runtime shape dropdown. Then, \n",
            "re-execute this cell.\n"
          ],
          "name": "stdout"
        }
      ]
    },
    {
      "cell_type": "code",
      "metadata": {
        "colab": {
          "base_uri": "https://localhost:8080/"
        },
        "id": "3nwgX29_dtqb",
        "outputId": "a9979633-d94e-4897-e935-120ad4266df4"
      },
      "source": [
        "from google.colab import drive\n",
        "drive.mount('/content/drive')"
      ],
      "execution_count": 3,
      "outputs": [
        {
          "output_type": "stream",
          "text": [
            "Drive already mounted at /content/drive; to attempt to forcibly remount, call drive.mount(\"/content/drive\", force_remount=True).\n"
          ],
          "name": "stdout"
        }
      ]
    },
    {
      "cell_type": "code",
      "metadata": {
        "id": "Iozh5W3VFySh"
      },
      "source": [
        "import h5py\n",
        "import numpy as np\n",
        "import matplotlib.pyplot as plt\n",
        "\n",
        "import tensorflow as tf\n",
        "from tensorflow.keras.models import Sequential\n",
        "from tensorflow.keras.layers import Dense, Conv2D, Flatten\n",
        "\n",
        "# data preprocessing\n",
        "from sklearn.model_selection import train_test_split\n",
        "from sklearn.preprocessing import StandardScaler\n",
        "from sklearn.decomposition import PCA"
      ],
      "execution_count": 4,
      "outputs": []
    },
    {
      "cell_type": "markdown",
      "metadata": {
        "id": "zsbKFXN4NlDM"
      },
      "source": [
        "# Checking the Dataset"
      ]
    },
    {
      "cell_type": "markdown",
      "metadata": {
        "id": "4WmPnxEwOD02"
      },
      "source": [
        "py = 0, ey = 1"
      ]
    },
    {
      "cell_type": "code",
      "metadata": {
        "colab": {
          "base_uri": "https://localhost:8080/"
        },
        "id": "1qsYK7W1cWPh",
        "outputId": "6e6bc33c-d6f9-4973-f04a-5c3ef1c891a7"
      },
      "source": [
        "with h5py.File(\"/content/drive/My Drive/Projects/GSoC 2021/electron-photon-dataset/photon.hdf5\", \"r\") as f:\n",
        "  px = np.asarray(f['X'][()], dtype=np.float32)\n",
        "  py = np.asarray(f['y'][()], dtype=np.float32)\n",
        "  print(\"Loaded photon dataset!\")\n",
        "\n",
        "with h5py.File(\"/content/drive/My Drive/Projects/GSoC 2021/electron-photon-dataset/electron.hdf5\", \"r\") as f:\n",
        "  ex = np.asarray(f['X'][()], dtype=np.float32)\n",
        "  ey = np.asarray(f['y'][()], dtype=np.float32)\n",
        "  print(\"Loaded electron dataset!\")\n",
        "\n",
        "print(\"Photon dataset shape:\", px.shape, py.shape)\n",
        "print(\"Electron dataset shape:\", ex.shape, ey.shape)"
      ],
      "execution_count": 5,
      "outputs": [
        {
          "output_type": "stream",
          "text": [
            "Loaded photon dataset!\n",
            "Loaded electron dataset!\n",
            "Photon dataset shape: (249000, 32, 32, 2) (249000,)\n",
            "Electron dataset shape: (249000, 32, 32, 2) (249000,)\n"
          ],
          "name": "stdout"
        }
      ]
    },
    {
      "cell_type": "code",
      "metadata": {
        "colab": {
          "base_uri": "https://localhost:8080/"
        },
        "id": "cJ4R_15ica0O",
        "outputId": "5d357d42-b53a-45af-e947-31a4446318c8"
      },
      "source": [
        "max_photon, min_photon = np.max(px[:, :, :, 0]), np.min(px[:, :, :, 0])\n",
        "max_electron, min_electron = np.max(ex[:, :, :, 0]), np.min(ex[:, :, :, 0])\n",
        "\n",
        "print(max_photon, min_photon)\n",
        "print(max_electron, min_electron)\n",
        "max(max_photon, abs(min_photon), max_electron, abs(min_electron))"
      ],
      "execution_count": 6,
      "outputs": [
        {
          "output_type": "stream",
          "text": [
            "1.4849443 0.0\n",
            "1.431813 0.0\n"
          ],
          "name": "stdout"
        },
        {
          "output_type": "execute_result",
          "data": {
            "text/plain": [
              "1.4849443"
            ]
          },
          "metadata": {
            "tags": []
          },
          "execution_count": 6
        }
      ]
    },
    {
      "cell_type": "code",
      "metadata": {
        "colab": {
          "base_uri": "https://localhost:8080/"
        },
        "id": "8CSIS2fqca6B",
        "outputId": "0257ce22-29e1-46ba-b182-6aaabcf7fb90"
      },
      "source": [
        "#sample_size = 10000\n",
        "\n",
        "X = np.concatenate((px[:, :, :, 0], ex[:, :, :, 0]), axis=0)\n",
        "y = np.concatenate((py[:], ey[:]), axis=0)\n",
        "\n",
        "#_, X, _, y = train_test_split(X, y, test_size=sample_size, random_state=88)\n",
        "\n",
        "print(X.shape, y.shape)"
      ],
      "execution_count": 7,
      "outputs": [
        {
          "output_type": "stream",
          "text": [
            "(498000, 32, 32) (498000,)\n"
          ],
          "name": "stdout"
        }
      ]
    },
    {
      "cell_type": "code",
      "metadata": {
        "colab": {
          "base_uri": "https://localhost:8080/"
        },
        "id": "_JYrzo8CceEx",
        "outputId": "688dcf8d-a1f9-4d9e-c5cb-4d04725fb3c3"
      },
      "source": [
        "print(\"Proton:\", np.argmax(np.mean(px[:, :, :, 0], axis=0)))\n",
        "print(\"Electron:\", np.argmax(np.mean(ex[:, :, :, 0], axis=0)))"
      ],
      "execution_count": 8,
      "outputs": [
        {
          "output_type": "stream",
          "text": [
            "Proton: 528\n",
            "Electron: 528\n"
          ],
          "name": "stdout"
        }
      ]
    },
    {
      "cell_type": "code",
      "metadata": {
        "colab": {
          "base_uri": "https://localhost:8080/"
        },
        "id": "L0KB04LCchjw",
        "outputId": "b791d814-3f45-4033-cccd-6bf4a8b43497"
      },
      "source": [
        "center = [int(528/32), 528%32]\n",
        "\n",
        "img_size = 8\n",
        "\n",
        "X = X[:, (center[0]-int(img_size/2)):(center[0]+int(img_size/2)), (center[1]-int(img_size/2)):(center[1]+int(img_size/2))]\n",
        "X.shape"
      ],
      "execution_count": 9,
      "outputs": [
        {
          "output_type": "execute_result",
          "data": {
            "text/plain": [
              "(498000, 8, 8)"
            ]
          },
          "metadata": {
            "tags": []
          },
          "execution_count": 9
        }
      ]
    },
    {
      "cell_type": "code",
      "metadata": {
        "colab": {
          "base_uri": "https://localhost:8080/",
          "height": 319
        },
        "id": "j86e1idnchnT",
        "outputId": "5b8a0fdf-d542-46c5-8818-4134177d7cd2"
      },
      "source": [
        "x_train, x_test, y_train, y_test = train_test_split(X, y, test_size=0.15, random_state=2021)\n",
        "\n",
        "scaler = StandardScaler()\n",
        "scaler.fit(x_train.reshape(-1, img_size*img_size))\n",
        "x_train = scaler.transform(x_train.reshape(-1, img_size*img_size))\n",
        "x_train = x_train.reshape(-1, img_size, img_size)\n",
        "y_train = tf.keras.utils.to_categorical(y_train)\n",
        "\n",
        "x_test = scaler.transform(x_test.reshape(-1, img_size*img_size))\n",
        "x_test = x_test.reshape(-1, img_size, img_size)\n",
        "y_test = tf.keras.utils.to_categorical(y_test)\n",
        "\n",
        "print(\"Train set shape:\", x_train.shape, y_train.shape)\n",
        "print(\"Test set shape:\", x_test.shape, y_test.shape)\n",
        "\n",
        "plt.plot(scaler.scale_)"
      ],
      "execution_count": 10,
      "outputs": [
        {
          "output_type": "stream",
          "text": [
            "Train set shape: (423300, 8, 8) (423300, 2)\n",
            "Test set shape: (74700, 8, 8) (74700, 2)\n"
          ],
          "name": "stdout"
        },
        {
          "output_type": "execute_result",
          "data": {
            "text/plain": [
              "[<matplotlib.lines.Line2D at 0x7f27d1d59bd0>]"
            ]
          },
          "metadata": {
            "tags": []
          },
          "execution_count": 10
        },
        {
          "output_type": "display_data",
          "data": {
            "image/png": "[encoded data removed]",
            "text/plain": [
              "<Figure size 432x288 with 1 Axes>"
            ]
          },
          "metadata": {
            "tags": [],
            "needs_background": "light"
          }
        }
      ]
    },
    {
      "cell_type": "code",
      "metadata": {
        "colab": {
          "base_uri": "https://localhost:8080/"
        },
        "id": "HIdtLT2IeZxG",
        "outputId": "942495f8-2397-4955-9056-bb27aacbcb6d"
      },
      "source": [
        "# final reshape to conform with Keras Conv layer\n",
        "\n",
        "x_train = x_train.reshape([-1,8,8,1])\n",
        "x_test = x_test.reshape([-1,8,8,1])\n",
        "\n",
        "print(\"Train set shape:\", x_train.shape, y_train.shape)\n",
        "print(\"Test set shape:\", x_test.shape, y_test.shape)"
      ],
      "execution_count": 11,
      "outputs": [
        {
          "output_type": "stream",
          "text": [
            "Train set shape: (423300, 8, 8, 1) (423300, 2)\n",
            "Test set shape: (74700, 8, 8, 1) (74700, 2)\n"
          ],
          "name": "stdout"
        }
      ]
    },
    {
      "cell_type": "markdown",
      "metadata": {
        "id": "BU64viyqfcJ6"
      },
      "source": [
        "# Model Training"
      ]
    },
    {
      "cell_type": "code",
      "metadata": {
        "id": "fSTT6TnLfeP-"
      },
      "source": [
        "def lr_schedule(epoch):\n",
        "    \"\"\"Learning Rate Schedule\n",
        "\n",
        "    Learning rate is scheduled to be reduced after 80, 120, 160, 180 epochs.\n",
        "    Called automatically every epoch as part of callbacks during training.\n",
        "\n",
        "    # Arguments\n",
        "        epoch (int): The number of epochs\n",
        "\n",
        "    # Returns\n",
        "        lr (float32): learning rate\n",
        "    \"\"\"\n",
        "    lr = 1e-3\n",
        "    if epoch > 180:\n",
        "        lr *= 0.5e-3\n",
        "    elif epoch > 160:\n",
        "        lr *= 1e-3\n",
        "    elif epoch > 120:\n",
        "        lr *= 1e-2\n",
        "    elif epoch > 80:\n",
        "        lr *= 1e-1\n",
        "    print('Learning rate: ', lr)\n",
        "    return lr"
      ],
      "execution_count": 12,
      "outputs": []
    },
    {
      "cell_type": "code",
      "metadata": {
        "colab": {
          "base_uri": "https://localhost:8080/"
        },
        "id": "pCIGOYshfhQv",
        "outputId": "0de8022d-7391-4e70-a0a1-ff8b915a82b1"
      },
      "source": [
        "# Training parameters\n",
        "BATCH_SIZE = 128  # orig paper trained all networks with batch_size=128\n",
        "EPOCHS = 200 # 200\n",
        "\n",
        "# Print parameters for sanity check\n",
        "print(\"Batch size, epochs:\", BATCH_SIZE, EPOCHS)"
      ],
      "execution_count": 13,
      "outputs": [
        {
          "output_type": "stream",
          "text": [
            "Batch size, epochs: 128 200\n"
          ],
          "name": "stdout"
        }
      ]
    },
    {
      "cell_type": "markdown",
      "metadata": {
        "id": "0rt5QQgocOnW"
      },
      "source": [
        "# Classical CNN"
      ]
    },
    {
      "cell_type": "code",
      "metadata": {
        "id": "A1FtsHENYU0i",
        "colab": {
          "base_uri": "https://localhost:8080/"
        },
        "outputId": "c978626a-1b37-49a4-be8f-3d98451daf16"
      },
      "source": [
        "model_conv = tf.keras.models.Sequential()\n",
        "\n",
        "model_conv.add(Conv2D(2, kernel_size=(3,3), strides=(1,1), activation='relu', input_shape=(8,8,1)))\n",
        "model_conv.add(Conv2D(1, kernel_size=(3,3), strides=(1,1), activation='relu'))\n",
        "\n",
        "model_conv.add(Flatten())\n",
        "model_conv.add(Dense(8, activation='relu'))\n",
        "model_conv.add(Dense(2, activation='softmax'))\n",
        "\n",
        "opt_adam = tf.keras.optimizers.Adam(learning_rate=lr_schedule(0))\n",
        "\n",
        "model_conv.compile(loss='categorical_crossentropy',\n",
        "              optimizer=opt_adam,\n",
        "              metrics=['accuracy', tf.keras.metrics.AUC()])"
      ],
      "execution_count": 18,
      "outputs": [
        {
          "output_type": "stream",
          "text": [
            "Learning rate:  0.001\n"
          ],
          "name": "stdout"
        }
      ]
    },
    {
      "cell_type": "code",
      "metadata": {
        "colab": {
          "base_uri": "https://localhost:8080/"
        },
        "id": "gVuWCV0ngEXv",
        "outputId": "267742e2-d26b-4cb4-aad7-259b85df3b81"
      },
      "source": [
        "model_conv(x_train[0:3])"
      ],
      "execution_count": 19,
      "outputs": [
        {
          "output_type": "execute_result",
          "data": {
            "text/plain": [
              "<tf.Tensor: shape=(3, 2), dtype=float32, numpy=\n",
              "array([[0.4802843 , 0.5197157 ],\n",
              "       [0.52872413, 0.4712759 ],\n",
              "       [0.47538018, 0.5246198 ]], dtype=float32)>"
            ]
          },
          "metadata": {
            "tags": []
          },
          "execution_count": 19
        }
      ]
    },
    {
      "cell_type": "code",
      "metadata": {
        "colab": {
          "base_uri": "https://localhost:8080/"
        },
        "id": "TGfCpKlqf_9f",
        "outputId": "6bebdac8-191c-4ccf-ca1d-1ff0ca094df4"
      },
      "source": [
        "model_conv.summary()"
      ],
      "execution_count": 20,
      "outputs": [
        {
          "output_type": "stream",
          "text": [
            "Model: \"sequential_1\"\n",
            "_________________________________________________________________\n",
            "Layer (type)                 Output Shape              Param #   \n",
            "=================================================================\n",
            "conv2d_2 (Conv2D)            (None, 6, 6, 2)           20        \n",
            "_________________________________________________________________\n",
            "conv2d_3 (Conv2D)            (None, 4, 4, 1)           19        \n",
            "_________________________________________________________________\n",
            "flatten_1 (Flatten)          (None, 16)                0         \n",
            "_________________________________________________________________\n",
            "dense_2 (Dense)              (None, 8)                 136       \n",
            "_________________________________________________________________\n",
            "dense_3 (Dense)              (None, 2)                 18        \n",
            "=================================================================\n",
            "Total params: 193\n",
            "Trainable params: 193\n",
            "Non-trainable params: 0\n",
            "_________________________________________________________________\n"
          ],
          "name": "stdout"
        }
      ]
    },
    {
      "cell_type": "code",
      "metadata": {
        "colab": {
          "base_uri": "https://localhost:8080/"
        },
        "id": "1n0OKfFlaLIf",
        "outputId": "01693189-8464-46e1-8a0b-57b235565c53"
      },
      "source": [
        "import time\n",
        "#start_time = time.time()\n",
        "\n",
        "last_epoch = 0\n",
        "\n",
        "H = model_conv.fit(x_train, y_train, initial_epoch=last_epoch,\n",
        "              batch_size=BATCH_SIZE,\n",
        "              epochs=10,\n",
        "              validation_data=(x_test, y_test),\n",
        "              shuffle=True,\n",
        "              #callbacks=callbacks\n",
        "              )\n",
        "\n",
        "print(H.history)"
      ],
      "execution_count": 21,
      "outputs": [
        {
          "output_type": "stream",
          "text": [
            "Epoch 1/10\n",
            "3308/3308 [==============================] - 14s 4ms/step - loss: 0.6557 - accuracy: 0.6130 - auc_1: 0.6528 - val_loss: 0.6368 - val_accuracy: 0.6422 - val_auc_1: 0.6880\n",
            "Epoch 2/10\n",
            "3308/3308 [==============================] - 13s 4ms/step - loss: 0.6282 - accuracy: 0.6542 - auc_1: 0.7013 - val_loss: 0.6190 - val_accuracy: 0.6662 - val_auc_1: 0.7141\n",
            "Epoch 3/10\n",
            "3308/3308 [==============================] - 13s 4ms/step - loss: 0.6172 - accuracy: 0.6672 - auc_1: 0.7173 - val_loss: 0.6124 - val_accuracy: 0.6739 - val_auc_1: 0.7234\n",
            "Epoch 4/10\n",
            "3308/3308 [==============================] - 13s 4ms/step - loss: 0.6119 - accuracy: 0.6733 - auc_1: 0.7250 - val_loss: 0.6086 - val_accuracy: 0.6777 - val_auc_1: 0.7288\n",
            "Epoch 5/10\n",
            "3308/3308 [==============================] - 13s 4ms/step - loss: 0.6091 - accuracy: 0.6767 - auc_1: 0.7289 - val_loss: 0.6083 - val_accuracy: 0.6776 - val_auc_1: 0.7295\n",
            "Epoch 6/10\n",
            "3308/3308 [==============================] - 13s 4ms/step - loss: 0.6072 - accuracy: 0.6796 - auc_1: 0.7317 - val_loss: 0.6047 - val_accuracy: 0.6814 - val_auc_1: 0.7347\n",
            "Epoch 7/10\n",
            "3308/3308 [==============================] - 13s 4ms/step - loss: 0.6061 - accuracy: 0.6810 - auc_1: 0.7332 - val_loss: 0.6066 - val_accuracy: 0.6790 - val_auc_1: 0.7317\n",
            "Epoch 8/10\n",
            "3308/3308 [==============================] - 13s 4ms/step - loss: 0.6055 - accuracy: 0.6819 - auc_1: 0.7341 - val_loss: 0.6039 - val_accuracy: 0.6836 - val_auc_1: 0.7356\n",
            "Epoch 9/10\n",
            "3308/3308 [==============================] - 13s 4ms/step - loss: 0.6046 - accuracy: 0.6831 - auc_1: 0.7352 - val_loss: 0.6035 - val_accuracy: 0.6846 - val_auc_1: 0.7367\n",
            "Epoch 10/10\n",
            "3308/3308 [==============================] - 13s 4ms/step - loss: 0.6039 - accuracy: 0.6837 - auc_1: 0.7360 - val_loss: 0.6021 - val_accuracy: 0.6852 - val_auc_1: 0.7376\n",
            "{'loss': [0.6556598544120789, 0.6281558871269226, 0.6172170042991638, 0.6118515133857727, 0.6090652346611023, 0.6072325110435486, 0.6061252951622009, 0.6054565906524658, 0.6045750975608826, 0.6038596034049988], 'accuracy': [0.6129553318023682, 0.6542499661445618, 0.6672360301017761, 0.673345148563385, 0.6766571998596191, 0.6796149015426636, 0.6810252666473389, 0.6818827986717224, 0.6831230521202087, 0.6836593151092529], 'auc_1': [0.6528117060661316, 0.7012721300125122, 0.7173222303390503, 0.7250348329544067, 0.7288979887962341, 0.7316879034042358, 0.7332205176353455, 0.7340536713600159, 0.7351810336112976, 0.7360416054725647], 'val_loss': [0.6367511749267578, 0.6189732551574707, 0.612357497215271, 0.6086041331291199, 0.6082916855812073, 0.6046769022941589, 0.6066203117370605, 0.6039364337921143, 0.6034758687019348, 0.6021291017532349], 'val_accuracy': [0.6422222256660461, 0.6661713719367981, 0.6738821864128113, 0.6777108311653137, 0.6776305437088013, 0.6814457774162292, 0.6790227293968201, 0.683641254901886, 0.6846184730529785, 0.6851807236671448], 'val_auc_1': [0.687960684299469, 0.7140695452690125, 0.7234228253364563, 0.7288111448287964, 0.7294606566429138, 0.7347472310066223, 0.7316567301750183, 0.7355509996414185, 0.7367410063743591, 0.7376395463943481]}\n"
          ],
          "name": "stdout"
        }
      ]
    },
    {
      "cell_type": "code",
      "metadata": {
        "id": "ZHUgeFODaoXq",
        "colab": {
          "base_uri": "https://localhost:8080/"
        },
        "outputId": "96ec4ee0-5623-4c88-cbb7-ddd7c8c28a02"
      },
      "source": [
        "max(H.history['val_auc_1'])"
      ],
      "execution_count": 24,
      "outputs": [
        {
          "output_type": "execute_result",
          "data": {
            "text/plain": [
              "0.7376395463943481"
            ]
          },
          "metadata": {
            "tags": []
          },
          "execution_count": 24
        }
      ]
    },
    {
      "cell_type": "code",
      "metadata": {
        "id": "l2zPeb3dg3et"
      },
      "source": [
        ""
      ],
      "execution_count": null,
      "outputs": []
    }
  ]
}