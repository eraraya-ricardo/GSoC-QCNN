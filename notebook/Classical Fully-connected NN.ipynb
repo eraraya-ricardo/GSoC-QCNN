{
  "nbformat": 4,
  "nbformat_minor": 0,
  "metadata": {
    "colab": {
      "name": "Classical Fully-connected NN",
      "provenance": [],
      "collapsed_sections": []
    },
    "kernelspec": {
      "name": "python3",
      "display_name": "Python 3"
    },
    "language_info": {
      "name": "python"
    },
    "accelerator": "GPU"
  },
  "cells": [
    {
      "cell_type": "code",
      "metadata": {
        "colab": {
          "base_uri": "https://localhost:8080/"
        },
        "id": "3pkWQGK3cpfs",
        "outputId": "4ce89885-ce1e-449f-b4af-421b63e91620"
      },
      "source": [
        "gpu_info = !nvidia-smi\n",
        "gpu_info = '\\n'.join(gpu_info)\n",
        "if gpu_info.find('failed') >= 0:\n",
        "  print('Select the Runtime > \"Change runtime type\" menu to enable a GPU accelerator, ')\n",
        "  print('and then re-execute this cell.')\n",
        "else:\n",
        "  print(gpu_info)"
      ],
      "execution_count": 1,
      "outputs": [
        {
          "output_type": "stream",
          "text": [
            "Fri Jul  9 04:46:54 2021       \n",
            "+-----------------------------------------------------------------------------+\n",
            "| NVIDIA-SMI 470.42.01    Driver Version: 460.32.03    CUDA Version: 11.2     |\n",
            "|-------------------------------+----------------------+----------------------+\n",
            "| GPU  Name        Persistence-M| Bus-Id        Disp.A | Volatile Uncorr. ECC |\n",
            "| Fan  Temp  Perf  Pwr:Usage/Cap|         Memory-Usage | GPU-Util  Compute M. |\n",
            "|                               |                      |               MIG M. |\n",
            "|===============================+======================+======================|\n",
            "|   0  Tesla P100-PCIE...  Off  | 00000000:00:04.0 Off |                    0 |\n",
            "| N/A   39C    P0    28W / 250W |      0MiB / 16280MiB |      0%      Default |\n",
            "|                               |                      |                  N/A |\n",
            "+-------------------------------+----------------------+----------------------+\n",
            "                                                                               \n",
            "+-----------------------------------------------------------------------------+\n",
            "| Processes:                                                                  |\n",
            "|  GPU   GI   CI        PID   Type   Process name                  GPU Memory |\n",
            "|        ID   ID                                                   Usage      |\n",
            "|=============================================================================|\n",
            "|  No running processes found                                                 |\n",
            "+-----------------------------------------------------------------------------+\n"
          ],
          "name": "stdout"
        }
      ]
    },
    {
      "cell_type": "code",
      "metadata": {
        "colab": {
          "base_uri": "https://localhost:8080/"
        },
        "id": "S-mpsuMxcsHD",
        "outputId": "5c2f2514-d9a6-4857-ccfb-b5d1ce6c62d4"
      },
      "source": [
        "from psutil import virtual_memory\n",
        "ram_gb = virtual_memory().total / 1e9\n",
        "print('Your runtime has {:.1f} gigabytes of available RAM\\n'.format(ram_gb))\n",
        "\n",
        "if ram_gb < 20:\n",
        "  print('To enable a high-RAM runtime, select the Runtime > \"Change runtime type\"')\n",
        "  print('menu, and then select High-RAM in the Runtime shape dropdown. Then, ')\n",
        "  print('re-execute this cell.')\n",
        "else:\n",
        "  print('You are using a high-RAM runtime!')"
      ],
      "execution_count": 2,
      "outputs": [
        {
          "output_type": "stream",
          "text": [
            "Your runtime has 13.6 gigabytes of available RAM\n",
            "\n",
            "To enable a high-RAM runtime, select the Runtime > \"Change runtime type\"\n",
            "menu, and then select High-RAM in the Runtime shape dropdown. Then, \n",
            "re-execute this cell.\n"
          ],
          "name": "stdout"
        }
      ]
    },
    {
      "cell_type": "code",
      "metadata": {
        "colab": {
          "base_uri": "https://localhost:8080/"
        },
        "id": "3nwgX29_dtqb",
        "outputId": "7e23e796-87d5-4070-f7b8-444456683e92"
      },
      "source": [
        "from google.colab import drive\n",
        "drive.mount('/content/drive')"
      ],
      "execution_count": 3,
      "outputs": [
        {
          "output_type": "stream",
          "text": [
            "Mounted at /content/drive\n"
          ],
          "name": "stdout"
        }
      ]
    },
    {
      "cell_type": "code",
      "metadata": {
        "id": "Iozh5W3VFySh"
      },
      "source": [
        "import h5py\n",
        "import numpy as np\n",
        "import matplotlib.pyplot as plt\n",
        "\n",
        "import tensorflow as tf\n",
        "from tensorflow.keras.models import Sequential\n",
        "from tensorflow.keras.layers import Dense, Conv2D, Flatten\n",
        "\n",
        "# data preprocessing\n",
        "from sklearn.model_selection import train_test_split\n",
        "from sklearn.preprocessing import StandardScaler\n",
        "from sklearn.decomposition import PCA"
      ],
      "execution_count": 4,
      "outputs": []
    },
    {
      "cell_type": "markdown",
      "metadata": {
        "id": "zsbKFXN4NlDM"
      },
      "source": [
        "# Checking the Dataset"
      ]
    },
    {
      "cell_type": "markdown",
      "metadata": {
        "id": "4WmPnxEwOD02"
      },
      "source": [
        "py = 0, ey = 1"
      ]
    },
    {
      "cell_type": "code",
      "metadata": {
        "colab": {
          "base_uri": "https://localhost:8080/"
        },
        "id": "1qsYK7W1cWPh",
        "outputId": "2c4a81f9-1236-43af-8846-4bbc70f17a6b"
      },
      "source": [
        "with h5py.File(\"/content/drive/My Drive/Projects/GSoC 2021/electron-photon-dataset/photon.hdf5\", \"r\") as f:\n",
        "  px = np.asarray(f['X'][()], dtype=np.float32)\n",
        "  py = np.asarray(f['y'][()], dtype=np.float32)\n",
        "  print(\"Loaded photon dataset!\")\n",
        "\n",
        "with h5py.File(\"/content/drive/My Drive/Projects/GSoC 2021/electron-photon-dataset/electron.hdf5\", \"r\") as f:\n",
        "  ex = np.asarray(f['X'][()], dtype=np.float32)\n",
        "  ey = np.asarray(f['y'][()], dtype=np.float32)\n",
        "  print(\"Loaded electron dataset!\")\n",
        "\n",
        "print(\"Photon dataset shape:\", px.shape, py.shape)\n",
        "print(\"Electron dataset shape:\", ex.shape, ey.shape)"
      ],
      "execution_count": 12,
      "outputs": [
        {
          "output_type": "stream",
          "text": [
            "Loaded photon dataset!\n",
            "Loaded electron dataset!\n",
            "Photon dataset shape: (249000, 32, 32, 2) (249000,)\n",
            "Electron dataset shape: (249000, 32, 32, 2) (249000,)\n"
          ],
          "name": "stdout"
        }
      ]
    },
    {
      "cell_type": "code",
      "metadata": {
        "colab": {
          "base_uri": "https://localhost:8080/"
        },
        "id": "cJ4R_15ica0O",
        "outputId": "47812f44-6109-478e-9dfe-5e5506e2ca95"
      },
      "source": [
        "max_photon, min_photon = np.max(px[:, :, :, 0]), np.min(px[:, :, :, 0])\n",
        "max_electron, min_electron = np.max(ex[:, :, :, 0]), np.min(ex[:, :, :, 0])\n",
        "\n",
        "print(max_photon, min_photon)\n",
        "print(max_electron, min_electron)\n",
        "max(max_photon, abs(min_photon), max_electron, abs(min_electron))"
      ],
      "execution_count": 13,
      "outputs": [
        {
          "output_type": "stream",
          "text": [
            "1.4849443 0.0\n",
            "1.431813 0.0\n"
          ],
          "name": "stdout"
        },
        {
          "output_type": "execute_result",
          "data": {
            "text/plain": [
              "1.4849443"
            ]
          },
          "metadata": {
            "tags": []
          },
          "execution_count": 13
        }
      ]
    },
    {
      "cell_type": "code",
      "metadata": {
        "colab": {
          "base_uri": "https://localhost:8080/"
        },
        "id": "8CSIS2fqca6B",
        "outputId": "8c3affef-bd1f-4f18-833d-ce548d05ed1d"
      },
      "source": [
        "#sample_size = 10000\n",
        "\n",
        "X = np.concatenate((px[:, :, :, 0], ex[:, :, :, 0]), axis=0)\n",
        "y = np.concatenate((py[:], ey[:]), axis=0)\n",
        "\n",
        "#_, X, _, y = train_test_split(X, y, test_size=sample_size, random_state=88)\n",
        "\n",
        "print(X.shape, y.shape)"
      ],
      "execution_count": 14,
      "outputs": [
        {
          "output_type": "stream",
          "text": [
            "(498000, 32, 32) (498000,)\n"
          ],
          "name": "stdout"
        }
      ]
    },
    {
      "cell_type": "code",
      "metadata": {
        "colab": {
          "base_uri": "https://localhost:8080/"
        },
        "id": "_JYrzo8CceEx",
        "outputId": "0c72d335-3989-44d7-a78a-0ae4c151564a"
      },
      "source": [
        "print(\"Proton:\", np.argmax(np.mean(px[:, :, :, 0], axis=0)))\n",
        "print(\"Electron:\", np.argmax(np.mean(ex[:, :, :, 0], axis=0)))"
      ],
      "execution_count": 15,
      "outputs": [
        {
          "output_type": "stream",
          "text": [
            "Proton: 528\n",
            "Electron: 528\n"
          ],
          "name": "stdout"
        }
      ]
    },
    {
      "cell_type": "code",
      "metadata": {
        "colab": {
          "base_uri": "https://localhost:8080/"
        },
        "id": "L0KB04LCchjw",
        "outputId": "c9d62b23-2b40-447f-fa73-9aca2ddec7cc"
      },
      "source": [
        "center = [int(528/32), 528%32]\n",
        "\n",
        "img_size = 8\n",
        "\n",
        "X = X[:, (center[0]-int(img_size/2)):(center[0]+int(img_size/2)), (center[1]-int(img_size/2)):(center[1]+int(img_size/2))]\n",
        "X.shape"
      ],
      "execution_count": 16,
      "outputs": [
        {
          "output_type": "execute_result",
          "data": {
            "text/plain": [
              "(498000, 8, 8)"
            ]
          },
          "metadata": {
            "tags": []
          },
          "execution_count": 16
        }
      ]
    },
    {
      "cell_type": "code",
      "metadata": {
        "colab": {
          "base_uri": "https://localhost:8080/",
          "height": 319
        },
        "id": "j86e1idnchnT",
        "outputId": "ea2549cc-3920-4ac7-9400-903e99b87016"
      },
      "source": [
        "x_train, x_test, y_train, y_test = train_test_split(X, y, test_size=0.15, random_state=2021)\n",
        "\n",
        "scaler = StandardScaler()\n",
        "scaler.fit(x_train.reshape(-1, img_size*img_size))\n",
        "x_train = scaler.transform(x_train.reshape(-1, img_size*img_size))\n",
        "x_train = x_train.reshape(-1, img_size, img_size)\n",
        "y_train = tf.keras.utils.to_categorical(y_train)\n",
        "\n",
        "x_test = scaler.transform(x_test.reshape(-1, img_size*img_size))\n",
        "x_test = x_test.reshape(-1, img_size, img_size)\n",
        "y_test = tf.keras.utils.to_categorical(y_test)\n",
        "\n",
        "print(\"Train set shape:\", x_train.shape, y_train.shape)\n",
        "print(\"Test set shape:\", x_test.shape, y_test.shape)\n",
        "\n",
        "plt.plot(scaler.scale_)"
      ],
      "execution_count": 17,
      "outputs": [
        {
          "output_type": "stream",
          "text": [
            "Train set shape: (423300, 8, 8) (423300, 2)\n",
            "Test set shape: (74700, 8, 8) (74700, 2)\n"
          ],
          "name": "stdout"
        },
        {
          "output_type": "execute_result",
          "data": {
            "text/plain": [
              "[<matplotlib.lines.Line2D at 0x7f0c8237e990>]"
            ]
          },
          "metadata": {
            "tags": []
          },
          "execution_count": 17
        },
        {
          "output_type": "display_data",
          "data": {
            "image/png": "[encoded data removed]",
            "text/plain": [
              "<Figure size 432x288 with 1 Axes>"
            ]
          },
          "metadata": {
            "tags": [],
            "needs_background": "light"
          }
        }
      ]
    },
    {
      "cell_type": "code",
      "metadata": {
        "colab": {
          "base_uri": "https://localhost:8080/"
        },
        "id": "HIdtLT2IeZxG",
        "outputId": "c5d34a2e-48c6-443d-cae5-37faa4fb4408"
      },
      "source": [
        "# final reshape to flatten the image\n",
        "\n",
        "x_train = x_train.reshape([-1,64])\n",
        "x_test = x_test.reshape([-1,64])\n",
        "\n",
        "print(\"Train set shape:\", x_train.shape, y_train.shape)\n",
        "print(\"Test set shape:\", x_test.shape, y_test.shape)"
      ],
      "execution_count": 18,
      "outputs": [
        {
          "output_type": "stream",
          "text": [
            "Train set shape: (423300, 64) (423300, 2)\n",
            "Test set shape: (74700, 64) (74700, 2)\n"
          ],
          "name": "stdout"
        }
      ]
    },
    {
      "cell_type": "markdown",
      "metadata": {
        "id": "BU64viyqfcJ6"
      },
      "source": [
        "# Model Training"
      ]
    },
    {
      "cell_type": "code",
      "metadata": {
        "id": "fSTT6TnLfeP-"
      },
      "source": [
        "def lr_schedule(epoch):\n",
        "    \"\"\"Learning Rate Schedule\n",
        "\n",
        "    Learning rate is scheduled to be reduced after 80, 120, 160, 180 epochs.\n",
        "    Called automatically every epoch as part of callbacks during training.\n",
        "\n",
        "    # Arguments\n",
        "        epoch (int): The number of epochs\n",
        "\n",
        "    # Returns\n",
        "        lr (float32): learning rate\n",
        "    \"\"\"\n",
        "    lr = 1e-3\n",
        "    if epoch > 180:\n",
        "        lr *= 0.5e-3\n",
        "    elif epoch > 160:\n",
        "        lr *= 1e-3\n",
        "    elif epoch > 120:\n",
        "        lr *= 1e-2\n",
        "    elif epoch > 80:\n",
        "        lr *= 1e-1\n",
        "    print('Learning rate: ', lr)\n",
        "    return lr"
      ],
      "execution_count": 19,
      "outputs": []
    },
    {
      "cell_type": "code",
      "metadata": {
        "colab": {
          "base_uri": "https://localhost:8080/"
        },
        "id": "pCIGOYshfhQv",
        "outputId": "36366247-772a-4a00-9d13-734e6ef1d3ab"
      },
      "source": [
        "# Training parameters\n",
        "BATCH_SIZE = 128  # orig paper trained all networks with batch_size=128\n",
        "EPOCHS = 200 # 200\n",
        "\n",
        "# Print parameters for sanity check\n",
        "print(\"Batch size, epochs:\", BATCH_SIZE, EPOCHS)"
      ],
      "execution_count": 20,
      "outputs": [
        {
          "output_type": "stream",
          "text": [
            "Batch size, epochs: 128 200\n"
          ],
          "name": "stdout"
        }
      ]
    },
    {
      "cell_type": "markdown",
      "metadata": {
        "id": "iOxPw4IzWb1l"
      },
      "source": [
        "# Classical Fully-connected NN"
      ]
    },
    {
      "cell_type": "code",
      "metadata": {
        "id": "5oZE31FGSVXq"
      },
      "source": [
        "model = tf.keras.models.Sequential()\n",
        "model.add(tf.keras.layers.Dense(3, activation='relu', input_shape=(64,)))\n",
        "model.add(tf.keras.layers.Dense(2, activation='softmax'))"
      ],
      "execution_count": 35,
      "outputs": []
    },
    {
      "cell_type": "code",
      "metadata": {
        "colab": {
          "base_uri": "https://localhost:8080/"
        },
        "id": "NC60qaRCmSCo",
        "outputId": "f4d37a06-d205-4bd3-983c-d40ba41bd808"
      },
      "source": [
        "model.summary()"
      ],
      "execution_count": 36,
      "outputs": [
        {
          "output_type": "stream",
          "text": [
            "Model: \"sequential_8\"\n",
            "_________________________________________________________________\n",
            "Layer (type)                 Output Shape              Param #   \n",
            "=================================================================\n",
            "dense_18 (Dense)             (None, 3)                 195       \n",
            "_________________________________________________________________\n",
            "dense_19 (Dense)             (None, 2)                 8         \n",
            "=================================================================\n",
            "Total params: 203\n",
            "Trainable params: 203\n",
            "Non-trainable params: 0\n",
            "_________________________________________________________________\n"
          ],
          "name": "stdout"
        }
      ]
    },
    {
      "cell_type": "code",
      "metadata": {
        "id": "HAsZYMZLX1wJ",
        "colab": {
          "base_uri": "https://localhost:8080/"
        },
        "outputId": "5419799a-619f-49ea-955d-1895f5c56514"
      },
      "source": [
        "opt_adam = tf.keras.optimizers.Adam(learning_rate=lr_schedule(0))\n",
        "\n",
        "model.compile(loss='categorical_crossentropy',\n",
        "              optimizer=opt_adam,\n",
        "              metrics=['accuracy', tf.keras.metrics.AUC()])"
      ],
      "execution_count": 37,
      "outputs": [
        {
          "output_type": "stream",
          "text": [
            "Learning rate:  0.001\n"
          ],
          "name": "stdout"
        }
      ]
    },
    {
      "cell_type": "code",
      "metadata": {
        "colab": {
          "base_uri": "https://localhost:8080/"
        },
        "id": "vmfp8AypX_tm",
        "outputId": "90faea2e-6daf-4975-9005-d83e383345b1"
      },
      "source": [
        "import time\n",
        "#start_time = time.time()\n",
        "\n",
        "last_epoch = 0\n",
        "\n",
        "H = model.fit(x_train, y_train, initial_epoch=last_epoch,\n",
        "              batch_size=BATCH_SIZE,\n",
        "              epochs=10,\n",
        "              validation_data=(x_test, y_test),\n",
        "              shuffle=True,\n",
        "              #callbacks=callbacks\n",
        "              )\n",
        "\n",
        "print(H.history)"
      ],
      "execution_count": 38,
      "outputs": [
        {
          "output_type": "stream",
          "text": [
            "Epoch 1/10\n",
            "3308/3308 [==============================] - 12s 3ms/step - loss: 0.6675 - accuracy: 0.6047 - auc: 0.6414 - val_loss: 0.6479 - val_accuracy: 0.6242 - val_auc: 0.6697\n",
            "Epoch 2/10\n",
            "3308/3308 [==============================] - 10s 3ms/step - loss: 0.6444 - accuracy: 0.6277 - auc: 0.6756 - val_loss: 0.6420 - val_accuracy: 0.6307 - val_auc: 0.6798\n",
            "Epoch 3/10\n",
            "3308/3308 [==============================] - 10s 3ms/step - loss: 0.6412 - accuracy: 0.6319 - auc: 0.6809 - val_loss: 0.6398 - val_accuracy: 0.6337 - val_auc: 0.6833\n",
            "Epoch 4/10\n",
            "3308/3308 [==============================] - 10s 3ms/step - loss: 0.6398 - accuracy: 0.6328 - auc: 0.6834 - val_loss: 0.6387 - val_accuracy: 0.6344 - val_auc: 0.6852\n",
            "Epoch 5/10\n",
            "3308/3308 [==============================] - 10s 3ms/step - loss: 0.6388 - accuracy: 0.6350 - auc: 0.6849 - val_loss: 0.6380 - val_accuracy: 0.6361 - val_auc: 0.6864\n",
            "Epoch 6/10\n",
            "3308/3308 [==============================] - 10s 3ms/step - loss: 0.6381 - accuracy: 0.6360 - auc: 0.6861 - val_loss: 0.6377 - val_accuracy: 0.6359 - val_auc: 0.6865\n",
            "Epoch 7/10\n",
            "3308/3308 [==============================] - 10s 3ms/step - loss: 0.6375 - accuracy: 0.6362 - auc: 0.6871 - val_loss: 0.6370 - val_accuracy: 0.6365 - val_auc: 0.6883\n",
            "Epoch 8/10\n",
            "3308/3308 [==============================] - 10s 3ms/step - loss: 0.6371 - accuracy: 0.6361 - auc: 0.6878 - val_loss: 0.6364 - val_accuracy: 0.6363 - val_auc: 0.6893\n",
            "Epoch 9/10\n",
            "3308/3308 [==============================] - 10s 3ms/step - loss: 0.6368 - accuracy: 0.6369 - auc: 0.6886 - val_loss: 0.6359 - val_accuracy: 0.6380 - val_auc: 0.6900\n",
            "Epoch 10/10\n",
            "3308/3308 [==============================] - 10s 3ms/step - loss: 0.6365 - accuracy: 0.6379 - auc: 0.6891 - val_loss: 0.6352 - val_accuracy: 0.6397 - val_auc: 0.6914\n",
            "{'loss': [0.6674689650535583, 0.6443865895271301, 0.6412023901939392, 0.6397536993026733, 0.6387659907341003, 0.6380649209022522, 0.6374927759170532, 0.6371363401412964, 0.6367723941802979, 0.6364786624908447], 'accuracy': [0.604712963104248, 0.6277273893356323, 0.6318639516830444, 0.6328466534614563, 0.6350058913230896, 0.6359532475471497, 0.6361941695213318, 0.6361398696899414, 0.6368910670280457, 0.6378573179244995], 'auc': [0.6414374113082886, 0.6756101250648499, 0.6809305548667908, 0.6833699345588684, 0.6849414706230164, 0.6861438751220703, 0.6871395707130432, 0.6877816915512085, 0.6885539889335632, 0.6891418099403381], 'val_loss': [0.647907018661499, 0.6419529914855957, 0.6398205757141113, 0.6387432813644409, 0.6379798650741577, 0.6376687288284302, 0.6369938850402832, 0.6364420652389526, 0.6359493136405945, 0.6351991891860962], 'val_accuracy': [0.624190092086792, 0.630669355392456, 0.6337215304374695, 0.6344310641288757, 0.6360508799552917, 0.6358768343925476, 0.6365327835083008, 0.636345386505127, 0.6380053758621216, 0.6396921277046204], 'val_auc': [0.6696751713752747, 0.6797692179679871, 0.6833471059799194, 0.6851804852485657, 0.6864362955093384, 0.6864776611328125, 0.6882871985435486, 0.6893495321273804, 0.6900450587272644, 0.6913571953773499]}\n"
          ],
          "name": "stdout"
        }
      ]
    },
    {
      "cell_type": "code",
      "metadata": {
        "colab": {
          "base_uri": "https://localhost:8080/"
        },
        "id": "_ceqouOtnN2z",
        "outputId": "14cc87aa-d64e-48f9-d0af-1af687ce3572"
      },
      "source": [
        "max(H.history['val_auc'])"
      ],
      "execution_count": 39,
      "outputs": [
        {
          "output_type": "execute_result",
          "data": {
            "text/plain": [
              "0.6913571953773499"
            ]
          },
          "metadata": {
            "tags": []
          },
          "execution_count": 39
        }
      ]
    },
    {
      "cell_type": "code",
      "metadata": {
        "id": "mXJexoqSoE2a"
      },
      "source": [
        ""
      ],
      "execution_count": null,
      "outputs": []
    }
  ]
}